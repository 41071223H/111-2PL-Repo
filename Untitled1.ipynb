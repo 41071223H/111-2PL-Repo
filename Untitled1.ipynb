{
 "cells": [
  {
   "cell_type": "code",
   "execution_count": 7,
   "id": "749995b8",
   "metadata": {
    "scrolled": true
   },
   "outputs": [
    {
     "ename": "SyntaxError",
     "evalue": "invalid syntax (798156501.py, line 1)",
     "output_type": "error",
     "traceback": [
      "\u001b[1;36m  File \u001b[1;32m\"C:\\Users\\User\\AppData\\Local\\Temp\\ipykernel_31128\\798156501.py\"\u001b[1;36m, line \u001b[1;32m1\u001b[0m\n\u001b[1;33m    easy_install jieba\u001b[0m\n\u001b[1;37m                 ^\u001b[0m\n\u001b[1;31mSyntaxError\u001b[0m\u001b[1;31m:\u001b[0m invalid syntax\n"
     ]
    }
   ],
   "source": [
    "import urllib.request as req\n",
    "import requests\n",
    "import json\n",
    "import pandas as pd\n",
    "import numpy as np\n",
    "import time\n",
    "from time import sleep \n",
    "from bs4 import BeautifulSoup\n",
    "import jieba\n",
    "import jieba.analyse\n",
    "\n",
    "#抓取的網站\n",
    "url = 'https://www.ptt.cc/bbs/car/M.1647286984.A.DD2.html'"
   ]
  },
  {
   "cell_type": "code",
   "execution_count": null,
   "id": "e47369a4",
   "metadata": {},
   "outputs": [],
   "source": [
    "request = req.Request(url, headers = {\n",
    "    \"User-Agent\":'Mozilla/5.0 (Windows NT 10.0; Win64; x64) AppleWebKit/537.36 (KHTML, like Gecko) Chrome/106.0.0.0 Safari/537.36'\n",
    "})\n",
    "\n",
    "with req.urlopen(request) as response:\n",
    "    data = response.read().decode(\"utf-8\")"
   ]
  },
  {
   "cell_type": "code",
   "execution_count": null,
   "id": "273f0a3c",
   "metadata": {},
   "outputs": [],
   "source": [
    "res = requests.get(url, verify=False)\n",
    "res"
   ]
  },
  {
   "cell_type": "code",
   "execution_count": null,
   "id": "d3def07f",
   "metadata": {},
   "outputs": [],
   "source": [
    "root=bs4.BeautifulSoup(data, \"html.parser\")\n",
    "articles = root.find_all('div', 'push')\n",
    "for article in articles:\n",
    "    messages = article.find('span', 'f3 push-content').getText()\n",
    "    \n",
    "temp = []\n",
    "for article in articles:\n",
    "    messages = article.find('span', 'f3 push-content').getText()\n",
    "    temp.append(messages)\n",
    "    \n",
    "df = pd.DataFrame(temp)\n",
    "df.head(10)"
   ]
  },
  {
   "cell_type": "code",
   "execution_count": null,
   "id": "2bc624f1",
   "metadata": {},
   "outputs": [],
   "source": [
    "type(df)"
   ]
  },
  {
   "cell_type": "code",
   "execution_count": null,
   "id": "af77840d",
   "metadata": {
    "scrolled": true
   },
   "outputs": [],
   "source": [
    "#文字探勘\n",
    "\n",
    "import pandas as pd\n",
    "import numpy as np\n",
    "from collections import Counter"
   ]
  },
  {
   "cell_type": "code",
   "execution_count": null,
   "id": "c4427c91",
   "metadata": {},
   "outputs": [],
   "source": [
    "# 測試結巴功能\n",
    "documents = [\"我是師大Jisoo\"]\n",
    "# 精確模式\n",
    "for sentence in documents:\n",
    "    seg_list = jieba.lcut(sentence)\n",
    "    print('/'.join(seg_list))"
   ]
  },
  {
   "cell_type": "code",
   "execution_count": null,
   "id": "d9cb369b",
   "metadata": {},
   "outputs": [],
   "source": []
  }
 ],
 "metadata": {
  "kernelspec": {
   "display_name": "Python 3 (ipykernel)",
   "language": "python",
   "name": "python3"
  },
  "language_info": {
   "codemirror_mode": {
    "name": "ipython",
    "version": 3
   },
   "file_extension": ".py",
   "mimetype": "text/x-python",
   "name": "python",
   "nbconvert_exporter": "python",
   "pygments_lexer": "ipython3",
   "version": "3.9.13"
  }
 },
 "nbformat": 4,
 "nbformat_minor": 5
}
