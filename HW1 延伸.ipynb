{
 "cells": [
  {
   "cell_type": "code",
   "execution_count": 1,
   "id": "af76f0af",
   "metadata": {
    "scrolled": false
   },
   "outputs": [
    {
     "data": {
      "text/html": [
       "<div>\n",
       "<style scoped>\n",
       "    .dataframe tbody tr th:only-of-type {\n",
       "        vertical-align: middle;\n",
       "    }\n",
       "\n",
       "    .dataframe tbody tr th {\n",
       "        vertical-align: top;\n",
       "    }\n",
       "\n",
       "    .dataframe thead th {\n",
       "        text-align: right;\n",
       "    }\n",
       "</style>\n",
       "<table border=\"1\" class=\"dataframe\">\n",
       "  <thead>\n",
       "    <tr style=\"text-align: right;\">\n",
       "      <th></th>\n",
       "      <th>Density</th>\n",
       "      <th>BodyFat</th>\n",
       "      <th>Age</th>\n",
       "      <th>Weight</th>\n",
       "      <th>Height</th>\n",
       "      <th>Neck</th>\n",
       "      <th>Chest</th>\n",
       "      <th>Abdomen</th>\n",
       "      <th>Hip</th>\n",
       "      <th>Thigh</th>\n",
       "      <th>Knee</th>\n",
       "      <th>Ankle</th>\n",
       "      <th>Biceps</th>\n",
       "      <th>Forearm</th>\n",
       "      <th>Wrist</th>\n",
       "    </tr>\n",
       "  </thead>\n",
       "  <tbody>\n",
       "    <tr>\n",
       "      <th>0</th>\n",
       "      <td>1.0708</td>\n",
       "      <td>12.3</td>\n",
       "      <td>23</td>\n",
       "      <td>154.25</td>\n",
       "      <td>67.75</td>\n",
       "      <td>36.2</td>\n",
       "      <td>93.1</td>\n",
       "      <td>85.2</td>\n",
       "      <td>94.5</td>\n",
       "      <td>59.0</td>\n",
       "      <td>37.3</td>\n",
       "      <td>21.9</td>\n",
       "      <td>32.0</td>\n",
       "      <td>27.4</td>\n",
       "      <td>17.1</td>\n",
       "    </tr>\n",
       "    <tr>\n",
       "      <th>1</th>\n",
       "      <td>1.0853</td>\n",
       "      <td>6.1</td>\n",
       "      <td>22</td>\n",
       "      <td>173.25</td>\n",
       "      <td>72.25</td>\n",
       "      <td>38.5</td>\n",
       "      <td>93.6</td>\n",
       "      <td>83.0</td>\n",
       "      <td>98.7</td>\n",
       "      <td>58.7</td>\n",
       "      <td>37.3</td>\n",
       "      <td>23.4</td>\n",
       "      <td>30.5</td>\n",
       "      <td>28.9</td>\n",
       "      <td>18.2</td>\n",
       "    </tr>\n",
       "    <tr>\n",
       "      <th>2</th>\n",
       "      <td>1.0414</td>\n",
       "      <td>25.3</td>\n",
       "      <td>22</td>\n",
       "      <td>154.00</td>\n",
       "      <td>66.25</td>\n",
       "      <td>34.0</td>\n",
       "      <td>95.8</td>\n",
       "      <td>87.9</td>\n",
       "      <td>99.2</td>\n",
       "      <td>59.6</td>\n",
       "      <td>38.9</td>\n",
       "      <td>24.0</td>\n",
       "      <td>28.8</td>\n",
       "      <td>25.2</td>\n",
       "      <td>16.6</td>\n",
       "    </tr>\n",
       "    <tr>\n",
       "      <th>3</th>\n",
       "      <td>1.0751</td>\n",
       "      <td>10.4</td>\n",
       "      <td>26</td>\n",
       "      <td>184.75</td>\n",
       "      <td>72.25</td>\n",
       "      <td>37.4</td>\n",
       "      <td>101.8</td>\n",
       "      <td>86.4</td>\n",
       "      <td>101.2</td>\n",
       "      <td>60.1</td>\n",
       "      <td>37.3</td>\n",
       "      <td>22.8</td>\n",
       "      <td>32.4</td>\n",
       "      <td>29.4</td>\n",
       "      <td>18.2</td>\n",
       "    </tr>\n",
       "    <tr>\n",
       "      <th>4</th>\n",
       "      <td>1.0340</td>\n",
       "      <td>28.7</td>\n",
       "      <td>24</td>\n",
       "      <td>184.25</td>\n",
       "      <td>71.25</td>\n",
       "      <td>34.4</td>\n",
       "      <td>97.3</td>\n",
       "      <td>100.0</td>\n",
       "      <td>101.9</td>\n",
       "      <td>63.2</td>\n",
       "      <td>42.2</td>\n",
       "      <td>24.0</td>\n",
       "      <td>32.2</td>\n",
       "      <td>27.7</td>\n",
       "      <td>17.7</td>\n",
       "    </tr>\n",
       "  </tbody>\n",
       "</table>\n",
       "</div>"
      ],
      "text/plain": [
       "   Density  BodyFat  Age  Weight  Height  Neck  Chest  Abdomen    Hip  Thigh  \\\n",
       "0   1.0708     12.3   23  154.25   67.75  36.2   93.1     85.2   94.5   59.0   \n",
       "1   1.0853      6.1   22  173.25   72.25  38.5   93.6     83.0   98.7   58.7   \n",
       "2   1.0414     25.3   22  154.00   66.25  34.0   95.8     87.9   99.2   59.6   \n",
       "3   1.0751     10.4   26  184.75   72.25  37.4  101.8     86.4  101.2   60.1   \n",
       "4   1.0340     28.7   24  184.25   71.25  34.4   97.3    100.0  101.9   63.2   \n",
       "\n",
       "   Knee  Ankle  Biceps  Forearm  Wrist  \n",
       "0  37.3   21.9    32.0     27.4   17.1  \n",
       "1  37.3   23.4    30.5     28.9   18.2  \n",
       "2  38.9   24.0    28.8     25.2   16.6  \n",
       "3  37.3   22.8    32.4     29.4   18.2  \n",
       "4  42.2   24.0    32.2     27.7   17.7  "
      ]
     },
     "execution_count": 1,
     "metadata": {},
     "output_type": "execute_result"
    }
   ],
   "source": [
    "import pandas as pd\n",
    "data = pd.read_csv('bodyfat.csv')\n",
    "data.head()"
   ]
  },
  {
   "cell_type": "code",
   "execution_count": 2,
   "id": "9da15021",
   "metadata": {
    "scrolled": false
   },
   "outputs": [
    {
     "data": {
      "text/html": [
       "<div>\n",
       "<style scoped>\n",
       "    .dataframe tbody tr th:only-of-type {\n",
       "        vertical-align: middle;\n",
       "    }\n",
       "\n",
       "    .dataframe tbody tr th {\n",
       "        vertical-align: top;\n",
       "    }\n",
       "\n",
       "    .dataframe thead th {\n",
       "        text-align: right;\n",
       "    }\n",
       "</style>\n",
       "<table border=\"1\" class=\"dataframe\">\n",
       "  <thead>\n",
       "    <tr style=\"text-align: right;\">\n",
       "      <th></th>\n",
       "      <th>mean</th>\n",
       "      <th>std</th>\n",
       "      <th>median</th>\n",
       "    </tr>\n",
       "    <tr>\n",
       "      <th>Age</th>\n",
       "      <th></th>\n",
       "      <th></th>\n",
       "      <th></th>\n",
       "    </tr>\n",
       "  </thead>\n",
       "  <tbody>\n",
       "    <tr>\n",
       "      <th>22</th>\n",
       "      <td>15.700000</td>\n",
       "      <td>13.576450</td>\n",
       "      <td>15.70</td>\n",
       "    </tr>\n",
       "    <tr>\n",
       "      <th>23</th>\n",
       "      <td>10.925000</td>\n",
       "      <td>1.317510</td>\n",
       "      <td>11.00</td>\n",
       "    </tr>\n",
       "    <tr>\n",
       "      <th>24</th>\n",
       "      <td>20.750000</td>\n",
       "      <td>6.014704</td>\n",
       "      <td>20.05</td>\n",
       "    </tr>\n",
       "    <tr>\n",
       "      <th>25</th>\n",
       "      <td>12.850000</td>\n",
       "      <td>11.752021</td>\n",
       "      <td>8.85</td>\n",
       "    </tr>\n",
       "    <tr>\n",
       "      <th>26</th>\n",
       "      <td>15.150000</td>\n",
       "      <td>7.178231</td>\n",
       "      <td>14.80</td>\n",
       "    </tr>\n",
       "    <tr>\n",
       "      <th>27</th>\n",
       "      <td>10.657143</td>\n",
       "      <td>6.425174</td>\n",
       "      <td>10.10</td>\n",
       "    </tr>\n",
       "    <tr>\n",
       "      <th>28</th>\n",
       "      <td>17.542857</td>\n",
       "      <td>6.662296</td>\n",
       "      <td>16.00</td>\n",
       "    </tr>\n",
       "    <tr>\n",
       "      <th>29</th>\n",
       "      <td>7.250000</td>\n",
       "      <td>2.192031</td>\n",
       "      <td>7.25</td>\n",
       "    </tr>\n",
       "    <tr>\n",
       "      <th>30</th>\n",
       "      <td>16.850000</td>\n",
       "      <td>6.151829</td>\n",
       "      <td>16.85</td>\n",
       "    </tr>\n",
       "    <tr>\n",
       "      <th>31</th>\n",
       "      <td>17.600000</td>\n",
       "      <td>6.411968</td>\n",
       "      <td>19.05</td>\n",
       "    </tr>\n",
       "    <tr>\n",
       "      <th>32</th>\n",
       "      <td>18.325000</td>\n",
       "      <td>4.786352</td>\n",
       "      <td>19.25</td>\n",
       "    </tr>\n",
       "    <tr>\n",
       "      <th>33</th>\n",
       "      <td>14.700000</td>\n",
       "      <td>1.752142</td>\n",
       "      <td>14.60</td>\n",
       "    </tr>\n",
       "    <tr>\n",
       "      <th>34</th>\n",
       "      <td>19.825000</td>\n",
       "      <td>10.076168</td>\n",
       "      <td>21.20</td>\n",
       "    </tr>\n",
       "    <tr>\n",
       "      <th>35</th>\n",
       "      <td>17.930000</td>\n",
       "      <td>9.688602</td>\n",
       "      <td>20.40</td>\n",
       "    </tr>\n",
       "    <tr>\n",
       "      <th>36</th>\n",
       "      <td>21.100000</td>\n",
       "      <td>5.939697</td>\n",
       "      <td>21.10</td>\n",
       "    </tr>\n",
       "    <tr>\n",
       "      <th>37</th>\n",
       "      <td>17.633333</td>\n",
       "      <td>10.743060</td>\n",
       "      <td>13.10</td>\n",
       "    </tr>\n",
       "    <tr>\n",
       "      <th>38</th>\n",
       "      <td>16.050000</td>\n",
       "      <td>9.121677</td>\n",
       "      <td>16.05</td>\n",
       "    </tr>\n",
       "    <tr>\n",
       "      <th>39</th>\n",
       "      <td>15.720000</td>\n",
       "      <td>8.992608</td>\n",
       "      <td>16.90</td>\n",
       "    </tr>\n",
       "    <tr>\n",
       "      <th>40</th>\n",
       "      <td>16.411765</td>\n",
       "      <td>7.284391</td>\n",
       "      <td>17.50</td>\n",
       "    </tr>\n",
       "    <tr>\n",
       "      <th>41</th>\n",
       "      <td>23.040000</td>\n",
       "      <td>6.061023</td>\n",
       "      <td>22.45</td>\n",
       "    </tr>\n",
       "    <tr>\n",
       "      <th>42</th>\n",
       "      <td>20.050000</td>\n",
       "      <td>9.205581</td>\n",
       "      <td>21.65</td>\n",
       "    </tr>\n",
       "    <tr>\n",
       "      <th>43</th>\n",
       "      <td>21.153846</td>\n",
       "      <td>5.582355</td>\n",
       "      <td>19.70</td>\n",
       "    </tr>\n",
       "    <tr>\n",
       "      <th>44</th>\n",
       "      <td>23.544444</td>\n",
       "      <td>9.563617</td>\n",
       "      <td>25.30</td>\n",
       "    </tr>\n",
       "    <tr>\n",
       "      <th>45</th>\n",
       "      <td>24.050000</td>\n",
       "      <td>14.778532</td>\n",
       "      <td>24.05</td>\n",
       "    </tr>\n",
       "    <tr>\n",
       "      <th>46</th>\n",
       "      <td>20.700000</td>\n",
       "      <td>8.948072</td>\n",
       "      <td>19.15</td>\n",
       "    </tr>\n",
       "    <tr>\n",
       "      <th>47</th>\n",
       "      <td>15.345455</td>\n",
       "      <td>8.728272</td>\n",
       "      <td>10.80</td>\n",
       "    </tr>\n",
       "    <tr>\n",
       "      <th>48</th>\n",
       "      <td>22.580000</td>\n",
       "      <td>6.729562</td>\n",
       "      <td>20.40</td>\n",
       "    </tr>\n",
       "    <tr>\n",
       "      <th>49</th>\n",
       "      <td>20.244444</td>\n",
       "      <td>10.125230</td>\n",
       "      <td>20.40</td>\n",
       "    </tr>\n",
       "    <tr>\n",
       "      <th>50</th>\n",
       "      <td>21.485714</td>\n",
       "      <td>7.822495</td>\n",
       "      <td>19.50</td>\n",
       "    </tr>\n",
       "    <tr>\n",
       "      <th>51</th>\n",
       "      <td>18.100000</td>\n",
       "      <td>16.707932</td>\n",
       "      <td>13.60</td>\n",
       "    </tr>\n",
       "    <tr>\n",
       "      <th>52</th>\n",
       "      <td>23.500000</td>\n",
       "      <td>3.976598</td>\n",
       "      <td>23.90</td>\n",
       "    </tr>\n",
       "    <tr>\n",
       "      <th>53</th>\n",
       "      <td>16.200000</td>\n",
       "      <td>1.697056</td>\n",
       "      <td>16.20</td>\n",
       "    </tr>\n",
       "    <tr>\n",
       "      <th>54</th>\n",
       "      <td>20.312500</td>\n",
       "      <td>9.324842</td>\n",
       "      <td>22.05</td>\n",
       "    </tr>\n",
       "    <tr>\n",
       "      <th>55</th>\n",
       "      <td>14.760000</td>\n",
       "      <td>7.409783</td>\n",
       "      <td>13.20</td>\n",
       "    </tr>\n",
       "    <tr>\n",
       "      <th>56</th>\n",
       "      <td>17.550000</td>\n",
       "      <td>8.931032</td>\n",
       "      <td>15.95</td>\n",
       "    </tr>\n",
       "    <tr>\n",
       "      <th>57</th>\n",
       "      <td>16.950000</td>\n",
       "      <td>10.694079</td>\n",
       "      <td>13.35</td>\n",
       "    </tr>\n",
       "    <tr>\n",
       "      <th>58</th>\n",
       "      <td>20.833333</td>\n",
       "      <td>5.662449</td>\n",
       "      <td>20.40</td>\n",
       "    </tr>\n",
       "    <tr>\n",
       "      <th>60</th>\n",
       "      <td>25.800000</td>\n",
       "      <td>NaN</td>\n",
       "      <td>25.80</td>\n",
       "    </tr>\n",
       "    <tr>\n",
       "      <th>61</th>\n",
       "      <td>20.175000</td>\n",
       "      <td>6.433441</td>\n",
       "      <td>21.55</td>\n",
       "    </tr>\n",
       "    <tr>\n",
       "      <th>62</th>\n",
       "      <td>24.360000</td>\n",
       "      <td>3.523209</td>\n",
       "      <td>24.80</td>\n",
       "    </tr>\n",
       "    <tr>\n",
       "      <th>63</th>\n",
       "      <td>27.300000</td>\n",
       "      <td>NaN</td>\n",
       "      <td>27.30</td>\n",
       "    </tr>\n",
       "    <tr>\n",
       "      <th>64</th>\n",
       "      <td>20.175000</td>\n",
       "      <td>6.219526</td>\n",
       "      <td>20.75</td>\n",
       "    </tr>\n",
       "    <tr>\n",
       "      <th>65</th>\n",
       "      <td>27.300000</td>\n",
       "      <td>9.277392</td>\n",
       "      <td>29.90</td>\n",
       "    </tr>\n",
       "    <tr>\n",
       "      <th>66</th>\n",
       "      <td>24.600000</td>\n",
       "      <td>8.202439</td>\n",
       "      <td>24.60</td>\n",
       "    </tr>\n",
       "    <tr>\n",
       "      <th>67</th>\n",
       "      <td>29.900000</td>\n",
       "      <td>2.660827</td>\n",
       "      <td>30.20</td>\n",
       "    </tr>\n",
       "    <tr>\n",
       "      <th>68</th>\n",
       "      <td>15.200000</td>\n",
       "      <td>NaN</td>\n",
       "      <td>15.20</td>\n",
       "    </tr>\n",
       "    <tr>\n",
       "      <th>69</th>\n",
       "      <td>26.200000</td>\n",
       "      <td>5.656854</td>\n",
       "      <td>26.20</td>\n",
       "    </tr>\n",
       "    <tr>\n",
       "      <th>70</th>\n",
       "      <td>19.000000</td>\n",
       "      <td>11.313708</td>\n",
       "      <td>19.00</td>\n",
       "    </tr>\n",
       "    <tr>\n",
       "      <th>72</th>\n",
       "      <td>26.160000</td>\n",
       "      <td>6.941398</td>\n",
       "      <td>27.00</td>\n",
       "    </tr>\n",
       "    <tr>\n",
       "      <th>74</th>\n",
       "      <td>31.900000</td>\n",
       "      <td>NaN</td>\n",
       "      <td>31.90</td>\n",
       "    </tr>\n",
       "    <tr>\n",
       "      <th>81</th>\n",
       "      <td>21.500000</td>\n",
       "      <td>NaN</td>\n",
       "      <td>21.50</td>\n",
       "    </tr>\n",
       "  </tbody>\n",
       "</table>\n",
       "</div>"
      ],
      "text/plain": [
       "          mean        std  median\n",
       "Age                              \n",
       "22   15.700000  13.576450   15.70\n",
       "23   10.925000   1.317510   11.00\n",
       "24   20.750000   6.014704   20.05\n",
       "25   12.850000  11.752021    8.85\n",
       "26   15.150000   7.178231   14.80\n",
       "27   10.657143   6.425174   10.10\n",
       "28   17.542857   6.662296   16.00\n",
       "29    7.250000   2.192031    7.25\n",
       "30   16.850000   6.151829   16.85\n",
       "31   17.600000   6.411968   19.05\n",
       "32   18.325000   4.786352   19.25\n",
       "33   14.700000   1.752142   14.60\n",
       "34   19.825000  10.076168   21.20\n",
       "35   17.930000   9.688602   20.40\n",
       "36   21.100000   5.939697   21.10\n",
       "37   17.633333  10.743060   13.10\n",
       "38   16.050000   9.121677   16.05\n",
       "39   15.720000   8.992608   16.90\n",
       "40   16.411765   7.284391   17.50\n",
       "41   23.040000   6.061023   22.45\n",
       "42   20.050000   9.205581   21.65\n",
       "43   21.153846   5.582355   19.70\n",
       "44   23.544444   9.563617   25.30\n",
       "45   24.050000  14.778532   24.05\n",
       "46   20.700000   8.948072   19.15\n",
       "47   15.345455   8.728272   10.80\n",
       "48   22.580000   6.729562   20.40\n",
       "49   20.244444  10.125230   20.40\n",
       "50   21.485714   7.822495   19.50\n",
       "51   18.100000  16.707932   13.60\n",
       "52   23.500000   3.976598   23.90\n",
       "53   16.200000   1.697056   16.20\n",
       "54   20.312500   9.324842   22.05\n",
       "55   14.760000   7.409783   13.20\n",
       "56   17.550000   8.931032   15.95\n",
       "57   16.950000  10.694079   13.35\n",
       "58   20.833333   5.662449   20.40\n",
       "60   25.800000        NaN   25.80\n",
       "61   20.175000   6.433441   21.55\n",
       "62   24.360000   3.523209   24.80\n",
       "63   27.300000        NaN   27.30\n",
       "64   20.175000   6.219526   20.75\n",
       "65   27.300000   9.277392   29.90\n",
       "66   24.600000   8.202439   24.60\n",
       "67   29.900000   2.660827   30.20\n",
       "68   15.200000        NaN   15.20\n",
       "69   26.200000   5.656854   26.20\n",
       "70   19.000000  11.313708   19.00\n",
       "72   26.160000   6.941398   27.00\n",
       "74   31.900000        NaN   31.90\n",
       "81   21.500000        NaN   21.50"
      ]
     },
     "execution_count": 2,
     "metadata": {},
     "output_type": "execute_result"
    }
   ],
   "source": [
    "# 以年齡進行 groupby 找出體脂的分布\n",
    "BodyFat_Age = data.groupby('Age')['BodyFat'].agg(['mean', 'std', 'median'])\n",
    "BodyFat_Age"
   ]
  },
  {
   "cell_type": "code",
   "execution_count": 5,
   "id": "12580929",
   "metadata": {},
   "outputs": [
    {
     "data": {
      "application/vnd.plotly.v1+json": {
       "config": {
        "plotlyServerURL": "https://plot.ly"
       },
       "data": [
        {
         "alignmentgroup": "True",
         "box": {
          "visible": true
         },
         "hovertemplate": "BodyFat=%{y}<br>Age=%{x}<extra></extra>",
         "legendgroup": "12.3",
         "marker": {
          "color": "#636efa"
         },
         "name": "12.3",
         "offsetgroup": "12.3",
         "orientation": "v",
         "points": "all",
         "scalegroup": "True",
         "showlegend": true,
         "type": "violin",
         "x": [
          23
         ],
         "x0": " ",
         "xaxis": "x",
         "y": [
          12.3
         ],
         "y0": " ",
         "yaxis": "y"
        },
        {
         "alignmentgroup": "True",
         "box": {
          "visible": true
         },
         "hovertemplate": "BodyFat=%{y}<br>Age=%{x}<extra></extra>",
         "legendgroup": "6.1",
         "marker": {
          "color": "#EF553B"
         },
         "name": "6.1",
         "offsetgroup": "6.1",
         "orientation": "v",
         "points": "all",
         "scalegroup": "True",
         "showlegend": true,
         "type": "violin",
         "x": [
          22
         ],
         "x0": " ",
         "xaxis": "x",
         "y": [
          6.1
         ],
         "y0": " ",
         "yaxis": "y"
        },
        {
         "alignmentgroup": "True",
         "box": {
          "visible": true
         },
         "hovertemplate": "BodyFat=%{y}<br>Age=%{x}<extra></extra>",
         "legendgroup": "25.3",
         "marker": {
          "color": "#00cc96"
         },
         "name": "25.3",
         "offsetgroup": "25.3",
         "orientation": "v",
         "points": "all",
         "scalegroup": "True",
         "showlegend": true,
         "type": "violin",
         "x": [
          22,
          44,
          36
         ],
         "x0": " ",
         "xaxis": "x",
         "y": [
          25.3,
          25.3,
          25.3
         ],
         "y0": " ",
         "yaxis": "y"
        },
        {
         "alignmentgroup": "True",
         "box": {
          "visible": true
         },
         "hovertemplate": "BodyFat=%{y}<br>Age=%{x}<extra></extra>",
         "legendgroup": "10.4",
         "marker": {
          "color": "#ab63fa"
         },
         "name": "10.4",
         "offsetgroup": "10.4",
         "orientation": "v",
         "points": "all",
         "scalegroup": "True",
         "showlegend": true,
         "type": "violin",
         "x": [
          26
         ],
         "x0": " ",
         "xaxis": "x",
         "y": [
          10.4
         ],
         "y0": " ",
         "yaxis": "y"
        },
        {
         "alignmentgroup": "True",
         "box": {
          "visible": true
         },
         "hovertemplate": "BodyFat=%{y}<br>Age=%{x}<extra></extra>",
         "legendgroup": "28.7",
         "marker": {
          "color": "#FFA15A"
         },
         "name": "28.7",
         "offsetgroup": "28.7",
         "orientation": "v",
         "points": "all",
         "scalegroup": "True",
         "showlegend": true,
         "type": "violin",
         "x": [
          24,
          43
         ],
         "x0": " ",
         "xaxis": "x",
         "y": [
          28.7,
          28.7
         ],
         "y0": " ",
         "yaxis": "y"
        },
        {
         "alignmentgroup": "True",
         "box": {
          "visible": true
         },
         "hovertemplate": "BodyFat=%{y}<br>Age=%{x}<extra></extra>",
         "legendgroup": "20.9",
         "marker": {
          "color": "#19d3f3"
         },
         "name": "20.9",
         "offsetgroup": "20.9",
         "orientation": "v",
         "points": "all",
         "scalegroup": "True",
         "showlegend": true,
         "type": "violin",
         "x": [
          24,
          35
         ],
         "x0": " ",
         "xaxis": "x",
         "y": [
          20.9,
          20.9
         ],
         "y0": " ",
         "yaxis": "y"
        },
        {
         "alignmentgroup": "True",
         "box": {
          "visible": true
         },
         "hovertemplate": "BodyFat=%{y}<br>Age=%{x}<extra></extra>",
         "legendgroup": "19.2",
         "marker": {
          "color": "#FF6692"
         },
         "name": "19.2",
         "offsetgroup": "19.2",
         "orientation": "v",
         "points": "all",
         "scalegroup": "True",
         "showlegend": true,
         "type": "violin",
         "x": [
          26,
          24,
          35
         ],
         "x0": " ",
         "xaxis": "x",
         "y": [
          19.2,
          19.2,
          19.2
         ],
         "y0": " ",
         "yaxis": "y"
        },
        {
         "alignmentgroup": "True",
         "box": {
          "visible": true
         },
         "hovertemplate": "BodyFat=%{y}<br>Age=%{x}<extra></extra>",
         "legendgroup": "12.4",
         "marker": {
          "color": "#B6E880"
         },
         "name": "12.4",
         "offsetgroup": "12.4",
         "orientation": "v",
         "points": "all",
         "scalegroup": "True",
         "showlegend": true,
         "type": "violin",
         "x": [
          25,
          54,
          64
         ],
         "x0": " ",
         "xaxis": "x",
         "y": [
          12.4,
          12.4,
          12.4
         ],
         "y0": " ",
         "yaxis": "y"
        },
        {
         "alignmentgroup": "True",
         "box": {
          "visible": true
         },
         "hovertemplate": "BodyFat=%{y}<br>Age=%{x}<extra></extra>",
         "legendgroup": "4.1",
         "marker": {
          "color": "#FF97FF"
         },
         "name": "4.1",
         "offsetgroup": "4.1",
         "orientation": "v",
         "points": "all",
         "scalegroup": "True",
         "showlegend": true,
         "type": "violin",
         "x": [
          25
         ],
         "x0": " ",
         "xaxis": "x",
         "y": [
          4.1
         ],
         "y0": " ",
         "yaxis": "y"
        },
        {
         "alignmentgroup": "True",
         "box": {
          "visible": true
         },
         "hovertemplate": "BodyFat=%{y}<br>Age=%{x}<extra></extra>",
         "legendgroup": "11.7",
         "marker": {
          "color": "#FECB52"
         },
         "name": "11.7",
         "offsetgroup": "11.7",
         "orientation": "v",
         "points": "all",
         "scalegroup": "True",
         "showlegend": true,
         "type": "violin",
         "x": [
          23
         ],
         "x0": " ",
         "xaxis": "x",
         "y": [
          11.7
         ],
         "y0": " ",
         "yaxis": "y"
        },
        {
         "alignmentgroup": "True",
         "box": {
          "visible": true
         },
         "hovertemplate": "BodyFat=%{y}<br>Age=%{x}<extra></extra>",
         "legendgroup": "7.1",
         "marker": {
          "color": "#636efa"
         },
         "name": "7.1",
         "offsetgroup": "7.1",
         "orientation": "v",
         "points": "all",
         "scalegroup": "True",
         "showlegend": true,
         "type": "violin",
         "x": [
          26,
          49
         ],
         "x0": " ",
         "xaxis": "x",
         "y": [
          7.1,
          7.1
         ],
         "y0": " ",
         "yaxis": "y"
        },
        {
         "alignmentgroup": "True",
         "box": {
          "visible": true
         },
         "hovertemplate": "BodyFat=%{y}<br>Age=%{x}<extra></extra>",
         "legendgroup": "7.8",
         "marker": {
          "color": "#EF553B"
         },
         "name": "7.8",
         "offsetgroup": "7.8",
         "orientation": "v",
         "points": "all",
         "scalegroup": "True",
         "showlegend": true,
         "type": "violin",
         "x": [
          27
         ],
         "x0": " ",
         "xaxis": "x",
         "y": [
          7.8
         ],
         "y0": " ",
         "yaxis": "y"
        },
        {
         "alignmentgroup": "True",
         "box": {
          "visible": true
         },
         "hovertemplate": "BodyFat=%{y}<br>Age=%{x}<extra></extra>",
         "legendgroup": "20.8",
         "marker": {
          "color": "#00cc96"
         },
         "name": "20.8",
         "offsetgroup": "20.8",
         "orientation": "v",
         "points": "all",
         "scalegroup": "True",
         "showlegend": true,
         "type": "violin",
         "x": [
          32,
          40
         ],
         "x0": " ",
         "xaxis": "x",
         "y": [
          20.8,
          20.8
         ],
         "y0": " ",
         "yaxis": "y"
        },
        {
         "alignmentgroup": "True",
         "box": {
          "visible": true
         },
         "hovertemplate": "BodyFat=%{y}<br>Age=%{x}<extra></extra>",
         "legendgroup": "21.2",
         "marker": {
          "color": "#ab63fa"
         },
         "name": "21.2",
         "offsetgroup": "21.2",
         "orientation": "v",
         "points": "all",
         "scalegroup": "True",
         "showlegend": true,
         "type": "violin",
         "x": [
          30,
          49
         ],
         "x0": " ",
         "xaxis": "x",
         "y": [
          21.2,
          21.2
         ],
         "y0": " ",
         "yaxis": "y"
        },
        {
         "alignmentgroup": "True",
         "box": {
          "visible": true
         },
         "hovertemplate": "BodyFat=%{y}<br>Age=%{x}<extra></extra>",
         "legendgroup": "22.1",
         "marker": {
          "color": "#FFA15A"
         },
         "name": "22.1",
         "offsetgroup": "22.1",
         "orientation": "v",
         "points": "all",
         "scalegroup": "True",
         "showlegend": true,
         "type": "violin",
         "x": [
          35,
          47,
          43
         ],
         "x0": " ",
         "xaxis": "x",
         "y": [
          22.1,
          22.1,
          22.1
         ],
         "y0": " ",
         "yaxis": "y"
        },
        {
         "alignmentgroup": "True",
         "box": {
          "visible": true
         },
         "hovertemplate": "BodyFat=%{y}<br>Age=%{x}<extra></extra>",
         "legendgroup": "29.0",
         "marker": {
          "color": "#19d3f3"
         },
         "name": "29.0",
         "offsetgroup": "29.0",
         "orientation": "v",
         "points": "all",
         "scalegroup": "True",
         "showlegend": true,
         "type": "violin",
         "x": [
          34,
          67
         ],
         "x0": " ",
         "xaxis": "x",
         "y": [
          29,
          29
         ],
         "y0": " ",
         "yaxis": "y"
        },
        {
         "alignmentgroup": "True",
         "box": {
          "visible": true
         },
         "hovertemplate": "BodyFat=%{y}<br>Age=%{x}<extra></extra>",
         "legendgroup": "22.9",
         "marker": {
          "color": "#FF6692"
         },
         "name": "22.9",
         "offsetgroup": "22.9",
         "orientation": "v",
         "points": "all",
         "scalegroup": "True",
         "showlegend": true,
         "type": "violin",
         "x": [
          32,
          31
         ],
         "x0": " ",
         "xaxis": "x",
         "y": [
          22.9,
          22.9
         ],
         "y0": " ",
         "yaxis": "y"
        },
        {
         "alignmentgroup": "True",
         "box": {
          "visible": true
         },
         "hovertemplate": "BodyFat=%{y}<br>Age=%{x}<extra></extra>",
         "legendgroup": "16.0",
         "marker": {
          "color": "#B6E880"
         },
         "name": "16.0",
         "offsetgroup": "16.0",
         "orientation": "v",
         "points": "all",
         "scalegroup": "True",
         "showlegend": true,
         "type": "violin",
         "x": [
          28,
          47
         ],
         "x0": " ",
         "xaxis": "x",
         "y": [
          16,
          16
         ],
         "y0": " ",
         "yaxis": "y"
        },
        {
         "alignmentgroup": "True",
         "box": {
          "visible": true
         },
         "hovertemplate": "BodyFat=%{y}<br>Age=%{x}<extra></extra>",
         "legendgroup": "16.5",
         "marker": {
          "color": "#FF97FF"
         },
         "name": "16.5",
         "offsetgroup": "16.5",
         "orientation": "v",
         "points": "all",
         "scalegroup": "True",
         "showlegend": true,
         "type": "violin",
         "x": [
          33,
          27,
          35
         ],
         "x0": " ",
         "xaxis": "x",
         "y": [
          16.5,
          16.5,
          16.5
         ],
         "y0": " ",
         "yaxis": "y"
        },
        {
         "alignmentgroup": "True",
         "box": {
          "visible": true
         },
         "hovertemplate": "BodyFat=%{y}<br>Age=%{x}<extra></extra>",
         "legendgroup": "19.1",
         "marker": {
          "color": "#FECB52"
         },
         "name": "19.1",
         "offsetgroup": "19.1",
         "orientation": "v",
         "points": "all",
         "scalegroup": "True",
         "showlegend": true,
         "type": "violin",
         "x": [
          28
         ],
         "x0": " ",
         "xaxis": "x",
         "y": [
          19.1
         ],
         "y0": " ",
         "yaxis": "y"
        },
        {
         "alignmentgroup": "True",
         "box": {
          "visible": true
         },
         "hovertemplate": "BodyFat=%{y}<br>Age=%{x}<extra></extra>",
         "legendgroup": "15.2",
         "marker": {
          "color": "#636efa"
         },
         "name": "15.2",
         "offsetgroup": "15.2",
         "orientation": "v",
         "points": "all",
         "scalegroup": "True",
         "showlegend": true,
         "type": "violin",
         "x": [
          28,
          68
         ],
         "x0": " ",
         "xaxis": "x",
         "y": [
          15.2,
          15.2
         ],
         "y0": " ",
         "yaxis": "y"
        },
        {
         "alignmentgroup": "True",
         "box": {
          "visible": true
         },
         "hovertemplate": "BodyFat=%{y}<br>Age=%{x}<extra></extra>",
         "legendgroup": "15.6",
         "marker": {
          "color": "#EF553B"
         },
         "name": "15.6",
         "offsetgroup": "15.6",
         "orientation": "v",
         "points": "all",
         "scalegroup": "True",
         "showlegend": true,
         "type": "violin",
         "x": [
          31
         ],
         "x0": " ",
         "xaxis": "x",
         "y": [
          15.6
         ],
         "y0": " ",
         "yaxis": "y"
        },
        {
         "alignmentgroup": "True",
         "box": {
          "visible": true
         },
         "hovertemplate": "BodyFat=%{y}<br>Age=%{x}<extra></extra>",
         "legendgroup": "17.7",
         "marker": {
          "color": "#00cc96"
         },
         "name": "17.7",
         "offsetgroup": "17.7",
         "orientation": "v",
         "points": "all",
         "scalegroup": "True",
         "showlegend": true,
         "type": "violin",
         "x": [
          32,
          42
         ],
         "x0": " ",
         "xaxis": "x",
         "y": [
          17.7,
          17.7
         ],
         "y0": " ",
         "yaxis": "y"
        },
        {
         "alignmentgroup": "True",
         "box": {
          "visible": true
         },
         "hovertemplate": "BodyFat=%{y}<br>Age=%{x}<extra></extra>",
         "legendgroup": "14.0",
         "marker": {
          "color": "#ab63fa"
         },
         "name": "14.0",
         "offsetgroup": "14.0",
         "orientation": "v",
         "points": "all",
         "scalegroup": "True",
         "showlegend": true,
         "type": "violin",
         "x": [
          28
         ],
         "x0": " ",
         "xaxis": "x",
         "y": [
          14
         ],
         "y0": " ",
         "yaxis": "y"
        },
        {
         "alignmentgroup": "True",
         "box": {
          "visible": true
         },
         "hovertemplate": "BodyFat=%{y}<br>Age=%{x}<extra></extra>",
         "legendgroup": "3.7",
         "marker": {
          "color": "#FFA15A"
         },
         "name": "3.7",
         "offsetgroup": "3.7",
         "orientation": "v",
         "points": "all",
         "scalegroup": "True",
         "showlegend": true,
         "type": "violin",
         "x": [
          27,
          27
         ],
         "x0": " ",
         "xaxis": "x",
         "y": [
          3.7,
          3.7
         ],
         "y0": " ",
         "yaxis": "y"
        },
        {
         "alignmentgroup": "True",
         "box": {
          "visible": true
         },
         "hovertemplate": "BodyFat=%{y}<br>Age=%{x}<extra></extra>",
         "legendgroup": "7.9",
         "marker": {
          "color": "#19d3f3"
         },
         "name": "7.9",
         "offsetgroup": "7.9",
         "orientation": "v",
         "points": "all",
         "scalegroup": "True",
         "showlegend": true,
         "type": "violin",
         "x": [
          34
         ],
         "x0": " ",
         "xaxis": "x",
         "y": [
          7.9
         ],
         "y0": " ",
         "yaxis": "y"
        },
        {
         "alignmentgroup": "True",
         "box": {
          "visible": true
         },
         "hovertemplate": "BodyFat=%{y}<br>Age=%{x}<extra></extra>",
         "legendgroup": "8.8",
         "marker": {
          "color": "#FF6692"
         },
         "name": "8.8",
         "offsetgroup": "8.8",
         "orientation": "v",
         "points": "all",
         "scalegroup": "True",
         "showlegend": true,
         "type": "violin",
         "x": [
          29,
          55,
          57
         ],
         "x0": " ",
         "xaxis": "x",
         "y": [
          8.8,
          8.8,
          8.8
         ],
         "y0": " ",
         "yaxis": "y"
        },
        {
         "alignmentgroup": "True",
         "box": {
          "visible": true
         },
         "hovertemplate": "BodyFat=%{y}<br>Age=%{x}<extra></extra>",
         "legendgroup": "11.9",
         "marker": {
          "color": "#B6E880"
         },
         "name": "11.9",
         "offsetgroup": "11.9",
         "orientation": "v",
         "points": "all",
         "scalegroup": "True",
         "showlegend": true,
         "type": "violin",
         "x": [
          32
         ],
         "x0": " ",
         "xaxis": "x",
         "y": [
          11.9
         ],
         "y0": " ",
         "yaxis": "y"
        },
        {
         "alignmentgroup": "True",
         "box": {
          "visible": true
         },
         "hovertemplate": "BodyFat=%{y}<br>Age=%{x}<extra></extra>",
         "legendgroup": "5.7",
         "marker": {
          "color": "#FF97FF"
         },
         "name": "5.7",
         "offsetgroup": "5.7",
         "orientation": "v",
         "points": "all",
         "scalegroup": "True",
         "showlegend": true,
         "type": "violin",
         "x": [
          29
         ],
         "x0": " ",
         "xaxis": "x",
         "y": [
          5.7
         ],
         "y0": " ",
         "yaxis": "y"
        },
        {
         "alignmentgroup": "True",
         "box": {
          "visible": true
         },
         "hovertemplate": "BodyFat=%{y}<br>Age=%{x}<extra></extra>",
         "legendgroup": "11.8",
         "marker": {
          "color": "#FECB52"
         },
         "name": "11.8",
         "offsetgroup": "11.8",
         "orientation": "v",
         "points": "all",
         "scalegroup": "True",
         "showlegend": true,
         "type": "violin",
         "x": [
          27,
          61
         ],
         "x0": " ",
         "xaxis": "x",
         "y": [
          11.8,
          11.8
         ],
         "y0": " ",
         "yaxis": "y"
        },
        {
         "alignmentgroup": "True",
         "box": {
          "visible": true
         },
         "hovertemplate": "BodyFat=%{y}<br>Age=%{x}<extra></extra>",
         "legendgroup": "21.3",
         "marker": {
          "color": "#636efa"
         },
         "name": "21.3",
         "offsetgroup": "21.3",
         "orientation": "v",
         "points": "all",
         "scalegroup": "True",
         "showlegend": true,
         "type": "violin",
         "x": [
          41,
          42
         ],
         "x0": " ",
         "xaxis": "x",
         "y": [
          21.3,
          21.3
         ],
         "y0": " ",
         "yaxis": "y"
        },
        {
         "alignmentgroup": "True",
         "box": {
          "visible": true
         },
         "hovertemplate": "BodyFat=%{y}<br>Age=%{x}<extra></extra>",
         "legendgroup": "32.3",
         "marker": {
          "color": "#EF553B"
         },
         "name": "32.3",
         "offsetgroup": "32.3",
         "orientation": "v",
         "points": "all",
         "scalegroup": "True",
         "showlegend": true,
         "type": "violin",
         "x": [
          41,
          57
         ],
         "x0": " ",
         "xaxis": "x",
         "y": [
          32.3,
          32.3
         ],
         "y0": " ",
         "yaxis": "y"
        },
        {
         "alignmentgroup": "True",
         "box": {
          "visible": true
         },
         "hovertemplate": "BodyFat=%{y}<br>Age=%{x}<extra></extra>",
         "legendgroup": "40.1",
         "marker": {
          "color": "#00cc96"
         },
         "name": "40.1",
         "offsetgroup": "40.1",
         "orientation": "v",
         "points": "all",
         "scalegroup": "True",
         "showlegend": true,
         "type": "violin",
         "x": [
          49
         ],
         "x0": " ",
         "xaxis": "x",
         "y": [
          40.1
         ],
         "y0": " ",
         "yaxis": "y"
        },
        {
         "alignmentgroup": "True",
         "box": {
          "visible": true
         },
         "hovertemplate": "BodyFat=%{y}<br>Age=%{x}<extra></extra>",
         "legendgroup": "24.2",
         "marker": {
          "color": "#ab63fa"
         },
         "name": "24.2",
         "offsetgroup": "24.2",
         "orientation": "v",
         "points": "all",
         "scalegroup": "True",
         "showlegend": true,
         "type": "violin",
         "x": [
          40
         ],
         "x0": " ",
         "xaxis": "x",
         "y": [
          24.2
         ],
         "y0": " ",
         "yaxis": "y"
        },
        {
         "alignmentgroup": "True",
         "box": {
          "visible": true
         },
         "hovertemplate": "BodyFat=%{y}<br>Age=%{x}<extra></extra>",
         "legendgroup": "28.4",
         "marker": {
          "color": "#FFA15A"
         },
         "name": "28.4",
         "offsetgroup": "28.4",
         "orientation": "v",
         "points": "all",
         "scalegroup": "True",
         "showlegend": true,
         "type": "violin",
         "x": [
          50
         ],
         "x0": " ",
         "xaxis": "x",
         "y": [
          28.4
         ],
         "y0": " ",
         "yaxis": "y"
        },
        {
         "alignmentgroup": "True",
         "box": {
          "visible": true
         },
         "hovertemplate": "BodyFat=%{y}<br>Age=%{x}<extra></extra>",
         "legendgroup": "35.2",
         "marker": {
          "color": "#19d3f3"
         },
         "name": "35.2",
         "offsetgroup": "35.2",
         "orientation": "v",
         "points": "all",
         "scalegroup": "True",
         "showlegend": true,
         "type": "violin",
         "x": [
          46
         ],
         "x0": " ",
         "xaxis": "x",
         "y": [
          35.2
         ],
         "y0": " ",
         "yaxis": "y"
        },
        {
         "alignmentgroup": "True",
         "box": {
          "visible": true
         },
         "hovertemplate": "BodyFat=%{y}<br>Age=%{x}<extra></extra>",
         "legendgroup": "32.6",
         "marker": {
          "color": "#FF6692"
         },
         "name": "32.6",
         "offsetgroup": "32.6",
         "orientation": "v",
         "points": "all",
         "scalegroup": "True",
         "showlegend": true,
         "type": "violin",
         "x": [
          50,
          67
         ],
         "x0": " ",
         "xaxis": "x",
         "y": [
          32.6,
          32.6
         ],
         "y0": " ",
         "yaxis": "y"
        },
        {
         "alignmentgroup": "True",
         "box": {
          "visible": true
         },
         "hovertemplate": "BodyFat=%{y}<br>Age=%{x}<extra></extra>",
         "legendgroup": "34.5",
         "marker": {
          "color": "#B6E880"
         },
         "name": "34.5",
         "offsetgroup": "34.5",
         "orientation": "v",
         "points": "all",
         "scalegroup": "True",
         "showlegend": true,
         "type": "violin",
         "x": [
          45
         ],
         "x0": " ",
         "xaxis": "x",
         "y": [
          34.5
         ],
         "y0": " ",
         "yaxis": "y"
        },
        {
         "alignmentgroup": "True",
         "box": {
          "visible": true
         },
         "hovertemplate": "BodyFat=%{y}<br>Age=%{x}<extra></extra>",
         "legendgroup": "32.9",
         "marker": {
          "color": "#FF97FF"
         },
         "name": "32.9",
         "offsetgroup": "32.9",
         "orientation": "v",
         "points": "all",
         "scalegroup": "True",
         "showlegend": true,
         "type": "violin",
         "x": [
          44,
          44
         ],
         "x0": " ",
         "xaxis": "x",
         "y": [
          32.9,
          32.9
         ],
         "y0": " ",
         "yaxis": "y"
        },
        {
         "alignmentgroup": "True",
         "box": {
          "visible": true
         },
         "hovertemplate": "BodyFat=%{y}<br>Age=%{x}<extra></extra>",
         "legendgroup": "31.6",
         "marker": {
          "color": "#FECB52"
         },
         "name": "31.6",
         "offsetgroup": "31.6",
         "orientation": "v",
         "points": "all",
         "scalegroup": "True",
         "showlegend": true,
         "type": "violin",
         "x": [
          48
         ],
         "x0": " ",
         "xaxis": "x",
         "y": [
          31.6
         ],
         "y0": " ",
         "yaxis": "y"
        },
        {
         "alignmentgroup": "True",
         "box": {
          "visible": true
         },
         "hovertemplate": "BodyFat=%{y}<br>Age=%{x}<extra></extra>",
         "legendgroup": "32.0",
         "marker": {
          "color": "#636efa"
         },
         "name": "32.0",
         "offsetgroup": "32.0",
         "orientation": "v",
         "points": "all",
         "scalegroup": "True",
         "showlegend": true,
         "type": "violin",
         "x": [
          41
         ],
         "x0": " ",
         "xaxis": "x",
         "y": [
          32
         ],
         "y0": " ",
         "yaxis": "y"
        },
        {
         "alignmentgroup": "True",
         "box": {
          "visible": true
         },
         "hovertemplate": "BodyFat=%{y}<br>Age=%{x}<extra></extra>",
         "legendgroup": "7.7",
         "marker": {
          "color": "#EF553B"
         },
         "name": "7.7",
         "offsetgroup": "7.7",
         "orientation": "v",
         "points": "all",
         "scalegroup": "True",
         "showlegend": true,
         "type": "violin",
         "x": [
          39
         ],
         "x0": " ",
         "xaxis": "x",
         "y": [
          7.7
         ],
         "y0": " ",
         "yaxis": "y"
        },
        {
         "alignmentgroup": "True",
         "box": {
          "visible": true
         },
         "hovertemplate": "BodyFat=%{y}<br>Age=%{x}<extra></extra>",
         "legendgroup": "13.9",
         "marker": {
          "color": "#00cc96"
         },
         "name": "13.9",
         "offsetgroup": "13.9",
         "orientation": "v",
         "points": "all",
         "scalegroup": "True",
         "showlegend": true,
         "type": "violin",
         "x": [
          43,
          51
         ],
         "x0": " ",
         "xaxis": "x",
         "y": [
          13.9,
          13.9
         ],
         "y0": " ",
         "yaxis": "y"
        },
        {
         "alignmentgroup": "True",
         "box": {
          "visible": true
         },
         "hovertemplate": "BodyFat=%{y}<br>Age=%{x}<extra></extra>",
         "legendgroup": "10.8",
         "marker": {
          "color": "#ab63fa"
         },
         "name": "10.8",
         "offsetgroup": "10.8",
         "orientation": "v",
         "points": "all",
         "scalegroup": "True",
         "showlegend": true,
         "type": "violin",
         "x": [
          40,
          47
         ],
         "x0": " ",
         "xaxis": "x",
         "y": [
          10.8,
          10.8
         ],
         "y0": " ",
         "yaxis": "y"
        },
        {
         "alignmentgroup": "True",
         "box": {
          "visible": true
         },
         "hovertemplate": "BodyFat=%{y}<br>Age=%{x}<extra></extra>",
         "legendgroup": "5.6",
         "marker": {
          "color": "#FFA15A"
         },
         "name": "5.6",
         "offsetgroup": "5.6",
         "orientation": "v",
         "points": "all",
         "scalegroup": "True",
         "showlegend": true,
         "type": "violin",
         "x": [
          39
         ],
         "x0": " ",
         "xaxis": "x",
         "y": [
          5.6
         ],
         "y0": " ",
         "yaxis": "y"
        },
        {
         "alignmentgroup": "True",
         "box": {
          "visible": true
         },
         "hovertemplate": "BodyFat=%{y}<br>Age=%{x}<extra></extra>",
         "legendgroup": "13.6",
         "marker": {
          "color": "#19d3f3"
         },
         "name": "13.6",
         "offsetgroup": "13.6",
         "orientation": "v",
         "points": "all",
         "scalegroup": "True",
         "showlegend": true,
         "type": "violin",
         "x": [
          45,
          51
         ],
         "x0": " ",
         "xaxis": "x",
         "y": [
          13.6,
          13.6
         ],
         "y0": " ",
         "yaxis": "y"
        },
        {
         "alignmentgroup": "True",
         "box": {
          "visible": true
         },
         "hovertemplate": "BodyFat=%{y}<br>Age=%{x}<extra></extra>",
         "legendgroup": "4.0",
         "marker": {
          "color": "#FF6692"
         },
         "name": "4.0",
         "offsetgroup": "4.0",
         "orientation": "v",
         "points": "all",
         "scalegroup": "True",
         "showlegend": true,
         "type": "violin",
         "x": [
          47
         ],
         "x0": " ",
         "xaxis": "x",
         "y": [
          4
         ],
         "y0": " ",
         "yaxis": "y"
        },
        {
         "alignmentgroup": "True",
         "box": {
          "visible": true
         },
         "hovertemplate": "BodyFat=%{y}<br>Age=%{x}<extra></extra>",
         "legendgroup": "10.2",
         "marker": {
          "color": "#B6E880"
         },
         "name": "10.2",
         "offsetgroup": "10.2",
         "orientation": "v",
         "points": "all",
         "scalegroup": "True",
         "showlegend": true,
         "type": "violin",
         "x": [
          47
         ],
         "x0": " ",
         "xaxis": "x",
         "y": [
          10.2
         ],
         "y0": " ",
         "yaxis": "y"
        },
        {
         "alignmentgroup": "True",
         "box": {
          "visible": true
         },
         "hovertemplate": "BodyFat=%{y}<br>Age=%{x}<extra></extra>",
         "legendgroup": "6.6",
         "marker": {
          "color": "#FF97FF"
         },
         "name": "6.6",
         "offsetgroup": "6.6",
         "orientation": "v",
         "points": "all",
         "scalegroup": "True",
         "showlegend": true,
         "type": "violin",
         "x": [
          40,
          42
         ],
         "x0": " ",
         "xaxis": "x",
         "y": [
          6.6,
          6.6
         ],
         "y0": " ",
         "yaxis": "y"
        },
        {
         "alignmentgroup": "True",
         "box": {
          "visible": true
         },
         "hovertemplate": "BodyFat=%{y}<br>Age=%{x}<extra></extra>",
         "legendgroup": "8.0",
         "marker": {
          "color": "#FECB52"
         },
         "name": "8.0",
         "offsetgroup": "8.0",
         "orientation": "v",
         "points": "all",
         "scalegroup": "True",
         "showlegend": true,
         "type": "violin",
         "x": [
          51
         ],
         "x0": " ",
         "xaxis": "x",
         "y": [
          8
         ],
         "y0": " ",
         "yaxis": "y"
        },
        {
         "alignmentgroup": "True",
         "box": {
          "visible": true
         },
         "hovertemplate": "BodyFat=%{y}<br>Age=%{x}<extra></extra>",
         "legendgroup": "6.3",
         "marker": {
          "color": "#636efa"
         },
         "name": "6.3",
         "offsetgroup": "6.3",
         "orientation": "v",
         "points": "all",
         "scalegroup": "True",
         "showlegend": true,
         "type": "violin",
         "x": [
          49,
          54
         ],
         "x0": " ",
         "xaxis": "x",
         "y": [
          6.3,
          6.3
         ],
         "y0": " ",
         "yaxis": "y"
        },
        {
         "alignmentgroup": "True",
         "box": {
          "visible": true
         },
         "hovertemplate": "BodyFat=%{y}<br>Age=%{x}<extra></extra>",
         "legendgroup": "3.9",
         "marker": {
          "color": "#EF553B"
         },
         "name": "3.9",
         "offsetgroup": "3.9",
         "orientation": "v",
         "points": "all",
         "scalegroup": "True",
         "showlegend": true,
         "type": "violin",
         "x": [
          42
         ],
         "x0": " ",
         "xaxis": "x",
         "y": [
          3.9
         ],
         "y0": " ",
         "yaxis": "y"
        },
        {
         "alignmentgroup": "True",
         "box": {
          "visible": true
         },
         "hovertemplate": "BodyFat=%{y}<br>Age=%{x}<extra></extra>",
         "legendgroup": "22.6",
         "marker": {
          "color": "#00cc96"
         },
         "name": "22.6",
         "offsetgroup": "22.6",
         "orientation": "v",
         "points": "all",
         "scalegroup": "True",
         "showlegend": true,
         "type": "violin",
         "x": [
          54
         ],
         "x0": " ",
         "xaxis": "x",
         "y": [
          22.6
         ],
         "y0": " ",
         "yaxis": "y"
        },
        {
         "alignmentgroup": "True",
         "box": {
          "visible": true
         },
         "hovertemplate": "BodyFat=%{y}<br>Age=%{x}<extra></extra>",
         "legendgroup": "20.4",
         "marker": {
          "color": "#ab63fa"
         },
         "name": "20.4",
         "offsetgroup": "20.4",
         "orientation": "v",
         "points": "all",
         "scalegroup": "True",
         "showlegend": true,
         "type": "violin",
         "x": [
          58,
          48,
          49,
          41
         ],
         "x0": " ",
         "xaxis": "x",
         "y": [
          20.4,
          20.4,
          20.4,
          20.4
         ],
         "y0": " ",
         "yaxis": "y"
        },
        {
         "alignmentgroup": "True",
         "box": {
          "visible": true
         },
         "hovertemplate": "BodyFat=%{y}<br>Age=%{x}<extra></extra>",
         "legendgroup": "28.0",
         "marker": {
          "color": "#FFA15A"
         },
         "name": "28.0",
         "offsetgroup": "28.0",
         "orientation": "v",
         "points": "all",
         "scalegroup": "True",
         "showlegend": true,
         "type": "violin",
         "x": [
          62,
          43
         ],
         "x0": " ",
         "xaxis": "x",
         "y": [
          28,
          28
         ],
         "y0": " ",
         "yaxis": "y"
        },
        {
         "alignmentgroup": "True",
         "box": {
          "visible": true
         },
         "hovertemplate": "BodyFat=%{y}<br>Age=%{x}<extra></extra>",
         "legendgroup": "31.5",
         "marker": {
          "color": "#19d3f3"
         },
         "name": "31.5",
         "offsetgroup": "31.5",
         "orientation": "v",
         "points": "all",
         "scalegroup": "True",
         "showlegend": true,
         "type": "violin",
         "x": [
          54
         ],
         "x0": " ",
         "xaxis": "x",
         "y": [
          31.5
         ],
         "y0": " ",
         "yaxis": "y"
        },
        {
         "alignmentgroup": "True",
         "box": {
          "visible": true
         },
         "hovertemplate": "BodyFat=%{y}<br>Age=%{x}<extra></extra>",
         "legendgroup": "24.6",
         "marker": {
          "color": "#FF6692"
         },
         "name": "24.6",
         "offsetgroup": "24.6",
         "orientation": "v",
         "points": "all",
         "scalegroup": "True",
         "showlegend": true,
         "type": "violin",
         "x": [
          61
         ],
         "x0": " ",
         "xaxis": "x",
         "y": [
          24.6
         ],
         "y0": " ",
         "yaxis": "y"
        },
        {
         "alignmentgroup": "True",
         "box": {
          "visible": true
         },
         "hovertemplate": "BodyFat=%{y}<br>Age=%{x}<extra></extra>",
         "legendgroup": "26.1",
         "marker": {
          "color": "#B6E880"
         },
         "name": "26.1",
         "offsetgroup": "26.1",
         "orientation": "v",
         "points": "all",
         "scalegroup": "True",
         "showlegend": true,
         "type": "violin",
         "x": [
          62,
          50
         ],
         "x0": " ",
         "xaxis": "x",
         "y": [
          26.1,
          26.1
         ],
         "y0": " ",
         "yaxis": "y"
        },
        {
         "alignmentgroup": "True",
         "box": {
          "visible": true
         },
         "hovertemplate": "BodyFat=%{y}<br>Age=%{x}<extra></extra>",
         "legendgroup": "29.8",
         "marker": {
          "color": "#FF97FF"
         },
         "name": "29.8",
         "offsetgroup": "29.8",
         "orientation": "v",
         "points": "all",
         "scalegroup": "True",
         "showlegend": true,
         "type": "violin",
         "x": [
          56
         ],
         "x0": " ",
         "xaxis": "x",
         "y": [
          29.8
         ],
         "y0": " ",
         "yaxis": "y"
        },
        {
         "alignmentgroup": "True",
         "box": {
          "visible": true
         },
         "hovertemplate": "BodyFat=%{y}<br>Age=%{x}<extra></extra>",
         "legendgroup": "30.7",
         "marker": {
          "color": "#FECB52"
         },
         "name": "30.7",
         "offsetgroup": "30.7",
         "orientation": "v",
         "points": "all",
         "scalegroup": "True",
         "showlegend": true,
         "type": "violin",
         "x": [
          54
         ],
         "x0": " ",
         "xaxis": "x",
         "y": [
          30.7
         ],
         "y0": " ",
         "yaxis": "y"
        },
        {
         "alignmentgroup": "True",
         "box": {
          "visible": true
         },
         "hovertemplate": "BodyFat=%{y}<br>Age=%{x}<extra></extra>",
         "legendgroup": "25.8",
         "marker": {
          "color": "#636efa"
         },
         "name": "25.8",
         "offsetgroup": "25.8",
         "orientation": "v",
         "points": "all",
         "scalegroup": "True",
         "showlegend": true,
         "type": "violin",
         "x": [
          61,
          40,
          60
         ],
         "x0": " ",
         "xaxis": "x",
         "y": [
          25.8,
          25.8,
          25.8
         ],
         "y0": " ",
         "yaxis": "y"
        },
        {
         "alignmentgroup": "True",
         "box": {
          "visible": true
         },
         "hovertemplate": "BodyFat=%{y}<br>Age=%{x}<extra></extra>",
         "legendgroup": "30.0",
         "marker": {
          "color": "#EF553B"
         },
         "name": "30.0",
         "offsetgroup": "30.0",
         "orientation": "v",
         "points": "all",
         "scalegroup": "True",
         "showlegend": true,
         "type": "violin",
         "x": [
          55
         ],
         "x0": " ",
         "xaxis": "x",
         "y": [
          30
         ],
         "y0": " ",
         "yaxis": "y"
        },
        {
         "alignmentgroup": "True",
         "box": {
          "visible": true
         },
         "hovertemplate": "BodyFat=%{y}<br>Age=%{x}<extra></extra>",
         "legendgroup": "21.5",
         "marker": {
          "color": "#00cc96"
         },
         "name": "21.5",
         "offsetgroup": "21.5",
         "orientation": "v",
         "points": "all",
         "scalegroup": "True",
         "showlegend": true,
         "type": "violin",
         "x": [
          54,
          81
         ],
         "x0": " ",
         "xaxis": "x",
         "y": [
          21.5,
          21.5
         ],
         "y0": " ",
         "yaxis": "y"
        },
        {
         "alignmentgroup": "True",
         "box": {
          "visible": true
         },
         "hovertemplate": "BodyFat=%{y}<br>Age=%{x}<extra></extra>",
         "legendgroup": "13.8",
         "marker": {
          "color": "#ab63fa"
         },
         "name": "13.8",
         "offsetgroup": "13.8",
         "orientation": "v",
         "points": "all",
         "scalegroup": "True",
         "showlegend": true,
         "type": "violin",
         "x": [
          55,
          50
         ],
         "x0": " ",
         "xaxis": "x",
         "y": [
          13.8,
          13.8
         ],
         "y0": " ",
         "yaxis": "y"
        },
        {
         "alignmentgroup": "True",
         "box": {
          "visible": true
         },
         "hovertemplate": "BodyFat=%{y}<br>Age=%{x}<extra></extra>",
         "legendgroup": "12.9",
         "marker": {
          "color": "#FFA15A"
         },
         "name": "12.9",
         "offsetgroup": "12.9",
         "orientation": "v",
         "points": "all",
         "scalegroup": "True",
         "showlegend": true,
         "type": "violin",
         "x": [
          55
         ],
         "x0": " ",
         "xaxis": "x",
         "y": [
          12.9
         ],
         "y0": " ",
         "yaxis": "y"
        },
        {
         "alignmentgroup": "True",
         "box": {
          "visible": true
         },
         "hovertemplate": "BodyFat=%{y}<br>Age=%{x}<extra></extra>",
         "legendgroup": "24.3",
         "marker": {
          "color": "#19d3f3"
         },
         "name": "24.3",
         "offsetgroup": "24.3",
         "orientation": "v",
         "points": "all",
         "scalegroup": "True",
         "showlegend": true,
         "type": "violin",
         "x": [
          62
         ],
         "x0": " ",
         "xaxis": "x",
         "y": [
          24.3
         ],
         "y0": " ",
         "yaxis": "y"
        },
        {
         "alignmentgroup": "True",
         "box": {
          "visible": true
         },
         "hovertemplate": "BodyFat=%{y}<br>Age=%{x}<extra></extra>",
         "legendgroup": "8.5",
         "marker": {
          "color": "#FF6692"
         },
         "name": "8.5",
         "offsetgroup": "8.5",
         "orientation": "v",
         "points": "all",
         "scalegroup": "True",
         "showlegend": true,
         "type": "violin",
         "x": [
          56,
          47
         ],
         "x0": " ",
         "xaxis": "x",
         "y": [
          8.5,
          8.5
         ],
         "y0": " ",
         "yaxis": "y"
        },
        {
         "alignmentgroup": "True",
         "box": {
          "visible": true
         },
         "hovertemplate": "BodyFat=%{y}<br>Age=%{x}<extra></extra>",
         "legendgroup": "13.5",
         "marker": {
          "color": "#B6E880"
         },
         "name": "13.5",
         "offsetgroup": "13.5",
         "orientation": "v",
         "points": "all",
         "scalegroup": "True",
         "showlegend": true,
         "type": "violin",
         "x": [
          55
         ],
         "x0": " ",
         "xaxis": "x",
         "y": [
          13.5
         ],
         "y0": " ",
         "yaxis": "y"
        },
        {
         "alignmentgroup": "True",
         "box": {
          "visible": true
         },
         "hovertemplate": "BodyFat=%{y}<br>Age=%{x}<extra></extra>",
         "legendgroup": "18.5",
         "marker": {
          "color": "#FF97FF"
         },
         "name": "18.5",
         "offsetgroup": "18.5",
         "orientation": "v",
         "points": "all",
         "scalegroup": "True",
         "showlegend": true,
         "type": "violin",
         "x": [
          61
         ],
         "x0": " ",
         "xaxis": "x",
         "y": [
          18.5
         ],
         "y0": " ",
         "yaxis": "y"
        },
        {
         "alignmentgroup": "True",
         "box": {
          "visible": true
         },
         "hovertemplate": "BodyFat=%{y}<br>Age=%{x}<extra></extra>",
         "legendgroup": "22.2",
         "marker": {
          "color": "#FECB52"
         },
         "name": "22.2",
         "offsetgroup": "22.2",
         "orientation": "v",
         "points": "all",
         "scalegroup": "True",
         "showlegend": true,
         "type": "violin",
         "x": [
          69,
          47
         ],
         "x0": " ",
         "xaxis": "x",
         "y": [
          22.2,
          22.2
         ],
         "y0": " ",
         "yaxis": "y"
        },
        {
         "alignmentgroup": "True",
         "box": {
          "visible": true
         },
         "hovertemplate": "BodyFat=%{y}<br>Age=%{x}<extra></extra>",
         "legendgroup": "18.8",
         "marker": {
          "color": "#636efa"
         },
         "name": "18.8",
         "offsetgroup": "18.8",
         "orientation": "v",
         "points": "all",
         "scalegroup": "True",
         "showlegend": true,
         "type": "violin",
         "x": [
          66
         ],
         "x0": " ",
         "xaxis": "x",
         "y": [
          18.8
         ],
         "y0": " ",
         "yaxis": "y"
        },
        {
         "alignmentgroup": "True",
         "box": {
          "visible": true
         },
         "hovertemplate": "BodyFat=%{y}<br>Age=%{x}<extra></extra>",
         "legendgroup": "31.4",
         "marker": {
          "color": "#EF553B"
         },
         "name": "31.4",
         "offsetgroup": "31.4",
         "orientation": "v",
         "points": "all",
         "scalegroup": "True",
         "showlegend": true,
         "type": "violin",
         "x": [
          67
         ],
         "x0": " ",
         "xaxis": "x",
         "y": [
          31.4
         ],
         "y0": " ",
         "yaxis": "y"
        },
        {
         "alignmentgroup": "True",
         "box": {
          "visible": true
         },
         "hovertemplate": "BodyFat=%{y}<br>Age=%{x}<extra></extra>",
         "legendgroup": "26.8",
         "marker": {
          "color": "#00cc96"
         },
         "name": "26.8",
         "offsetgroup": "26.8",
         "orientation": "v",
         "points": "all",
         "scalegroup": "True",
         "showlegend": true,
         "type": "violin",
         "x": [
          64
         ],
         "x0": " ",
         "xaxis": "x",
         "y": [
          26.8
         ],
         "y0": " ",
         "yaxis": "y"
        },
        {
         "alignmentgroup": "True",
         "box": {
          "visible": true
         },
         "hovertemplate": "BodyFat=%{y}<br>Age=%{x}<extra></extra>",
         "legendgroup": "18.4",
         "marker": {
          "color": "#ab63fa"
         },
         "name": "18.4",
         "offsetgroup": "18.4",
         "orientation": "v",
         "points": "all",
         "scalegroup": "True",
         "showlegend": true,
         "type": "violin",
         "x": [
          64
         ],
         "x0": " ",
         "xaxis": "x",
         "y": [
          18.4
         ],
         "y0": " ",
         "yaxis": "y"
        },
        {
         "alignmentgroup": "True",
         "box": {
          "visible": true
         },
         "hovertemplate": "BodyFat=%{y}<br>Age=%{x}<extra></extra>",
         "legendgroup": "27.0",
         "marker": {
          "color": "#FFA15A"
         },
         "name": "27.0",
         "offsetgroup": "27.0",
         "orientation": "v",
         "points": "all",
         "scalegroup": "True",
         "showlegend": true,
         "type": "violin",
         "x": [
          70,
          72
         ],
         "x0": " ",
         "xaxis": "x",
         "y": [
          27,
          27
         ],
         "y0": " ",
         "yaxis": "y"
        },
        {
         "alignmentgroup": "True",
         "box": {
          "visible": true
         },
         "hovertemplate": "BodyFat=%{y}<br>Age=%{x}<extra></extra>",
         "legendgroup": "26.6",
         "marker": {
          "color": "#19d3f3"
         },
         "name": "26.6",
         "offsetgroup": "26.6",
         "orientation": "v",
         "points": "all",
         "scalegroup": "True",
         "showlegend": true,
         "type": "violin",
         "x": [
          67,
          39
         ],
         "x0": " ",
         "xaxis": "x",
         "y": [
          26.6,
          26.6
         ],
         "y0": " ",
         "yaxis": "y"
        },
        {
         "alignmentgroup": "True",
         "box": {
          "visible": true
         },
         "hovertemplate": "BodyFat=%{y}<br>Age=%{x}<extra></extra>",
         "legendgroup": "14.9",
         "marker": {
          "color": "#FF6692"
         },
         "name": "14.9",
         "offsetgroup": "14.9",
         "orientation": "v",
         "points": "all",
         "scalegroup": "True",
         "showlegend": true,
         "type": "violin",
         "x": [
          72,
          42,
          56
         ],
         "x0": " ",
         "xaxis": "x",
         "y": [
          14.9,
          14.9,
          14.9
         ],
         "y0": " ",
         "yaxis": "y"
        },
        {
         "alignmentgroup": "True",
         "box": {
          "visible": true
         },
         "hovertemplate": "BodyFat=%{y}<br>Age=%{x}<extra></extra>",
         "legendgroup": "23.1",
         "marker": {
          "color": "#B6E880"
         },
         "name": "23.1",
         "offsetgroup": "23.1",
         "orientation": "v",
         "points": "all",
         "scalegroup": "True",
         "showlegend": true,
         "type": "violin",
         "x": [
          64
         ],
         "x0": " ",
         "xaxis": "x",
         "y": [
          23.1
         ],
         "y0": " ",
         "yaxis": "y"
        },
        {
         "alignmentgroup": "True",
         "box": {
          "visible": true
         },
         "hovertemplate": "BodyFat=%{y}<br>Age=%{x}<extra></extra>",
         "legendgroup": "8.3",
         "marker": {
          "color": "#FF97FF"
         },
         "name": "8.3",
         "offsetgroup": "8.3",
         "orientation": "v",
         "points": "all",
         "scalegroup": "True",
         "showlegend": true,
         "type": "violin",
         "x": [
          46
         ],
         "x0": " ",
         "xaxis": "x",
         "y": [
          8.3
         ],
         "y0": " ",
         "yaxis": "y"
        },
        {
         "alignmentgroup": "True",
         "box": {
          "visible": true
         },
         "hovertemplate": "BodyFat=%{y}<br>Age=%{x}<extra></extra>",
         "legendgroup": "14.1",
         "marker": {
          "color": "#FECB52"
         },
         "name": "14.1",
         "offsetgroup": "14.1",
         "orientation": "v",
         "points": "all",
         "scalegroup": "True",
         "showlegend": true,
         "type": "violin",
         "x": [
          48
         ],
         "x0": " ",
         "xaxis": "x",
         "y": [
          14.1
         ],
         "y0": " ",
         "yaxis": "y"
        },
        {
         "alignmentgroup": "True",
         "box": {
          "visible": true
         },
         "hovertemplate": "BodyFat=%{y}<br>Age=%{x}<extra></extra>",
         "legendgroup": "20.5",
         "marker": {
          "color": "#636efa"
         },
         "name": "20.5",
         "offsetgroup": "20.5",
         "orientation": "v",
         "points": "all",
         "scalegroup": "True",
         "showlegend": true,
         "type": "violin",
         "x": [
          46,
          35,
          41
         ],
         "x0": " ",
         "xaxis": "x",
         "y": [
          20.5,
          20.5,
          20.5
         ],
         "y0": " ",
         "yaxis": "y"
        },
        {
         "alignmentgroup": "True",
         "box": {
          "visible": true
         },
         "hovertemplate": "BodyFat=%{y}<br>Age=%{x}<extra></extra>",
         "legendgroup": "18.2",
         "marker": {
          "color": "#EF553B"
         },
         "name": "18.2",
         "offsetgroup": "18.2",
         "orientation": "v",
         "points": "all",
         "scalegroup": "True",
         "showlegend": true,
         "type": "violin",
         "x": [
          44
         ],
         "x0": " ",
         "xaxis": "x",
         "y": [
          18.2
         ],
         "y0": " ",
         "yaxis": "y"
        },
        {
         "alignmentgroup": "True",
         "box": {
          "visible": true
         },
         "hovertemplate": "BodyFat=%{y}<br>Age=%{x}<extra></extra>",
         "legendgroup": "24.9",
         "marker": {
          "color": "#00cc96"
         },
         "name": "24.9",
         "offsetgroup": "24.9",
         "orientation": "v",
         "points": "all",
         "scalegroup": "True",
         "showlegend": true,
         "type": "violin",
         "x": [
          46,
          40
         ],
         "x0": " ",
         "xaxis": "x",
         "y": [
          24.9,
          24.9
         ],
         "y0": " ",
         "yaxis": "y"
        },
        {
         "alignmentgroup": "True",
         "box": {
          "visible": true
         },
         "hovertemplate": "BodyFat=%{y}<br>Age=%{x}<extra></extra>",
         "legendgroup": "9.0",
         "marker": {
          "color": "#ab63fa"
         },
         "name": "9.0",
         "offsetgroup": "9.0",
         "orientation": "v",
         "points": "all",
         "scalegroup": "True",
         "showlegend": true,
         "type": "violin",
         "x": [
          47
         ],
         "x0": " ",
         "xaxis": "x",
         "y": [
          9
         ],
         "y0": " ",
         "yaxis": "y"
        },
        {
         "alignmentgroup": "True",
         "box": {
          "visible": true
         },
         "hovertemplate": "BodyFat=%{y}<br>Age=%{x}<extra></extra>",
         "legendgroup": "17.4",
         "marker": {
          "color": "#FFA15A"
         },
         "name": "17.4",
         "offsetgroup": "17.4",
         "orientation": "v",
         "points": "all",
         "scalegroup": "True",
         "showlegend": true,
         "type": "violin",
         "x": [
          53,
          43
         ],
         "x0": " ",
         "xaxis": "x",
         "y": [
          17.4,
          17.4
         ],
         "y0": " ",
         "yaxis": "y"
        },
        {
         "alignmentgroup": "True",
         "box": {
          "visible": true
         },
         "hovertemplate": "BodyFat=%{y}<br>Age=%{x}<extra></extra>",
         "legendgroup": "9.6",
         "marker": {
          "color": "#19d3f3"
         },
         "name": "9.6",
         "offsetgroup": "9.6",
         "orientation": "v",
         "points": "all",
         "scalegroup": "True",
         "showlegend": true,
         "type": "violin",
         "x": [
          38,
          47
         ],
         "x0": " ",
         "xaxis": "x",
         "y": [
          9.6,
          9.6
         ],
         "y0": " ",
         "yaxis": "y"
        },
        {
         "alignmentgroup": "True",
         "box": {
          "visible": true
         },
         "hovertemplate": "BodyFat=%{y}<br>Age=%{x}<extra></extra>",
         "legendgroup": "11.3",
         "marker": {
          "color": "#FF6692"
         },
         "name": "11.3",
         "offsetgroup": "11.3",
         "orientation": "v",
         "points": "all",
         "scalegroup": "True",
         "showlegend": true,
         "type": "violin",
         "x": [
          50
         ],
         "x0": " ",
         "xaxis": "x",
         "y": [
          11.3
         ],
         "y0": " ",
         "yaxis": "y"
        },
        {
         "alignmentgroup": "True",
         "box": {
          "visible": true
         },
         "hovertemplate": "BodyFat=%{y}<br>Age=%{x}<extra></extra>",
         "legendgroup": "17.8",
         "marker": {
          "color": "#B6E880"
         },
         "name": "17.8",
         "offsetgroup": "17.8",
         "orientation": "v",
         "points": "all",
         "scalegroup": "True",
         "showlegend": true,
         "type": "violin",
         "x": [
          46
         ],
         "x0": " ",
         "xaxis": "x",
         "y": [
          17.8
         ],
         "y0": " ",
         "yaxis": "y"
        },
        {
         "alignmentgroup": "True",
         "box": {
          "visible": true
         },
         "hovertemplate": "BodyFat=%{y}<br>Age=%{x}<extra></extra>",
         "legendgroup": "20.1",
         "marker": {
          "color": "#FF97FF"
         },
         "name": "20.1",
         "offsetgroup": "20.1",
         "orientation": "v",
         "points": "all",
         "scalegroup": "True",
         "showlegend": true,
         "type": "violin",
         "x": [
          41,
          48
         ],
         "x0": " ",
         "xaxis": "x",
         "y": [
          20.1,
          20.1
         ],
         "y0": " ",
         "yaxis": "y"
        },
        {
         "alignmentgroup": "True",
         "box": {
          "visible": true
         },
         "hovertemplate": "BodyFat=%{y}<br>Age=%{x}<extra></extra>",
         "legendgroup": "22.3",
         "marker": {
          "color": "#FECB52"
         },
         "name": "22.3",
         "offsetgroup": "22.3",
         "orientation": "v",
         "points": "all",
         "scalegroup": "True",
         "showlegend": true,
         "type": "violin",
         "x": [
          49
         ],
         "x0": " ",
         "xaxis": "x",
         "y": [
          22.3
         ],
         "y0": " ",
         "yaxis": "y"
        },
        {
         "alignmentgroup": "True",
         "box": {
          "visible": true
         },
         "hovertemplate": "BodyFat=%{y}<br>Age=%{x}<extra></extra>",
         "legendgroup": "25.4",
         "marker": {
          "color": "#636efa"
         },
         "name": "25.4",
         "offsetgroup": "25.4",
         "orientation": "v",
         "points": "all",
         "scalegroup": "True",
         "showlegend": true,
         "type": "violin",
         "x": [
          43
         ],
         "x0": " ",
         "xaxis": "x",
         "y": [
          25.4
         ],
         "y0": " ",
         "yaxis": "y"
        },
        {
         "alignmentgroup": "True",
         "box": {
          "visible": true
         },
         "hovertemplate": "BodyFat=%{y}<br>Age=%{x}<extra></extra>",
         "legendgroup": "18.0",
         "marker": {
          "color": "#EF553B"
         },
         "name": "18.0",
         "offsetgroup": "18.0",
         "orientation": "v",
         "points": "all",
         "scalegroup": "True",
         "showlegend": true,
         "type": "violin",
         "x": [
          43
         ],
         "x0": " ",
         "xaxis": "x",
         "y": [
          18
         ],
         "y0": " ",
         "yaxis": "y"
        },
        {
         "alignmentgroup": "True",
         "box": {
          "visible": true
         },
         "hovertemplate": "BodyFat=%{y}<br>Age=%{x}<extra></extra>",
         "legendgroup": "19.3",
         "marker": {
          "color": "#00cc96"
         },
         "name": "19.3",
         "offsetgroup": "19.3",
         "orientation": "v",
         "points": "all",
         "scalegroup": "True",
         "showlegend": true,
         "type": "violin",
         "x": [
          43
         ],
         "x0": " ",
         "xaxis": "x",
         "y": [
          19.3
         ],
         "y0": " ",
         "yaxis": "y"
        },
        {
         "alignmentgroup": "True",
         "box": {
          "visible": true
         },
         "hovertemplate": "BodyFat=%{y}<br>Age=%{x}<extra></extra>",
         "legendgroup": "18.3",
         "marker": {
          "color": "#ab63fa"
         },
         "name": "18.3",
         "offsetgroup": "18.3",
         "orientation": "v",
         "points": "all",
         "scalegroup": "True",
         "showlegend": true,
         "type": "violin",
         "x": [
          52,
          40
         ],
         "x0": " ",
         "xaxis": "x",
         "y": [
          18.3,
          18.3
         ],
         "y0": " ",
         "yaxis": "y"
        },
        {
         "alignmentgroup": "True",
         "box": {
          "visible": true
         },
         "hovertemplate": "BodyFat=%{y}<br>Age=%{x}<extra></extra>",
         "legendgroup": "17.3",
         "marker": {
          "color": "#FFA15A"
         },
         "name": "17.3",
         "offsetgroup": "17.3",
         "orientation": "v",
         "points": "all",
         "scalegroup": "True",
         "showlegend": true,
         "type": "violin",
         "x": [
          43,
          28
         ],
         "x0": " ",
         "xaxis": "x",
         "y": [
          17.3,
          17.3
         ],
         "y0": " ",
         "yaxis": "y"
        },
        {
         "alignmentgroup": "True",
         "box": {
          "visible": true
         },
         "hovertemplate": "BodyFat=%{y}<br>Age=%{x}<extra></extra>",
         "legendgroup": "21.4",
         "marker": {
          "color": "#19d3f3"
         },
         "name": "21.4",
         "offsetgroup": "21.4",
         "orientation": "v",
         "points": "all",
         "scalegroup": "True",
         "showlegend": true,
         "type": "violin",
         "x": [
          40
         ],
         "x0": " ",
         "xaxis": "x",
         "y": [
          21.4
         ],
         "y0": " ",
         "yaxis": "y"
        },
        {
         "alignmentgroup": "True",
         "box": {
          "visible": true
         },
         "hovertemplate": "BodyFat=%{y}<br>Age=%{x}<extra></extra>",
         "legendgroup": "19.7",
         "marker": {
          "color": "#FF6692"
         },
         "name": "19.7",
         "offsetgroup": "19.7",
         "orientation": "v",
         "points": "all",
         "scalegroup": "True",
         "showlegend": true,
         "type": "violin",
         "x": [
          43
         ],
         "x0": " ",
         "xaxis": "x",
         "y": [
          19.7
         ],
         "y0": " ",
         "yaxis": "y"
        },
        {
         "alignmentgroup": "True",
         "box": {
          "visible": true
         },
         "hovertemplate": "BodyFat=%{y}<br>Age=%{x}<extra></extra>",
         "legendgroup": "26.7",
         "marker": {
          "color": "#B6E880"
         },
         "name": "26.7",
         "offsetgroup": "26.7",
         "orientation": "v",
         "points": "all",
         "scalegroup": "True",
         "showlegend": true,
         "type": "violin",
         "x": [
          48,
          58
         ],
         "x0": " ",
         "xaxis": "x",
         "y": [
          26.7,
          26.7
         ],
         "y0": " ",
         "yaxis": "y"
        },
        {
         "alignmentgroup": "True",
         "box": {
          "visible": true
         },
         "hovertemplate": "BodyFat=%{y}<br>Age=%{x}<extra></extra>",
         "legendgroup": "16.7",
         "marker": {
          "color": "#FF97FF"
         },
         "name": "16.7",
         "offsetgroup": "16.7",
         "orientation": "v",
         "points": "all",
         "scalegroup": "True",
         "showlegend": true,
         "type": "violin",
         "x": [
          40
         ],
         "x0": " ",
         "xaxis": "x",
         "y": [
          16.7
         ],
         "y0": " ",
         "yaxis": "y"
        },
        {
         "alignmentgroup": "True",
         "box": {
          "visible": true
         },
         "hovertemplate": "BodyFat=%{y}<br>Age=%{x}<extra></extra>",
         "legendgroup": "18.1",
         "marker": {
          "color": "#FECB52"
         },
         "name": "18.1",
         "offsetgroup": "18.1",
         "orientation": "v",
         "points": "all",
         "scalegroup": "True",
         "showlegend": true,
         "type": "violin",
         "x": [
          44,
          49
         ],
         "x0": " ",
         "xaxis": "x",
         "y": [
          18.1,
          18.1
         ],
         "y0": " ",
         "yaxis": "y"
        },
        {
         "alignmentgroup": "True",
         "box": {
          "visible": true
         },
         "hovertemplate": "BodyFat=%{y}<br>Age=%{x}<extra></extra>",
         "legendgroup": "27.9",
         "marker": {
          "color": "#636efa"
         },
         "name": "27.9",
         "offsetgroup": "27.9",
         "orientation": "v",
         "points": "all",
         "scalegroup": "True",
         "showlegend": true,
         "type": "violin",
         "x": [
          52
         ],
         "x0": " ",
         "xaxis": "x",
         "y": [
          27.9
         ],
         "y0": " ",
         "yaxis": "y"
        },
        {
         "alignmentgroup": "True",
         "box": {
          "visible": true
         },
         "hovertemplate": "BodyFat=%{y}<br>Age=%{x}<extra></extra>",
         "legendgroup": "14.7",
         "marker": {
          "color": "#EF553B"
         },
         "name": "14.7",
         "offsetgroup": "14.7",
         "orientation": "v",
         "points": "all",
         "scalegroup": "True",
         "showlegend": true,
         "type": "violin",
         "x": [
          40
         ],
         "x0": " ",
         "xaxis": "x",
         "y": [
          14.7
         ],
         "y0": " ",
         "yaxis": "y"
        },
        {
         "alignmentgroup": "True",
         "box": {
          "visible": true
         },
         "hovertemplate": "BodyFat=%{y}<br>Age=%{x}<extra></extra>",
         "legendgroup": "17.5",
         "marker": {
          "color": "#00cc96"
         },
         "name": "17.5",
         "offsetgroup": "17.5",
         "orientation": "v",
         "points": "all",
         "scalegroup": "True",
         "showlegend": true,
         "type": "violin",
         "x": [
          46,
          40
         ],
         "x0": " ",
         "xaxis": "x",
         "y": [
          17.5,
          17.5
         ],
         "y0": " ",
         "yaxis": "y"
        },
        {
         "alignmentgroup": "True",
         "box": {
          "visible": true
         },
         "hovertemplate": "BodyFat=%{y}<br>Age=%{x}<extra></extra>",
         "legendgroup": "27.2",
         "marker": {
          "color": "#ab63fa"
         },
         "name": "27.2",
         "offsetgroup": "27.2",
         "orientation": "v",
         "points": "all",
         "scalegroup": "True",
         "showlegend": true,
         "type": "violin",
         "x": [
          42,
          49
         ],
         "x0": " ",
         "xaxis": "x",
         "y": [
          27.2,
          27.2
         ],
         "y0": " ",
         "yaxis": "y"
        },
        {
         "alignmentgroup": "True",
         "box": {
          "visible": true
         },
         "hovertemplate": "BodyFat=%{y}<br>Age=%{x}<extra></extra>",
         "legendgroup": "22.7",
         "marker": {
          "color": "#FFA15A"
         },
         "name": "22.7",
         "offsetgroup": "22.7",
         "orientation": "v",
         "points": "all",
         "scalegroup": "True",
         "showlegend": true,
         "type": "violin",
         "x": [
          40
         ],
         "x0": " ",
         "xaxis": "x",
         "y": [
          22.7
         ],
         "y0": " ",
         "yaxis": "y"
        },
        {
         "alignmentgroup": "True",
         "box": {
          "visible": true
         },
         "hovertemplate": "BodyFat=%{y}<br>Age=%{x}<extra></extra>",
         "legendgroup": "23.6",
         "marker": {
          "color": "#19d3f3"
         },
         "name": "23.6",
         "offsetgroup": "23.6",
         "orientation": "v",
         "points": "all",
         "scalegroup": "True",
         "showlegend": true,
         "type": "violin",
         "x": [
          47,
          41,
          43
         ],
         "x0": " ",
         "xaxis": "x",
         "y": [
          23.6,
          23.6,
          23.6
         ],
         "y0": " ",
         "yaxis": "y"
        },
        {
         "alignmentgroup": "True",
         "box": {
          "visible": true
         },
         "hovertemplate": "BodyFat=%{y}<br>Age=%{x}<extra></extra>",
         "legendgroup": "24.4",
         "marker": {
          "color": "#FF6692"
         },
         "name": "24.4",
         "offsetgroup": "24.4",
         "orientation": "v",
         "points": "all",
         "scalegroup": "True",
         "showlegend": true,
         "type": "violin",
         "x": [
          41,
          41
         ],
         "x0": " ",
         "xaxis": "x",
         "y": [
          24.4,
          24.4
         ],
         "y0": " ",
         "yaxis": "y"
        },
        {
         "alignmentgroup": "True",
         "box": {
          "visible": true
         },
         "hovertemplate": "BodyFat=%{y}<br>Age=%{x}<extra></extra>",
         "legendgroup": "27.1",
         "marker": {
          "color": "#B6E880"
         },
         "name": "27.1",
         "offsetgroup": "27.1",
         "orientation": "v",
         "points": "all",
         "scalegroup": "True",
         "showlegend": true,
         "type": "violin",
         "x": [
          44
         ],
         "x0": " ",
         "xaxis": "x",
         "y": [
          27.1
         ],
         "y0": " ",
         "yaxis": "y"
        },
        {
         "alignmentgroup": "True",
         "box": {
          "visible": true
         },
         "hovertemplate": "BodyFat=%{y}<br>Age=%{x}<extra></extra>",
         "legendgroup": "21.8",
         "marker": {
          "color": "#FF97FF"
         },
         "name": "21.8",
         "offsetgroup": "21.8",
         "orientation": "v",
         "points": "all",
         "scalegroup": "True",
         "showlegend": true,
         "type": "violin",
         "x": [
          39,
          35
         ],
         "x0": " ",
         "xaxis": "x",
         "y": [
          21.8,
          21.8
         ],
         "y0": " ",
         "yaxis": "y"
        },
        {
         "alignmentgroup": "True",
         "box": {
          "visible": true
         },
         "hovertemplate": "BodyFat=%{y}<br>Age=%{x}<extra></extra>",
         "legendgroup": "29.4",
         "marker": {
          "color": "#FECB52"
         },
         "name": "29.4",
         "offsetgroup": "29.4",
         "orientation": "v",
         "points": "all",
         "scalegroup": "True",
         "showlegend": true,
         "type": "violin",
         "x": [
          43
         ],
         "x0": " ",
         "xaxis": "x",
         "y": [
          29.4
         ],
         "y0": " ",
         "yaxis": "y"
        },
        {
         "alignmentgroup": "True",
         "box": {
          "visible": true
         },
         "hovertemplate": "BodyFat=%{y}<br>Age=%{x}<extra></extra>",
         "legendgroup": "22.4",
         "marker": {
          "color": "#636efa"
         },
         "name": "22.4",
         "offsetgroup": "22.4",
         "orientation": "v",
         "points": "all",
         "scalegroup": "True",
         "showlegend": true,
         "type": "violin",
         "x": [
          40
         ],
         "x0": " ",
         "xaxis": "x",
         "y": [
          22.4
         ],
         "y0": " ",
         "yaxis": "y"
        },
        {
         "alignmentgroup": "True",
         "box": {
          "visible": true
         },
         "hovertemplate": "BodyFat=%{y}<br>Age=%{x}<extra></extra>",
         "legendgroup": "23.3",
         "marker": {
          "color": "#EF553B"
         },
         "name": "23.3",
         "offsetgroup": "23.3",
         "orientation": "v",
         "points": "all",
         "scalegroup": "True",
         "showlegend": true,
         "type": "violin",
         "x": [
          52
         ],
         "x0": " ",
         "xaxis": "x",
         "y": [
          23.3
         ],
         "y0": " ",
         "yaxis": "y"
        },
        {
         "alignmentgroup": "True",
         "box": {
          "visible": true
         },
         "hovertemplate": "BodyFat=%{y}<br>Age=%{x}<extra></extra>",
         "legendgroup": "9.4",
         "marker": {
          "color": "#00cc96"
         },
         "name": "9.4",
         "offsetgroup": "9.4",
         "orientation": "v",
         "points": "all",
         "scalegroup": "True",
         "showlegend": true,
         "type": "violin",
         "x": [
          23,
          26,
          31
         ],
         "x0": " ",
         "xaxis": "x",
         "y": [
          9.4,
          9.4,
          9.4
         ],
         "y0": " ",
         "yaxis": "y"
        },
        {
         "alignmentgroup": "True",
         "box": {
          "visible": true
         },
         "hovertemplate": "BodyFat=%{y}<br>Age=%{x}<extra></extra>",
         "legendgroup": "10.3",
         "marker": {
          "color": "#ab63fa"
         },
         "name": "10.3",
         "offsetgroup": "10.3",
         "orientation": "v",
         "points": "all",
         "scalegroup": "True",
         "showlegend": true,
         "type": "violin",
         "x": [
          23
         ],
         "x0": " ",
         "xaxis": "x",
         "y": [
          10.3
         ],
         "y0": " ",
         "yaxis": "y"
        },
        {
         "alignmentgroup": "True",
         "box": {
          "visible": true
         },
         "hovertemplate": "BodyFat=%{y}<br>Age=%{x}<extra></extra>",
         "legendgroup": "14.2",
         "marker": {
          "color": "#FFA15A"
         },
         "name": "14.2",
         "offsetgroup": "14.2",
         "orientation": "v",
         "points": "all",
         "scalegroup": "True",
         "showlegend": true,
         "type": "violin",
         "x": [
          24
         ],
         "x0": " ",
         "xaxis": "x",
         "y": [
          14.2
         ],
         "y0": " ",
         "yaxis": "y"
        },
        {
         "alignmentgroup": "True",
         "box": {
          "visible": true
         },
         "hovertemplate": "BodyFat=%{y}<br>Age=%{x}<extra></extra>",
         "legendgroup": "29.6",
         "marker": {
          "color": "#19d3f3"
         },
         "name": "29.6",
         "offsetgroup": "29.6",
         "orientation": "v",
         "points": "all",
         "scalegroup": "True",
         "showlegend": true,
         "type": "violin",
         "x": [
          25
         ],
         "x0": " ",
         "xaxis": "x",
         "y": [
          29.6
         ],
         "y0": " ",
         "yaxis": "y"
        },
        {
         "alignmentgroup": "True",
         "box": {
          "visible": true
         },
         "hovertemplate": "BodyFat=%{y}<br>Age=%{x}<extra></extra>",
         "legendgroup": "5.3",
         "marker": {
          "color": "#FF6692"
         },
         "name": "5.3",
         "offsetgroup": "5.3",
         "orientation": "v",
         "points": "all",
         "scalegroup": "True",
         "showlegend": true,
         "type": "violin",
         "x": [
          25
         ],
         "x0": " ",
         "xaxis": "x",
         "y": [
          5.3
         ],
         "y0": " ",
         "yaxis": "y"
        },
        {
         "alignmentgroup": "True",
         "box": {
          "visible": true
         },
         "hovertemplate": "BodyFat=%{y}<br>Age=%{x}<extra></extra>",
         "legendgroup": "25.2",
         "marker": {
          "color": "#B6E880"
         },
         "name": "25.2",
         "offsetgroup": "25.2",
         "orientation": "v",
         "points": "all",
         "scalegroup": "True",
         "showlegend": true,
         "type": "violin",
         "x": [
          26,
          55
         ],
         "x0": " ",
         "xaxis": "x",
         "y": [
          25.2,
          25.2
         ],
         "y0": " ",
         "yaxis": "y"
        },
        {
         "alignmentgroup": "True",
         "box": {
          "visible": true
         },
         "hovertemplate": "BodyFat=%{y}<br>Age=%{x}<extra></extra>",
         "legendgroup": "19.6",
         "marker": {
          "color": "#FF97FF"
         },
         "name": "19.6",
         "offsetgroup": "19.6",
         "orientation": "v",
         "points": "all",
         "scalegroup": "True",
         "showlegend": true,
         "type": "violin",
         "x": [
          26
         ],
         "x0": " ",
         "xaxis": "x",
         "y": [
          19.6
         ],
         "y0": " ",
         "yaxis": "y"
        },
        {
         "alignmentgroup": "True",
         "box": {
          "visible": true
         },
         "hovertemplate": "BodyFat=%{y}<br>Age=%{x}<extra></extra>",
         "legendgroup": "10.1",
         "marker": {
          "color": "#FECB52"
         },
         "name": "10.1",
         "offsetgroup": "10.1",
         "orientation": "v",
         "points": "all",
         "scalegroup": "True",
         "showlegend": true,
         "type": "violin",
         "x": [
          27
         ],
         "x0": " ",
         "xaxis": "x",
         "y": [
          10.1
         ],
         "y0": " ",
         "yaxis": "y"
        },
        {
         "alignmentgroup": "True",
         "box": {
          "visible": true
         },
         "hovertemplate": "BodyFat=%{y}<br>Age=%{x}<extra></extra>",
         "legendgroup": "21.0",
         "marker": {
          "color": "#636efa"
         },
         "name": "21.0",
         "offsetgroup": "21.0",
         "orientation": "v",
         "points": "all",
         "scalegroup": "True",
         "showlegend": true,
         "type": "violin",
         "x": [
          27
         ],
         "x0": " ",
         "xaxis": "x",
         "y": [
          21
         ],
         "y0": " ",
         "yaxis": "y"
        },
        {
         "alignmentgroup": "True",
         "box": {
          "visible": true
         },
         "hovertemplate": "BodyFat=%{y}<br>Age=%{x}<extra></extra>",
         "legendgroup": "31.2",
         "marker": {
          "color": "#EF553B"
         },
         "name": "31.2",
         "offsetgroup": "31.2",
         "orientation": "v",
         "points": "all",
         "scalegroup": "True",
         "showlegend": true,
         "type": "violin",
         "x": [
          28
         ],
         "x0": " ",
         "xaxis": "x",
         "y": [
          31.2
         ],
         "y0": " ",
         "yaxis": "y"
        },
        {
         "alignmentgroup": "True",
         "box": {
          "visible": true
         },
         "hovertemplate": "BodyFat=%{y}<br>Age=%{x}<extra></extra>",
         "legendgroup": "10.0",
         "marker": {
          "color": "#00cc96"
         },
         "name": "10.0",
         "offsetgroup": "10.0",
         "orientation": "v",
         "points": "all",
         "scalegroup": "True",
         "showlegend": true,
         "type": "violin",
         "x": [
          28
         ],
         "x0": " ",
         "xaxis": "x",
         "y": [
          10
         ],
         "y0": " ",
         "yaxis": "y"
        },
        {
         "alignmentgroup": "True",
         "box": {
          "visible": true
         },
         "hovertemplate": "BodyFat=%{y}<br>Age=%{x}<extra></extra>",
         "legendgroup": "12.5",
         "marker": {
          "color": "#ab63fa"
         },
         "name": "12.5",
         "offsetgroup": "12.5",
         "orientation": "v",
         "points": "all",
         "scalegroup": "True",
         "showlegend": true,
         "type": "violin",
         "x": [
          30,
          55
         ],
         "x0": " ",
         "xaxis": "x",
         "y": [
          12.5,
          12.5
         ],
         "y0": " ",
         "yaxis": "y"
        },
        {
         "alignmentgroup": "True",
         "box": {
          "visible": true
         },
         "hovertemplate": "BodyFat=%{y}<br>Age=%{x}<extra></extra>",
         "legendgroup": "22.5",
         "marker": {
          "color": "#FFA15A"
         },
         "name": "22.5",
         "offsetgroup": "22.5",
         "orientation": "v",
         "points": "all",
         "scalegroup": "True",
         "showlegend": true,
         "type": "violin",
         "x": [
          31,
          38
         ],
         "x0": " ",
         "xaxis": "x",
         "y": [
          22.5,
          22.5
         ],
         "y0": " ",
         "yaxis": "y"
        },
        {
         "alignmentgroup": "True",
         "box": {
          "visible": true
         },
         "hovertemplate": "BodyFat=%{y}<br>Age=%{x}<extra></extra>",
         "legendgroup": "14.6",
         "marker": {
          "color": "#19d3f3"
         },
         "name": "14.6",
         "offsetgroup": "14.6",
         "orientation": "v",
         "points": "all",
         "scalegroup": "True",
         "showlegend": true,
         "type": "violin",
         "x": [
          33
         ],
         "x0": " ",
         "xaxis": "x",
         "y": [
          14.6
         ],
         "y0": " ",
         "yaxis": "y"
        },
        {
         "alignmentgroup": "True",
         "box": {
          "visible": true
         },
         "hovertemplate": "BodyFat=%{y}<br>Age=%{x}<extra></extra>",
         "legendgroup": "13.0",
         "marker": {
          "color": "#FF6692"
         },
         "name": "13.0",
         "offsetgroup": "13.0",
         "orientation": "v",
         "points": "all",
         "scalegroup": "True",
         "showlegend": true,
         "type": "violin",
         "x": [
          33
         ],
         "x0": " ",
         "xaxis": "x",
         "y": [
          13
         ],
         "y0": " ",
         "yaxis": "y"
        },
        {
         "alignmentgroup": "True",
         "box": {
          "visible": true
         },
         "hovertemplate": "BodyFat=%{y}<br>Age=%{x}<extra></extra>",
         "legendgroup": "15.1",
         "marker": {
          "color": "#B6E880"
         },
         "name": "15.1",
         "offsetgroup": "15.1",
         "orientation": "v",
         "points": "all",
         "scalegroup": "True",
         "showlegend": true,
         "type": "violin",
         "x": [
          34
         ],
         "x0": " ",
         "xaxis": "x",
         "y": [
          15.1
         ],
         "y0": " ",
         "yaxis": "y"
        },
        {
         "alignmentgroup": "True",
         "box": {
          "visible": true
         },
         "hovertemplate": "BodyFat=%{y}<br>Age=%{x}<extra></extra>",
         "legendgroup": "27.3",
         "marker": {
          "color": "#FF97FF"
         },
         "name": "27.3",
         "offsetgroup": "27.3",
         "orientation": "v",
         "points": "all",
         "scalegroup": "True",
         "showlegend": true,
         "type": "violin",
         "x": [
          34,
          63
         ],
         "x0": " ",
         "xaxis": "x",
         "y": [
          27.3,
          27.3
         ],
         "y0": " ",
         "yaxis": "y"
        },
        {
         "alignmentgroup": "True",
         "box": {
          "visible": true
         },
         "hovertemplate": "BodyFat=%{y}<br>Age=%{x}<extra></extra>",
         "legendgroup": "20.3",
         "marker": {
          "color": "#FECB52"
         },
         "name": "20.3",
         "offsetgroup": "20.3",
         "orientation": "v",
         "points": "all",
         "scalegroup": "True",
         "showlegend": true,
         "type": "violin",
         "x": [
          35
         ],
         "x0": " ",
         "xaxis": "x",
         "y": [
          20.3
         ],
         "y0": " ",
         "yaxis": "y"
        },
        {
         "alignmentgroup": "True",
         "box": {
          "visible": true
         },
         "hovertemplate": "BodyFat=%{y}<br>Age=%{x}<extra></extra>",
         "legendgroup": "34.3",
         "marker": {
          "color": "#636efa"
         },
         "name": "34.3",
         "offsetgroup": "34.3",
         "orientation": "v",
         "points": "all",
         "scalegroup": "True",
         "showlegend": true,
         "type": "violin",
         "x": [
          35
         ],
         "x0": " ",
         "xaxis": "x",
         "y": [
          34.3
         ],
         "y0": " ",
         "yaxis": "y"
        },
        {
         "alignmentgroup": "True",
         "box": {
          "visible": true
         },
         "hovertemplate": "BodyFat=%{y}<br>Age=%{x}<extra></extra>",
         "legendgroup": "3.0",
         "marker": {
          "color": "#EF553B"
         },
         "name": "3.0",
         "offsetgroup": "3.0",
         "orientation": "v",
         "points": "all",
         "scalegroup": "True",
         "showlegend": true,
         "type": "violin",
         "x": [
          35
         ],
         "x0": " ",
         "xaxis": "x",
         "y": [
          3
         ],
         "y0": " ",
         "yaxis": "y"
        },
        {
         "alignmentgroup": "True",
         "box": {
          "visible": true
         },
         "hovertemplate": "BodyFat=%{y}<br>Age=%{x}<extra></extra>",
         "legendgroup": "0.7",
         "marker": {
          "color": "#00cc96"
         },
         "name": "0.7",
         "offsetgroup": "0.7",
         "orientation": "v",
         "points": "all",
         "scalegroup": "True",
         "showlegend": true,
         "type": "violin",
         "x": [
          35
         ],
         "x0": " ",
         "xaxis": "x",
         "y": [
          0.7
         ],
         "y0": " ",
         "yaxis": "y"
        },
        {
         "alignmentgroup": "True",
         "box": {
          "visible": true
         },
         "hovertemplate": "BodyFat=%{y}<br>Age=%{x}<extra></extra>",
         "legendgroup": "16.9",
         "marker": {
          "color": "#ab63fa"
         },
         "name": "16.9",
         "offsetgroup": "16.9",
         "orientation": "v",
         "points": "all",
         "scalegroup": "True",
         "showlegend": true,
         "type": "violin",
         "x": [
          36,
          39
         ],
         "x0": " ",
         "xaxis": "x",
         "y": [
          16.9,
          16.9
         ],
         "y0": " ",
         "yaxis": "y"
        },
        {
         "alignmentgroup": "True",
         "box": {
          "visible": true
         },
         "hovertemplate": "BodyFat=%{y}<br>Age=%{x}<extra></extra>",
         "legendgroup": "9.9",
         "marker": {
          "color": "#FFA15A"
         },
         "name": "9.9",
         "offsetgroup": "9.9",
         "orientation": "v",
         "points": "all",
         "scalegroup": "True",
         "showlegend": true,
         "type": "violin",
         "x": [
          37
         ],
         "x0": " ",
         "xaxis": "x",
         "y": [
          9.9
         ],
         "y0": " ",
         "yaxis": "y"
        },
        {
         "alignmentgroup": "True",
         "box": {
          "visible": true
         },
         "hovertemplate": "BodyFat=%{y}<br>Age=%{x}<extra></extra>",
         "legendgroup": "13.1",
         "marker": {
          "color": "#19d3f3"
         },
         "name": "13.1",
         "offsetgroup": "13.1",
         "orientation": "v",
         "points": "all",
         "scalegroup": "True",
         "showlegend": true,
         "type": "violin",
         "x": [
          37
         ],
         "x0": " ",
         "xaxis": "x",
         "y": [
          13.1
         ],
         "y0": " ",
         "yaxis": "y"
        },
        {
         "alignmentgroup": "True",
         "box": {
          "visible": true
         },
         "hovertemplate": "BodyFat=%{y}<br>Age=%{x}<extra></extra>",
         "legendgroup": "29.9",
         "marker": {
          "color": "#FF6692"
         },
         "name": "29.9",
         "offsetgroup": "29.9",
         "orientation": "v",
         "points": "all",
         "scalegroup": "True",
         "showlegend": true,
         "type": "violin",
         "x": [
          37,
          65
         ],
         "x0": " ",
         "xaxis": "x",
         "y": [
          29.9,
          29.9
         ],
         "y0": " ",
         "yaxis": "y"
        },
        {
         "alignmentgroup": "True",
         "box": {
          "visible": true
         },
         "hovertemplate": "BodyFat=%{y}<br>Age=%{x}<extra></extra>",
         "legendgroup": "0.0",
         "marker": {
          "color": "#B6E880"
         },
         "name": "0.0",
         "offsetgroup": "0.0",
         "orientation": "v",
         "points": "all",
         "scalegroup": "True",
         "showlegend": true,
         "type": "violin",
         "x": [
          40
         ],
         "x0": " ",
         "xaxis": "x",
         "y": [
          0
         ],
         "y0": " ",
         "yaxis": "y"
        },
        {
         "alignmentgroup": "True",
         "box": {
          "visible": true
         },
         "hovertemplate": "BodyFat=%{y}<br>Age=%{x}<extra></extra>",
         "legendgroup": "11.5",
         "marker": {
          "color": "#FF97FF"
         },
         "name": "11.5",
         "offsetgroup": "11.5",
         "orientation": "v",
         "points": "all",
         "scalegroup": "True",
         "showlegend": true,
         "type": "violin",
         "x": [
          40,
          54
         ],
         "x0": " ",
         "xaxis": "x",
         "y": [
          11.5,
          11.5
         ],
         "y0": " ",
         "yaxis": "y"
        },
        {
         "alignmentgroup": "True",
         "box": {
          "visible": true
         },
         "hovertemplate": "BodyFat=%{y}<br>Age=%{x}<extra></extra>",
         "legendgroup": "12.1",
         "marker": {
          "color": "#FECB52"
         },
         "name": "12.1",
         "offsetgroup": "12.1",
         "orientation": "v",
         "points": "all",
         "scalegroup": "True",
         "showlegend": true,
         "type": "violin",
         "x": [
          40
         ],
         "x0": " ",
         "xaxis": "x",
         "y": [
          12.1
         ],
         "y0": " ",
         "yaxis": "y"
        },
        {
         "alignmentgroup": "True",
         "box": {
          "visible": true
         },
         "hovertemplate": "BodyFat=%{y}<br>Age=%{x}<extra></extra>",
         "legendgroup": "8.6",
         "marker": {
          "color": "#636efa"
         },
         "name": "8.6",
         "offsetgroup": "8.6",
         "orientation": "v",
         "points": "all",
         "scalegroup": "True",
         "showlegend": true,
         "type": "violin",
         "x": [
          40
         ],
         "x0": " ",
         "xaxis": "x",
         "y": [
          8.6
         ],
         "y0": " ",
         "yaxis": "y"
        },
        {
         "alignmentgroup": "True",
         "box": {
          "visible": true
         },
         "hovertemplate": "BodyFat=%{y}<br>Age=%{x}<extra></extra>",
         "legendgroup": "11.4",
         "marker": {
          "color": "#EF553B"
         },
         "name": "11.4",
         "offsetgroup": "11.4",
         "orientation": "v",
         "points": "all",
         "scalegroup": "True",
         "showlegend": true,
         "type": "violin",
         "x": [
          41
         ],
         "x0": " ",
         "xaxis": "x",
         "y": [
          11.4
         ],
         "y0": " ",
         "yaxis": "y"
        },
        {
         "alignmentgroup": "True",
         "box": {
          "visible": true
         },
         "hovertemplate": "BodyFat=%{y}<br>Age=%{x}<extra></extra>",
         "legendgroup": "38.1",
         "marker": {
          "color": "#00cc96"
         },
         "name": "38.1",
         "offsetgroup": "38.1",
         "orientation": "v",
         "points": "all",
         "scalegroup": "True",
         "showlegend": true,
         "type": "violin",
         "x": [
          42
         ],
         "x0": " ",
         "xaxis": "x",
         "y": [
          38.1
         ],
         "y0": " ",
         "yaxis": "y"
        },
        {
         "alignmentgroup": "True",
         "box": {
          "visible": true
         },
         "hovertemplate": "BodyFat=%{y}<br>Age=%{x}<extra></extra>",
         "legendgroup": "15.9",
         "marker": {
          "color": "#ab63fa"
         },
         "name": "15.9",
         "offsetgroup": "15.9",
         "orientation": "v",
         "points": "all",
         "scalegroup": "True",
         "showlegend": true,
         "type": "violin",
         "x": [
          42
         ],
         "x0": " ",
         "xaxis": "x",
         "y": [
          15.9
         ],
         "y0": " ",
         "yaxis": "y"
        },
        {
         "alignmentgroup": "True",
         "box": {
          "visible": true
         },
         "hovertemplate": "BodyFat=%{y}<br>Age=%{x}<extra></extra>",
         "legendgroup": "24.7",
         "marker": {
          "color": "#FFA15A"
         },
         "name": "24.7",
         "offsetgroup": "24.7",
         "orientation": "v",
         "points": "all",
         "scalegroup": "True",
         "showlegend": true,
         "type": "violin",
         "x": [
          42
         ],
         "x0": " ",
         "xaxis": "x",
         "y": [
          24.7
         ],
         "y0": " ",
         "yaxis": "y"
        },
        {
         "alignmentgroup": "True",
         "box": {
          "visible": true
         },
         "hovertemplate": "BodyFat=%{y}<br>Age=%{x}<extra></extra>",
         "legendgroup": "22.8",
         "marker": {
          "color": "#19d3f3"
         },
         "name": "22.8",
         "offsetgroup": "22.8",
         "orientation": "v",
         "points": "all",
         "scalegroup": "True",
         "showlegend": true,
         "type": "violin",
         "x": [
          42
         ],
         "x0": " ",
         "xaxis": "x",
         "y": [
          22.8
         ],
         "y0": " ",
         "yaxis": "y"
        },
        {
         "alignmentgroup": "True",
         "box": {
          "visible": true
         },
         "hovertemplate": "BodyFat=%{y}<br>Age=%{x}<extra></extra>",
         "legendgroup": "25.5",
         "marker": {
          "color": "#FF6692"
         },
         "name": "25.5",
         "offsetgroup": "25.5",
         "orientation": "v",
         "points": "all",
         "scalegroup": "True",
         "showlegend": true,
         "type": "violin",
         "x": [
          42
         ],
         "x0": " ",
         "xaxis": "x",
         "y": [
          25.5
         ],
         "y0": " ",
         "yaxis": "y"
        },
        {
         "alignmentgroup": "True",
         "box": {
          "visible": true
         },
         "hovertemplate": "BodyFat=%{y}<br>Age=%{x}<extra></extra>",
         "legendgroup": "22.0",
         "marker": {
          "color": "#B6E880"
         },
         "name": "22.0",
         "offsetgroup": "22.0",
         "orientation": "v",
         "points": "all",
         "scalegroup": "True",
         "showlegend": true,
         "type": "violin",
         "x": [
          42
         ],
         "x0": " ",
         "xaxis": "x",
         "y": [
          22
         ],
         "y0": " ",
         "yaxis": "y"
        },
        {
         "alignmentgroup": "True",
         "box": {
          "visible": true
         },
         "hovertemplate": "BodyFat=%{y}<br>Age=%{x}<extra></extra>",
         "legendgroup": "12.2",
         "marker": {
          "color": "#FF97FF"
         },
         "name": "12.2",
         "offsetgroup": "12.2",
         "orientation": "v",
         "points": "all",
         "scalegroup": "True",
         "showlegend": true,
         "type": "violin",
         "x": [
          43
         ],
         "x0": " ",
         "xaxis": "x",
         "y": [
          12.2
         ],
         "y0": " ",
         "yaxis": "y"
        },
        {
         "alignmentgroup": "True",
         "box": {
          "visible": true
         },
         "hovertemplate": "BodyFat=%{y}<br>Age=%{x}<extra></extra>",
         "legendgroup": "6.0",
         "marker": {
          "color": "#FECB52"
         },
         "name": "6.0",
         "offsetgroup": "6.0",
         "orientation": "v",
         "points": "all",
         "scalegroup": "True",
         "showlegend": true,
         "type": "violin",
         "x": [
          44
         ],
         "x0": " ",
         "xaxis": "x",
         "y": [
          6
         ],
         "y0": " ",
         "yaxis": "y"
        },
        {
         "alignmentgroup": "True",
         "box": {
          "visible": true
         },
         "hovertemplate": "BodyFat=%{y}<br>Age=%{x}<extra></extra>",
         "legendgroup": "34.8",
         "marker": {
          "color": "#636efa"
         },
         "name": "34.8",
         "offsetgroup": "34.8",
         "orientation": "v",
         "points": "all",
         "scalegroup": "True",
         "showlegend": true,
         "type": "violin",
         "x": [
          44
         ],
         "x0": " ",
         "xaxis": "x",
         "y": [
          34.8
         ],
         "y0": " ",
         "yaxis": "y"
        },
        {
         "alignmentgroup": "True",
         "box": {
          "visible": true
         },
         "hovertemplate": "BodyFat=%{y}<br>Age=%{x}<extra></extra>",
         "legendgroup": "16.6",
         "marker": {
          "color": "#EF553B"
         },
         "name": "16.6",
         "offsetgroup": "16.6",
         "orientation": "v",
         "points": "all",
         "scalegroup": "True",
         "showlegend": true,
         "type": "violin",
         "x": [
          44
         ],
         "x0": " ",
         "xaxis": "x",
         "y": [
          16.6
         ],
         "y0": " ",
         "yaxis": "y"
        },
        {
         "alignmentgroup": "True",
         "box": {
          "visible": true
         },
         "hovertemplate": "BodyFat=%{y}<br>Age=%{x}<extra></extra>",
         "legendgroup": "32.8",
         "marker": {
          "color": "#00cc96"
         },
         "name": "32.8",
         "offsetgroup": "32.8",
         "orientation": "v",
         "points": "all",
         "scalegroup": "True",
         "showlegend": true,
         "type": "violin",
         "x": [
          47
         ],
         "x0": " ",
         "xaxis": "x",
         "y": [
          32.8
         ],
         "y0": " ",
         "yaxis": "y"
        },
        {
         "alignmentgroup": "True",
         "box": {
          "visible": true
         },
         "hovertemplate": "BodyFat=%{y}<br>Age=%{x}<extra></extra>",
         "legendgroup": "19.5",
         "marker": {
          "color": "#ab63fa"
         },
         "name": "19.5",
         "offsetgroup": "19.5",
         "orientation": "v",
         "points": "all",
         "scalegroup": "True",
         "showlegend": true,
         "type": "violin",
         "x": [
          49,
          50
         ],
         "x0": " ",
         "xaxis": "x",
         "y": [
          19.5,
          19.5
         ],
         "y0": " ",
         "yaxis": "y"
        },
        {
         "alignmentgroup": "True",
         "box": {
          "visible": true
         },
         "hovertemplate": "BodyFat=%{y}<br>Age=%{x}<extra></extra>",
         "legendgroup": "18.7",
         "marker": {
          "color": "#FFA15A"
         },
         "name": "18.7",
         "offsetgroup": "18.7",
         "orientation": "v",
         "points": "all",
         "scalegroup": "True",
         "showlegend": true,
         "type": "violin",
         "x": [
          50
         ],
         "x0": " ",
         "xaxis": "x",
         "y": [
          18.7
         ],
         "y0": " ",
         "yaxis": "y"
        },
        {
         "alignmentgroup": "True",
         "box": {
          "visible": true
         },
         "hovertemplate": "BodyFat=%{y}<br>Age=%{x}<extra></extra>",
         "legendgroup": "47.5",
         "marker": {
          "color": "#19d3f3"
         },
         "name": "47.5",
         "offsetgroup": "47.5",
         "orientation": "v",
         "points": "all",
         "scalegroup": "True",
         "showlegend": true,
         "type": "violin",
         "x": [
          51
         ],
         "x0": " ",
         "xaxis": "x",
         "y": [
          47.5
         ],
         "y0": " ",
         "yaxis": "y"
        },
        {
         "alignmentgroup": "True",
         "box": {
          "visible": true
         },
         "hovertemplate": "BodyFat=%{y}<br>Age=%{x}<extra></extra>",
         "legendgroup": "7.5",
         "marker": {
          "color": "#FF6692"
         },
         "name": "7.5",
         "offsetgroup": "7.5",
         "orientation": "v",
         "points": "all",
         "scalegroup": "True",
         "showlegend": true,
         "type": "violin",
         "x": [
          51
         ],
         "x0": " ",
         "xaxis": "x",
         "y": [
          7.5
         ],
         "y0": " ",
         "yaxis": "y"
        },
        {
         "alignmentgroup": "True",
         "box": {
          "visible": true
         },
         "hovertemplate": "BodyFat=%{y}<br>Age=%{x}<extra></extra>",
         "legendgroup": "24.5",
         "marker": {
          "color": "#B6E880"
         },
         "name": "24.5",
         "offsetgroup": "24.5",
         "orientation": "v",
         "points": "all",
         "scalegroup": "True",
         "showlegend": true,
         "type": "violin",
         "x": [
          52
         ],
         "x0": " ",
         "xaxis": "x",
         "y": [
          24.5
         ],
         "y0": " ",
         "yaxis": "y"
        },
        {
         "alignmentgroup": "True",
         "box": {
          "visible": true
         },
         "hovertemplate": "BodyFat=%{y}<br>Age=%{x}<extra></extra>",
         "legendgroup": "15.0",
         "marker": {
          "color": "#FF97FF"
         },
         "name": "15.0",
         "offsetgroup": "15.0",
         "orientation": "v",
         "points": "all",
         "scalegroup": "True",
         "showlegend": true,
         "type": "violin",
         "x": [
          53
         ],
         "x0": " ",
         "xaxis": "x",
         "y": [
          15
         ],
         "y0": " ",
         "yaxis": "y"
        },
        {
         "alignmentgroup": "True",
         "box": {
          "visible": true
         },
         "hovertemplate": "BodyFat=%{y}<br>Age=%{x}<extra></extra>",
         "legendgroup": "26.0",
         "marker": {
          "color": "#FECB52"
         },
         "name": "26.0",
         "offsetgroup": "26.0",
         "orientation": "v",
         "points": "all",
         "scalegroup": "True",
         "showlegend": true,
         "type": "violin",
         "x": [
          54,
          72
         ],
         "x0": " ",
         "xaxis": "x",
         "y": [
          26,
          26
         ],
         "y0": " ",
         "yaxis": "y"
        },
        {
         "alignmentgroup": "True",
         "box": {
          "visible": true
         },
         "hovertemplate": "BodyFat=%{y}<br>Age=%{x}<extra></extra>",
         "legendgroup": "5.2",
         "marker": {
          "color": "#636efa"
         },
         "name": "5.2",
         "offsetgroup": "5.2",
         "orientation": "v",
         "points": "all",
         "scalegroup": "True",
         "showlegend": true,
         "type": "violin",
         "x": [
          55
         ],
         "x0": " ",
         "xaxis": "x",
         "y": [
          5.2
         ],
         "y0": " ",
         "yaxis": "y"
        },
        {
         "alignmentgroup": "True",
         "box": {
          "visible": true
         },
         "hovertemplate": "BodyFat=%{y}<br>Age=%{x}<extra></extra>",
         "legendgroup": "10.9",
         "marker": {
          "color": "#EF553B"
         },
         "name": "10.9",
         "offsetgroup": "10.9",
         "orientation": "v",
         "points": "all",
         "scalegroup": "True",
         "showlegend": true,
         "type": "violin",
         "x": [
          55
         ],
         "x0": " ",
         "xaxis": "x",
         "y": [
          10.9
         ],
         "y0": " ",
         "yaxis": "y"
        },
        {
         "alignmentgroup": "True",
         "box": {
          "visible": true
         },
         "hovertemplate": "BodyFat=%{y}<br>Age=%{x}<extra></extra>",
         "legendgroup": "14.8",
         "marker": {
          "color": "#00cc96"
         },
         "name": "14.8",
         "offsetgroup": "14.8",
         "orientation": "v",
         "points": "all",
         "scalegroup": "True",
         "showlegend": true,
         "type": "violin",
         "x": [
          55
         ],
         "x0": " ",
         "xaxis": "x",
         "y": [
          14.8
         ],
         "y0": " ",
         "yaxis": "y"
        },
        {
         "alignmentgroup": "True",
         "box": {
          "visible": true
         },
         "hovertemplate": "BodyFat=%{y}<br>Age=%{x}<extra></extra>",
         "legendgroup": "17.0",
         "marker": {
          "color": "#ab63fa"
         },
         "name": "17.0",
         "offsetgroup": "17.0",
         "orientation": "v",
         "points": "all",
         "scalegroup": "True",
         "showlegend": true,
         "type": "violin",
         "x": [
          56,
          65
         ],
         "x0": " ",
         "xaxis": "x",
         "y": [
          17,
          17
         ],
         "y0": " ",
         "yaxis": "y"
        },
        {
         "alignmentgroup": "True",
         "box": {
          "visible": true
         },
         "hovertemplate": "BodyFat=%{y}<br>Age=%{x}<extra></extra>",
         "legendgroup": "10.6",
         "marker": {
          "color": "#FFA15A"
         },
         "name": "10.6",
         "offsetgroup": "10.6",
         "orientation": "v",
         "points": "all",
         "scalegroup": "True",
         "showlegend": true,
         "type": "violin",
         "x": [
          57
         ],
         "x0": " ",
         "xaxis": "x",
         "y": [
          10.6
         ],
         "y0": " ",
         "yaxis": "y"
        },
        {
         "alignmentgroup": "True",
         "box": {
          "visible": true
         },
         "hovertemplate": "BodyFat=%{y}<br>Age=%{x}<extra></extra>",
         "legendgroup": "16.1",
         "marker": {
          "color": "#19d3f3"
         },
         "name": "16.1",
         "offsetgroup": "16.1",
         "orientation": "v",
         "points": "all",
         "scalegroup": "True",
         "showlegend": true,
         "type": "violin",
         "x": [
          57
         ],
         "x0": " ",
         "xaxis": "x",
         "y": [
          16.1
         ],
         "y0": " ",
         "yaxis": "y"
        },
        {
         "alignmentgroup": "True",
         "box": {
          "visible": true
         },
         "hovertemplate": "BodyFat=%{y}<br>Age=%{x}<extra></extra>",
         "legendgroup": "15.4",
         "marker": {
          "color": "#FF6692"
         },
         "name": "15.4",
         "offsetgroup": "15.4",
         "orientation": "v",
         "points": "all",
         "scalegroup": "True",
         "showlegend": true,
         "type": "violin",
         "x": [
          58
         ],
         "x0": " ",
         "xaxis": "x",
         "y": [
          15.4
         ],
         "y0": " ",
         "yaxis": "y"
        },
        {
         "alignmentgroup": "True",
         "box": {
          "visible": true
         },
         "hovertemplate": "BodyFat=%{y}<br>Age=%{x}<extra></extra>",
         "legendgroup": "18.6",
         "marker": {
          "color": "#B6E880"
         },
         "name": "18.6",
         "offsetgroup": "18.6",
         "orientation": "v",
         "points": "all",
         "scalegroup": "True",
         "showlegend": true,
         "type": "violin",
         "x": [
          62
         ],
         "x0": " ",
         "xaxis": "x",
         "y": [
          18.6
         ],
         "y0": " ",
         "yaxis": "y"
        },
        {
         "alignmentgroup": "True",
         "box": {
          "visible": true
         },
         "hovertemplate": "BodyFat=%{y}<br>Age=%{x}<extra></extra>",
         "legendgroup": "24.8",
         "marker": {
          "color": "#FF97FF"
         },
         "name": "24.8",
         "offsetgroup": "24.8",
         "orientation": "v",
         "points": "all",
         "scalegroup": "True",
         "showlegend": true,
         "type": "violin",
         "x": [
          62
         ],
         "x0": " ",
         "xaxis": "x",
         "y": [
          24.8
         ],
         "y0": " ",
         "yaxis": "y"
        },
        {
         "alignmentgroup": "True",
         "box": {
          "visible": true
         },
         "hovertemplate": "BodyFat=%{y}<br>Age=%{x}<extra></extra>",
         "legendgroup": "35.0",
         "marker": {
          "color": "#FECB52"
         },
         "name": "35.0",
         "offsetgroup": "35.0",
         "orientation": "v",
         "points": "all",
         "scalegroup": "True",
         "showlegend": true,
         "type": "violin",
         "x": [
          65
         ],
         "x0": " ",
         "xaxis": "x",
         "y": [
          35
         ],
         "y0": " ",
         "yaxis": "y"
        },
        {
         "alignmentgroup": "True",
         "box": {
          "visible": true
         },
         "hovertemplate": "BodyFat=%{y}<br>Age=%{x}<extra></extra>",
         "legendgroup": "30.4",
         "marker": {
          "color": "#636efa"
         },
         "name": "30.4",
         "offsetgroup": "30.4",
         "orientation": "v",
         "points": "all",
         "scalegroup": "True",
         "showlegend": true,
         "type": "violin",
         "x": [
          66
         ],
         "x0": " ",
         "xaxis": "x",
         "y": [
          30.4
         ],
         "y0": " ",
         "yaxis": "y"
        },
        {
         "alignmentgroup": "True",
         "box": {
          "visible": true
         },
         "hovertemplate": "BodyFat=%{y}<br>Age=%{x}<extra></extra>",
         "legendgroup": "30.2",
         "marker": {
          "color": "#EF553B"
         },
         "name": "30.2",
         "offsetgroup": "30.2",
         "orientation": "v",
         "points": "all",
         "scalegroup": "True",
         "showlegend": true,
         "type": "violin",
         "x": [
          69
         ],
         "x0": " ",
         "xaxis": "x",
         "y": [
          30.2
         ],
         "y0": " ",
         "yaxis": "y"
        },
        {
         "alignmentgroup": "True",
         "box": {
          "visible": true
         },
         "hovertemplate": "BodyFat=%{y}<br>Age=%{x}<extra></extra>",
         "legendgroup": "11.0",
         "marker": {
          "color": "#00cc96"
         },
         "name": "11.0",
         "offsetgroup": "11.0",
         "orientation": "v",
         "points": "all",
         "scalegroup": "True",
         "showlegend": true,
         "type": "violin",
         "x": [
          70
         ],
         "x0": " ",
         "xaxis": "x",
         "y": [
          11
         ],
         "y0": " ",
         "yaxis": "y"
        },
        {
         "alignmentgroup": "True",
         "box": {
          "visible": true
         },
         "hovertemplate": "BodyFat=%{y}<br>Age=%{x}<extra></extra>",
         "legendgroup": "33.6",
         "marker": {
          "color": "#ab63fa"
         },
         "name": "33.6",
         "offsetgroup": "33.6",
         "orientation": "v",
         "points": "all",
         "scalegroup": "True",
         "showlegend": true,
         "type": "violin",
         "x": [
          72
         ],
         "x0": " ",
         "xaxis": "x",
         "y": [
          33.6
         ],
         "y0": " ",
         "yaxis": "y"
        },
        {
         "alignmentgroup": "True",
         "box": {
          "visible": true
         },
         "hovertemplate": "BodyFat=%{y}<br>Age=%{x}<extra></extra>",
         "legendgroup": "29.3",
         "marker": {
          "color": "#FFA15A"
         },
         "name": "29.3",
         "offsetgroup": "29.3",
         "orientation": "v",
         "points": "all",
         "scalegroup": "True",
         "showlegend": true,
         "type": "violin",
         "x": [
          72
         ],
         "x0": " ",
         "xaxis": "x",
         "y": [
          29.3
         ],
         "y0": " ",
         "yaxis": "y"
        },
        {
         "alignmentgroup": "True",
         "box": {
          "visible": true
         },
         "hovertemplate": "BodyFat=%{y}<br>Age=%{x}<extra></extra>",
         "legendgroup": "31.9",
         "marker": {
          "color": "#19d3f3"
         },
         "name": "31.9",
         "offsetgroup": "31.9",
         "orientation": "v",
         "points": "all",
         "scalegroup": "True",
         "showlegend": true,
         "type": "violin",
         "x": [
          74
         ],
         "x0": " ",
         "xaxis": "x",
         "y": [
          31.9
         ],
         "y0": " ",
         "yaxis": "y"
        }
       ],
       "layout": {
        "legend": {
         "title": {
          "text": "BodyFat"
         },
         "tracegroupgap": 0
        },
        "margin": {
         "t": 60
        },
        "template": {
         "data": {
          "bar": [
           {
            "error_x": {
             "color": "#2a3f5f"
            },
            "error_y": {
             "color": "#2a3f5f"
            },
            "marker": {
             "line": {
              "color": "#E5ECF6",
              "width": 0.5
             },
             "pattern": {
              "fillmode": "overlay",
              "size": 10,
              "solidity": 0.2
             }
            },
            "type": "bar"
           }
          ],
          "barpolar": [
           {
            "marker": {
             "line": {
              "color": "#E5ECF6",
              "width": 0.5
             },
             "pattern": {
              "fillmode": "overlay",
              "size": 10,
              "solidity": 0.2
             }
            },
            "type": "barpolar"
           }
          ],
          "carpet": [
           {
            "aaxis": {
             "endlinecolor": "#2a3f5f",
             "gridcolor": "white",
             "linecolor": "white",
             "minorgridcolor": "white",
             "startlinecolor": "#2a3f5f"
            },
            "baxis": {
             "endlinecolor": "#2a3f5f",
             "gridcolor": "white",
             "linecolor": "white",
             "minorgridcolor": "white",
             "startlinecolor": "#2a3f5f"
            },
            "type": "carpet"
           }
          ],
          "choropleth": [
           {
            "colorbar": {
             "outlinewidth": 0,
             "ticks": ""
            },
            "type": "choropleth"
           }
          ],
          "contour": [
           {
            "colorbar": {
             "outlinewidth": 0,
             "ticks": ""
            },
            "colorscale": [
             [
              0,
              "#0d0887"
             ],
             [
              0.1111111111111111,
              "#46039f"
             ],
             [
              0.2222222222222222,
              "#7201a8"
             ],
             [
              0.3333333333333333,
              "#9c179e"
             ],
             [
              0.4444444444444444,
              "#bd3786"
             ],
             [
              0.5555555555555556,
              "#d8576b"
             ],
             [
              0.6666666666666666,
              "#ed7953"
             ],
             [
              0.7777777777777778,
              "#fb9f3a"
             ],
             [
              0.8888888888888888,
              "#fdca26"
             ],
             [
              1,
              "#f0f921"
             ]
            ],
            "type": "contour"
           }
          ],
          "contourcarpet": [
           {
            "colorbar": {
             "outlinewidth": 0,
             "ticks": ""
            },
            "type": "contourcarpet"
           }
          ],
          "heatmap": [
           {
            "colorbar": {
             "outlinewidth": 0,
             "ticks": ""
            },
            "colorscale": [
             [
              0,
              "#0d0887"
             ],
             [
              0.1111111111111111,
              "#46039f"
             ],
             [
              0.2222222222222222,
              "#7201a8"
             ],
             [
              0.3333333333333333,
              "#9c179e"
             ],
             [
              0.4444444444444444,
              "#bd3786"
             ],
             [
              0.5555555555555556,
              "#d8576b"
             ],
             [
              0.6666666666666666,
              "#ed7953"
             ],
             [
              0.7777777777777778,
              "#fb9f3a"
             ],
             [
              0.8888888888888888,
              "#fdca26"
             ],
             [
              1,
              "#f0f921"
             ]
            ],
            "type": "heatmap"
           }
          ],
          "heatmapgl": [
           {
            "colorbar": {
             "outlinewidth": 0,
             "ticks": ""
            },
            "colorscale": [
             [
              0,
              "#0d0887"
             ],
             [
              0.1111111111111111,
              "#46039f"
             ],
             [
              0.2222222222222222,
              "#7201a8"
             ],
             [
              0.3333333333333333,
              "#9c179e"
             ],
             [
              0.4444444444444444,
              "#bd3786"
             ],
             [
              0.5555555555555556,
              "#d8576b"
             ],
             [
              0.6666666666666666,
              "#ed7953"
             ],
             [
              0.7777777777777778,
              "#fb9f3a"
             ],
             [
              0.8888888888888888,
              "#fdca26"
             ],
             [
              1,
              "#f0f921"
             ]
            ],
            "type": "heatmapgl"
           }
          ],
          "histogram": [
           {
            "marker": {
             "pattern": {
              "fillmode": "overlay",
              "size": 10,
              "solidity": 0.2
             }
            },
            "type": "histogram"
           }
          ],
          "histogram2d": [
           {
            "colorbar": {
             "outlinewidth": 0,
             "ticks": ""
            },
            "colorscale": [
             [
              0,
              "#0d0887"
             ],
             [
              0.1111111111111111,
              "#46039f"
             ],
             [
              0.2222222222222222,
              "#7201a8"
             ],
             [
              0.3333333333333333,
              "#9c179e"
             ],
             [
              0.4444444444444444,
              "#bd3786"
             ],
             [
              0.5555555555555556,
              "#d8576b"
             ],
             [
              0.6666666666666666,
              "#ed7953"
             ],
             [
              0.7777777777777778,
              "#fb9f3a"
             ],
             [
              0.8888888888888888,
              "#fdca26"
             ],
             [
              1,
              "#f0f921"
             ]
            ],
            "type": "histogram2d"
           }
          ],
          "histogram2dcontour": [
           {
            "colorbar": {
             "outlinewidth": 0,
             "ticks": ""
            },
            "colorscale": [
             [
              0,
              "#0d0887"
             ],
             [
              0.1111111111111111,
              "#46039f"
             ],
             [
              0.2222222222222222,
              "#7201a8"
             ],
             [
              0.3333333333333333,
              "#9c179e"
             ],
             [
              0.4444444444444444,
              "#bd3786"
             ],
             [
              0.5555555555555556,
              "#d8576b"
             ],
             [
              0.6666666666666666,
              "#ed7953"
             ],
             [
              0.7777777777777778,
              "#fb9f3a"
             ],
             [
              0.8888888888888888,
              "#fdca26"
             ],
             [
              1,
              "#f0f921"
             ]
            ],
            "type": "histogram2dcontour"
           }
          ],
          "mesh3d": [
           {
            "colorbar": {
             "outlinewidth": 0,
             "ticks": ""
            },
            "type": "mesh3d"
           }
          ],
          "parcoords": [
           {
            "line": {
             "colorbar": {
              "outlinewidth": 0,
              "ticks": ""
             }
            },
            "type": "parcoords"
           }
          ],
          "pie": [
           {
            "automargin": true,
            "type": "pie"
           }
          ],
          "scatter": [
           {
            "fillpattern": {
             "fillmode": "overlay",
             "size": 10,
             "solidity": 0.2
            },
            "type": "scatter"
           }
          ],
          "scatter3d": [
           {
            "line": {
             "colorbar": {
              "outlinewidth": 0,
              "ticks": ""
             }
            },
            "marker": {
             "colorbar": {
              "outlinewidth": 0,
              "ticks": ""
             }
            },
            "type": "scatter3d"
           }
          ],
          "scattercarpet": [
           {
            "marker": {
             "colorbar": {
              "outlinewidth": 0,
              "ticks": ""
             }
            },
            "type": "scattercarpet"
           }
          ],
          "scattergeo": [
           {
            "marker": {
             "colorbar": {
              "outlinewidth": 0,
              "ticks": ""
             }
            },
            "type": "scattergeo"
           }
          ],
          "scattergl": [
           {
            "marker": {
             "colorbar": {
              "outlinewidth": 0,
              "ticks": ""
             }
            },
            "type": "scattergl"
           }
          ],
          "scattermapbox": [
           {
            "marker": {
             "colorbar": {
              "outlinewidth": 0,
              "ticks": ""
             }
            },
            "type": "scattermapbox"
           }
          ],
          "scatterpolar": [
           {
            "marker": {
             "colorbar": {
              "outlinewidth": 0,
              "ticks": ""
             }
            },
            "type": "scatterpolar"
           }
          ],
          "scatterpolargl": [
           {
            "marker": {
             "colorbar": {
              "outlinewidth": 0,
              "ticks": ""
             }
            },
            "type": "scatterpolargl"
           }
          ],
          "scatterternary": [
           {
            "marker": {
             "colorbar": {
              "outlinewidth": 0,
              "ticks": ""
             }
            },
            "type": "scatterternary"
           }
          ],
          "surface": [
           {
            "colorbar": {
             "outlinewidth": 0,
             "ticks": ""
            },
            "colorscale": [
             [
              0,
              "#0d0887"
             ],
             [
              0.1111111111111111,
              "#46039f"
             ],
             [
              0.2222222222222222,
              "#7201a8"
             ],
             [
              0.3333333333333333,
              "#9c179e"
             ],
             [
              0.4444444444444444,
              "#bd3786"
             ],
             [
              0.5555555555555556,
              "#d8576b"
             ],
             [
              0.6666666666666666,
              "#ed7953"
             ],
             [
              0.7777777777777778,
              "#fb9f3a"
             ],
             [
              0.8888888888888888,
              "#fdca26"
             ],
             [
              1,
              "#f0f921"
             ]
            ],
            "type": "surface"
           }
          ],
          "table": [
           {
            "cells": {
             "fill": {
              "color": "#EBF0F8"
             },
             "line": {
              "color": "white"
             }
            },
            "header": {
             "fill": {
              "color": "#C8D4E3"
             },
             "line": {
              "color": "white"
             }
            },
            "type": "table"
           }
          ]
         },
         "layout": {
          "annotationdefaults": {
           "arrowcolor": "#2a3f5f",
           "arrowhead": 0,
           "arrowwidth": 1
          },
          "autotypenumbers": "strict",
          "coloraxis": {
           "colorbar": {
            "outlinewidth": 0,
            "ticks": ""
           }
          },
          "colorscale": {
           "diverging": [
            [
             0,
             "#8e0152"
            ],
            [
             0.1,
             "#c51b7d"
            ],
            [
             0.2,
             "#de77ae"
            ],
            [
             0.3,
             "#f1b6da"
            ],
            [
             0.4,
             "#fde0ef"
            ],
            [
             0.5,
             "#f7f7f7"
            ],
            [
             0.6,
             "#e6f5d0"
            ],
            [
             0.7,
             "#b8e186"
            ],
            [
             0.8,
             "#7fbc41"
            ],
            [
             0.9,
             "#4d9221"
            ],
            [
             1,
             "#276419"
            ]
           ],
           "sequential": [
            [
             0,
             "#0d0887"
            ],
            [
             0.1111111111111111,
             "#46039f"
            ],
            [
             0.2222222222222222,
             "#7201a8"
            ],
            [
             0.3333333333333333,
             "#9c179e"
            ],
            [
             0.4444444444444444,
             "#bd3786"
            ],
            [
             0.5555555555555556,
             "#d8576b"
            ],
            [
             0.6666666666666666,
             "#ed7953"
            ],
            [
             0.7777777777777778,
             "#fb9f3a"
            ],
            [
             0.8888888888888888,
             "#fdca26"
            ],
            [
             1,
             "#f0f921"
            ]
           ],
           "sequentialminus": [
            [
             0,
             "#0d0887"
            ],
            [
             0.1111111111111111,
             "#46039f"
            ],
            [
             0.2222222222222222,
             "#7201a8"
            ],
            [
             0.3333333333333333,
             "#9c179e"
            ],
            [
             0.4444444444444444,
             "#bd3786"
            ],
            [
             0.5555555555555556,
             "#d8576b"
            ],
            [
             0.6666666666666666,
             "#ed7953"
            ],
            [
             0.7777777777777778,
             "#fb9f3a"
            ],
            [
             0.8888888888888888,
             "#fdca26"
            ],
            [
             1,
             "#f0f921"
            ]
           ]
          },
          "colorway": [
           "#636efa",
           "#EF553B",
           "#00cc96",
           "#ab63fa",
           "#FFA15A",
           "#19d3f3",
           "#FF6692",
           "#B6E880",
           "#FF97FF",
           "#FECB52"
          ],
          "font": {
           "color": "#2a3f5f"
          },
          "geo": {
           "bgcolor": "white",
           "lakecolor": "white",
           "landcolor": "#E5ECF6",
           "showlakes": true,
           "showland": true,
           "subunitcolor": "white"
          },
          "hoverlabel": {
           "align": "left"
          },
          "hovermode": "closest",
          "mapbox": {
           "style": "light"
          },
          "paper_bgcolor": "white",
          "plot_bgcolor": "#E5ECF6",
          "polar": {
           "angularaxis": {
            "gridcolor": "white",
            "linecolor": "white",
            "ticks": ""
           },
           "bgcolor": "#E5ECF6",
           "radialaxis": {
            "gridcolor": "white",
            "linecolor": "white",
            "ticks": ""
           }
          },
          "scene": {
           "xaxis": {
            "backgroundcolor": "#E5ECF6",
            "gridcolor": "white",
            "gridwidth": 2,
            "linecolor": "white",
            "showbackground": true,
            "ticks": "",
            "zerolinecolor": "white"
           },
           "yaxis": {
            "backgroundcolor": "#E5ECF6",
            "gridcolor": "white",
            "gridwidth": 2,
            "linecolor": "white",
            "showbackground": true,
            "ticks": "",
            "zerolinecolor": "white"
           },
           "zaxis": {
            "backgroundcolor": "#E5ECF6",
            "gridcolor": "white",
            "gridwidth": 2,
            "linecolor": "white",
            "showbackground": true,
            "ticks": "",
            "zerolinecolor": "white"
           }
          },
          "shapedefaults": {
           "line": {
            "color": "#2a3f5f"
           }
          },
          "ternary": {
           "aaxis": {
            "gridcolor": "white",
            "linecolor": "white",
            "ticks": ""
           },
           "baxis": {
            "gridcolor": "white",
            "linecolor": "white",
            "ticks": ""
           },
           "bgcolor": "#E5ECF6",
           "caxis": {
            "gridcolor": "white",
            "linecolor": "white",
            "ticks": ""
           }
          },
          "title": {
           "x": 0.05
          },
          "xaxis": {
           "automargin": true,
           "gridcolor": "white",
           "linecolor": "white",
           "ticks": "",
           "title": {
            "standoff": 15
           },
           "zerolinecolor": "white",
           "zerolinewidth": 2
          },
          "yaxis": {
           "automargin": true,
           "gridcolor": "white",
           "linecolor": "white",
           "ticks": "",
           "title": {
            "standoff": 15
           },
           "zerolinecolor": "white",
           "zerolinewidth": 2
          }
         }
        },
        "violinmode": "group",
        "xaxis": {
         "anchor": "y",
         "domain": [
          0,
          1
         ],
         "title": {
          "text": "Age"
         }
        },
        "yaxis": {
         "anchor": "x",
         "categoryarray": [
          31.9,
          29.3,
          33.6,
          11,
          30.2,
          30.4,
          35,
          24.8,
          18.6,
          15.4,
          16.1,
          10.6,
          17,
          14.8,
          10.9,
          5.2,
          26,
          15,
          24.5,
          7.5,
          47.5,
          18.7,
          19.5,
          32.8,
          16.6,
          34.8,
          6,
          12.2,
          22,
          25.5,
          22.8,
          24.7,
          15.9,
          38.1,
          11.4,
          8.6,
          12.1,
          11.5,
          0,
          29.9,
          13.1,
          9.9,
          16.9,
          0.7,
          3,
          34.3,
          20.3,
          27.3,
          15.1,
          13,
          14.6,
          22.5,
          12.5,
          10,
          31.2,
          21,
          10.1,
          19.6,
          25.2,
          5.3,
          29.6,
          14.2,
          10.3,
          9.4,
          23.3,
          22.4,
          29.4,
          21.8,
          27.1,
          24.4,
          23.6,
          22.7,
          27.2,
          17.5,
          14.7,
          27.9,
          18.1,
          16.7,
          26.7,
          19.7,
          21.4,
          17.3,
          18.3,
          19.3,
          18,
          25.4,
          22.3,
          20.1,
          17.8,
          11.3,
          9.6,
          17.4,
          9,
          24.9,
          18.2,
          20.5,
          14.1,
          8.3,
          23.1,
          14.9,
          26.6,
          27,
          18.4,
          26.8,
          31.4,
          18.8,
          22.2,
          18.5,
          13.5,
          8.5,
          24.3,
          12.9,
          13.8,
          21.5,
          30,
          25.8,
          30.7,
          29.8,
          26.1,
          24.6,
          31.5,
          28,
          20.4,
          22.6,
          3.9,
          6.3,
          8,
          6.6,
          10.2,
          4,
          13.6,
          5.6,
          10.8,
          13.9,
          7.7,
          32,
          31.6,
          32.9,
          34.5,
          32.6,
          35.2,
          28.4,
          24.2,
          40.1,
          32.3,
          21.3,
          11.8,
          5.7,
          11.9,
          8.8,
          7.9,
          3.7,
          14,
          17.7,
          15.6,
          15.2,
          19.1,
          16.5,
          16,
          22.9,
          29,
          22.1,
          21.2,
          20.8,
          7.8,
          7.1,
          11.7,
          4.1,
          12.4,
          19.2,
          20.9,
          28.7,
          10.4,
          25.3,
          6.1,
          12.3
         ],
         "categoryorder": "array",
         "domain": [
          0,
          1
         ],
         "title": {
          "text": "BodyFat"
         }
        }
       }
      },
      "text/html": [
       "<div>                            <div id=\"2704f541-9d5b-4172-9da1-7aa0401fdeeb\" class=\"plotly-graph-div\" style=\"height:525px; width:100%;\"></div>            <script type=\"text/javascript\">                require([\"plotly\"], function(Plotly) {                    window.PLOTLYENV=window.PLOTLYENV || {};                                    if (document.getElementById(\"2704f541-9d5b-4172-9da1-7aa0401fdeeb\")) {                    Plotly.newPlot(                        \"2704f541-9d5b-4172-9da1-7aa0401fdeeb\",                        [{\"alignmentgroup\":\"True\",\"box\":{\"visible\":true},\"hovertemplate\":\"BodyFat=%{y}<br>Age=%{x}<extra></extra>\",\"legendgroup\":\"12.3\",\"marker\":{\"color\":\"#636efa\"},\"name\":\"12.3\",\"offsetgroup\":\"12.3\",\"orientation\":\"v\",\"points\":\"all\",\"scalegroup\":\"True\",\"showlegend\":true,\"x\":[23],\"x0\":\" \",\"xaxis\":\"x\",\"y\":[12.3],\"y0\":\" \",\"yaxis\":\"y\",\"type\":\"violin\"},{\"alignmentgroup\":\"True\",\"box\":{\"visible\":true},\"hovertemplate\":\"BodyFat=%{y}<br>Age=%{x}<extra></extra>\",\"legendgroup\":\"6.1\",\"marker\":{\"color\":\"#EF553B\"},\"name\":\"6.1\",\"offsetgroup\":\"6.1\",\"orientation\":\"v\",\"points\":\"all\",\"scalegroup\":\"True\",\"showlegend\":true,\"x\":[22],\"x0\":\" \",\"xaxis\":\"x\",\"y\":[6.1],\"y0\":\" \",\"yaxis\":\"y\",\"type\":\"violin\"},{\"alignmentgroup\":\"True\",\"box\":{\"visible\":true},\"hovertemplate\":\"BodyFat=%{y}<br>Age=%{x}<extra></extra>\",\"legendgroup\":\"25.3\",\"marker\":{\"color\":\"#00cc96\"},\"name\":\"25.3\",\"offsetgroup\":\"25.3\",\"orientation\":\"v\",\"points\":\"all\",\"scalegroup\":\"True\",\"showlegend\":true,\"x\":[22,44,36],\"x0\":\" \",\"xaxis\":\"x\",\"y\":[25.3,25.3,25.3],\"y0\":\" \",\"yaxis\":\"y\",\"type\":\"violin\"},{\"alignmentgroup\":\"True\",\"box\":{\"visible\":true},\"hovertemplate\":\"BodyFat=%{y}<br>Age=%{x}<extra></extra>\",\"legendgroup\":\"10.4\",\"marker\":{\"color\":\"#ab63fa\"},\"name\":\"10.4\",\"offsetgroup\":\"10.4\",\"orientation\":\"v\",\"points\":\"all\",\"scalegroup\":\"True\",\"showlegend\":true,\"x\":[26],\"x0\":\" \",\"xaxis\":\"x\",\"y\":[10.4],\"y0\":\" \",\"yaxis\":\"y\",\"type\":\"violin\"},{\"alignmentgroup\":\"True\",\"box\":{\"visible\":true},\"hovertemplate\":\"BodyFat=%{y}<br>Age=%{x}<extra></extra>\",\"legendgroup\":\"28.7\",\"marker\":{\"color\":\"#FFA15A\"},\"name\":\"28.7\",\"offsetgroup\":\"28.7\",\"orientation\":\"v\",\"points\":\"all\",\"scalegroup\":\"True\",\"showlegend\":true,\"x\":[24,43],\"x0\":\" \",\"xaxis\":\"x\",\"y\":[28.7,28.7],\"y0\":\" \",\"yaxis\":\"y\",\"type\":\"violin\"},{\"alignmentgroup\":\"True\",\"box\":{\"visible\":true},\"hovertemplate\":\"BodyFat=%{y}<br>Age=%{x}<extra></extra>\",\"legendgroup\":\"20.9\",\"marker\":{\"color\":\"#19d3f3\"},\"name\":\"20.9\",\"offsetgroup\":\"20.9\",\"orientation\":\"v\",\"points\":\"all\",\"scalegroup\":\"True\",\"showlegend\":true,\"x\":[24,35],\"x0\":\" \",\"xaxis\":\"x\",\"y\":[20.9,20.9],\"y0\":\" \",\"yaxis\":\"y\",\"type\":\"violin\"},{\"alignmentgroup\":\"True\",\"box\":{\"visible\":true},\"hovertemplate\":\"BodyFat=%{y}<br>Age=%{x}<extra></extra>\",\"legendgroup\":\"19.2\",\"marker\":{\"color\":\"#FF6692\"},\"name\":\"19.2\",\"offsetgroup\":\"19.2\",\"orientation\":\"v\",\"points\":\"all\",\"scalegroup\":\"True\",\"showlegend\":true,\"x\":[26,24,35],\"x0\":\" \",\"xaxis\":\"x\",\"y\":[19.2,19.2,19.2],\"y0\":\" \",\"yaxis\":\"y\",\"type\":\"violin\"},{\"alignmentgroup\":\"True\",\"box\":{\"visible\":true},\"hovertemplate\":\"BodyFat=%{y}<br>Age=%{x}<extra></extra>\",\"legendgroup\":\"12.4\",\"marker\":{\"color\":\"#B6E880\"},\"name\":\"12.4\",\"offsetgroup\":\"12.4\",\"orientation\":\"v\",\"points\":\"all\",\"scalegroup\":\"True\",\"showlegend\":true,\"x\":[25,54,64],\"x0\":\" \",\"xaxis\":\"x\",\"y\":[12.4,12.4,12.4],\"y0\":\" \",\"yaxis\":\"y\",\"type\":\"violin\"},{\"alignmentgroup\":\"True\",\"box\":{\"visible\":true},\"hovertemplate\":\"BodyFat=%{y}<br>Age=%{x}<extra></extra>\",\"legendgroup\":\"4.1\",\"marker\":{\"color\":\"#FF97FF\"},\"name\":\"4.1\",\"offsetgroup\":\"4.1\",\"orientation\":\"v\",\"points\":\"all\",\"scalegroup\":\"True\",\"showlegend\":true,\"x\":[25],\"x0\":\" \",\"xaxis\":\"x\",\"y\":[4.1],\"y0\":\" \",\"yaxis\":\"y\",\"type\":\"violin\"},{\"alignmentgroup\":\"True\",\"box\":{\"visible\":true},\"hovertemplate\":\"BodyFat=%{y}<br>Age=%{x}<extra></extra>\",\"legendgroup\":\"11.7\",\"marker\":{\"color\":\"#FECB52\"},\"name\":\"11.7\",\"offsetgroup\":\"11.7\",\"orientation\":\"v\",\"points\":\"all\",\"scalegroup\":\"True\",\"showlegend\":true,\"x\":[23],\"x0\":\" \",\"xaxis\":\"x\",\"y\":[11.7],\"y0\":\" \",\"yaxis\":\"y\",\"type\":\"violin\"},{\"alignmentgroup\":\"True\",\"box\":{\"visible\":true},\"hovertemplate\":\"BodyFat=%{y}<br>Age=%{x}<extra></extra>\",\"legendgroup\":\"7.1\",\"marker\":{\"color\":\"#636efa\"},\"name\":\"7.1\",\"offsetgroup\":\"7.1\",\"orientation\":\"v\",\"points\":\"all\",\"scalegroup\":\"True\",\"showlegend\":true,\"x\":[26,49],\"x0\":\" \",\"xaxis\":\"x\",\"y\":[7.1,7.1],\"y0\":\" \",\"yaxis\":\"y\",\"type\":\"violin\"},{\"alignmentgroup\":\"True\",\"box\":{\"visible\":true},\"hovertemplate\":\"BodyFat=%{y}<br>Age=%{x}<extra></extra>\",\"legendgroup\":\"7.8\",\"marker\":{\"color\":\"#EF553B\"},\"name\":\"7.8\",\"offsetgroup\":\"7.8\",\"orientation\":\"v\",\"points\":\"all\",\"scalegroup\":\"True\",\"showlegend\":true,\"x\":[27],\"x0\":\" \",\"xaxis\":\"x\",\"y\":[7.8],\"y0\":\" \",\"yaxis\":\"y\",\"type\":\"violin\"},{\"alignmentgroup\":\"True\",\"box\":{\"visible\":true},\"hovertemplate\":\"BodyFat=%{y}<br>Age=%{x}<extra></extra>\",\"legendgroup\":\"20.8\",\"marker\":{\"color\":\"#00cc96\"},\"name\":\"20.8\",\"offsetgroup\":\"20.8\",\"orientation\":\"v\",\"points\":\"all\",\"scalegroup\":\"True\",\"showlegend\":true,\"x\":[32,40],\"x0\":\" \",\"xaxis\":\"x\",\"y\":[20.8,20.8],\"y0\":\" \",\"yaxis\":\"y\",\"type\":\"violin\"},{\"alignmentgroup\":\"True\",\"box\":{\"visible\":true},\"hovertemplate\":\"BodyFat=%{y}<br>Age=%{x}<extra></extra>\",\"legendgroup\":\"21.2\",\"marker\":{\"color\":\"#ab63fa\"},\"name\":\"21.2\",\"offsetgroup\":\"21.2\",\"orientation\":\"v\",\"points\":\"all\",\"scalegroup\":\"True\",\"showlegend\":true,\"x\":[30,49],\"x0\":\" \",\"xaxis\":\"x\",\"y\":[21.2,21.2],\"y0\":\" \",\"yaxis\":\"y\",\"type\":\"violin\"},{\"alignmentgroup\":\"True\",\"box\":{\"visible\":true},\"hovertemplate\":\"BodyFat=%{y}<br>Age=%{x}<extra></extra>\",\"legendgroup\":\"22.1\",\"marker\":{\"color\":\"#FFA15A\"},\"name\":\"22.1\",\"offsetgroup\":\"22.1\",\"orientation\":\"v\",\"points\":\"all\",\"scalegroup\":\"True\",\"showlegend\":true,\"x\":[35,47,43],\"x0\":\" \",\"xaxis\":\"x\",\"y\":[22.1,22.1,22.1],\"y0\":\" \",\"yaxis\":\"y\",\"type\":\"violin\"},{\"alignmentgroup\":\"True\",\"box\":{\"visible\":true},\"hovertemplate\":\"BodyFat=%{y}<br>Age=%{x}<extra></extra>\",\"legendgroup\":\"29.0\",\"marker\":{\"color\":\"#19d3f3\"},\"name\":\"29.0\",\"offsetgroup\":\"29.0\",\"orientation\":\"v\",\"points\":\"all\",\"scalegroup\":\"True\",\"showlegend\":true,\"x\":[34,67],\"x0\":\" \",\"xaxis\":\"x\",\"y\":[29.0,29.0],\"y0\":\" \",\"yaxis\":\"y\",\"type\":\"violin\"},{\"alignmentgroup\":\"True\",\"box\":{\"visible\":true},\"hovertemplate\":\"BodyFat=%{y}<br>Age=%{x}<extra></extra>\",\"legendgroup\":\"22.9\",\"marker\":{\"color\":\"#FF6692\"},\"name\":\"22.9\",\"offsetgroup\":\"22.9\",\"orientation\":\"v\",\"points\":\"all\",\"scalegroup\":\"True\",\"showlegend\":true,\"x\":[32,31],\"x0\":\" \",\"xaxis\":\"x\",\"y\":[22.9,22.9],\"y0\":\" \",\"yaxis\":\"y\",\"type\":\"violin\"},{\"alignmentgroup\":\"True\",\"box\":{\"visible\":true},\"hovertemplate\":\"BodyFat=%{y}<br>Age=%{x}<extra></extra>\",\"legendgroup\":\"16.0\",\"marker\":{\"color\":\"#B6E880\"},\"name\":\"16.0\",\"offsetgroup\":\"16.0\",\"orientation\":\"v\",\"points\":\"all\",\"scalegroup\":\"True\",\"showlegend\":true,\"x\":[28,47],\"x0\":\" \",\"xaxis\":\"x\",\"y\":[16.0,16.0],\"y0\":\" \",\"yaxis\":\"y\",\"type\":\"violin\"},{\"alignmentgroup\":\"True\",\"box\":{\"visible\":true},\"hovertemplate\":\"BodyFat=%{y}<br>Age=%{x}<extra></extra>\",\"legendgroup\":\"16.5\",\"marker\":{\"color\":\"#FF97FF\"},\"name\":\"16.5\",\"offsetgroup\":\"16.5\",\"orientation\":\"v\",\"points\":\"all\",\"scalegroup\":\"True\",\"showlegend\":true,\"x\":[33,27,35],\"x0\":\" \",\"xaxis\":\"x\",\"y\":[16.5,16.5,16.5],\"y0\":\" \",\"yaxis\":\"y\",\"type\":\"violin\"},{\"alignmentgroup\":\"True\",\"box\":{\"visible\":true},\"hovertemplate\":\"BodyFat=%{y}<br>Age=%{x}<extra></extra>\",\"legendgroup\":\"19.1\",\"marker\":{\"color\":\"#FECB52\"},\"name\":\"19.1\",\"offsetgroup\":\"19.1\",\"orientation\":\"v\",\"points\":\"all\",\"scalegroup\":\"True\",\"showlegend\":true,\"x\":[28],\"x0\":\" \",\"xaxis\":\"x\",\"y\":[19.1],\"y0\":\" \",\"yaxis\":\"y\",\"type\":\"violin\"},{\"alignmentgroup\":\"True\",\"box\":{\"visible\":true},\"hovertemplate\":\"BodyFat=%{y}<br>Age=%{x}<extra></extra>\",\"legendgroup\":\"15.2\",\"marker\":{\"color\":\"#636efa\"},\"name\":\"15.2\",\"offsetgroup\":\"15.2\",\"orientation\":\"v\",\"points\":\"all\",\"scalegroup\":\"True\",\"showlegend\":true,\"x\":[28,68],\"x0\":\" \",\"xaxis\":\"x\",\"y\":[15.2,15.2],\"y0\":\" \",\"yaxis\":\"y\",\"type\":\"violin\"},{\"alignmentgroup\":\"True\",\"box\":{\"visible\":true},\"hovertemplate\":\"BodyFat=%{y}<br>Age=%{x}<extra></extra>\",\"legendgroup\":\"15.6\",\"marker\":{\"color\":\"#EF553B\"},\"name\":\"15.6\",\"offsetgroup\":\"15.6\",\"orientation\":\"v\",\"points\":\"all\",\"scalegroup\":\"True\",\"showlegend\":true,\"x\":[31],\"x0\":\" \",\"xaxis\":\"x\",\"y\":[15.6],\"y0\":\" \",\"yaxis\":\"y\",\"type\":\"violin\"},{\"alignmentgroup\":\"True\",\"box\":{\"visible\":true},\"hovertemplate\":\"BodyFat=%{y}<br>Age=%{x}<extra></extra>\",\"legendgroup\":\"17.7\",\"marker\":{\"color\":\"#00cc96\"},\"name\":\"17.7\",\"offsetgroup\":\"17.7\",\"orientation\":\"v\",\"points\":\"all\",\"scalegroup\":\"True\",\"showlegend\":true,\"x\":[32,42],\"x0\":\" \",\"xaxis\":\"x\",\"y\":[17.7,17.7],\"y0\":\" \",\"yaxis\":\"y\",\"type\":\"violin\"},{\"alignmentgroup\":\"True\",\"box\":{\"visible\":true},\"hovertemplate\":\"BodyFat=%{y}<br>Age=%{x}<extra></extra>\",\"legendgroup\":\"14.0\",\"marker\":{\"color\":\"#ab63fa\"},\"name\":\"14.0\",\"offsetgroup\":\"14.0\",\"orientation\":\"v\",\"points\":\"all\",\"scalegroup\":\"True\",\"showlegend\":true,\"x\":[28],\"x0\":\" \",\"xaxis\":\"x\",\"y\":[14.0],\"y0\":\" \",\"yaxis\":\"y\",\"type\":\"violin\"},{\"alignmentgroup\":\"True\",\"box\":{\"visible\":true},\"hovertemplate\":\"BodyFat=%{y}<br>Age=%{x}<extra></extra>\",\"legendgroup\":\"3.7\",\"marker\":{\"color\":\"#FFA15A\"},\"name\":\"3.7\",\"offsetgroup\":\"3.7\",\"orientation\":\"v\",\"points\":\"all\",\"scalegroup\":\"True\",\"showlegend\":true,\"x\":[27,27],\"x0\":\" \",\"xaxis\":\"x\",\"y\":[3.7,3.7],\"y0\":\" \",\"yaxis\":\"y\",\"type\":\"violin\"},{\"alignmentgroup\":\"True\",\"box\":{\"visible\":true},\"hovertemplate\":\"BodyFat=%{y}<br>Age=%{x}<extra></extra>\",\"legendgroup\":\"7.9\",\"marker\":{\"color\":\"#19d3f3\"},\"name\":\"7.9\",\"offsetgroup\":\"7.9\",\"orientation\":\"v\",\"points\":\"all\",\"scalegroup\":\"True\",\"showlegend\":true,\"x\":[34],\"x0\":\" \",\"xaxis\":\"x\",\"y\":[7.9],\"y0\":\" \",\"yaxis\":\"y\",\"type\":\"violin\"},{\"alignmentgroup\":\"True\",\"box\":{\"visible\":true},\"hovertemplate\":\"BodyFat=%{y}<br>Age=%{x}<extra></extra>\",\"legendgroup\":\"8.8\",\"marker\":{\"color\":\"#FF6692\"},\"name\":\"8.8\",\"offsetgroup\":\"8.8\",\"orientation\":\"v\",\"points\":\"all\",\"scalegroup\":\"True\",\"showlegend\":true,\"x\":[29,55,57],\"x0\":\" \",\"xaxis\":\"x\",\"y\":[8.8,8.8,8.8],\"y0\":\" \",\"yaxis\":\"y\",\"type\":\"violin\"},{\"alignmentgroup\":\"True\",\"box\":{\"visible\":true},\"hovertemplate\":\"BodyFat=%{y}<br>Age=%{x}<extra></extra>\",\"legendgroup\":\"11.9\",\"marker\":{\"color\":\"#B6E880\"},\"name\":\"11.9\",\"offsetgroup\":\"11.9\",\"orientation\":\"v\",\"points\":\"all\",\"scalegroup\":\"True\",\"showlegend\":true,\"x\":[32],\"x0\":\" \",\"xaxis\":\"x\",\"y\":[11.9],\"y0\":\" \",\"yaxis\":\"y\",\"type\":\"violin\"},{\"alignmentgroup\":\"True\",\"box\":{\"visible\":true},\"hovertemplate\":\"BodyFat=%{y}<br>Age=%{x}<extra></extra>\",\"legendgroup\":\"5.7\",\"marker\":{\"color\":\"#FF97FF\"},\"name\":\"5.7\",\"offsetgroup\":\"5.7\",\"orientation\":\"v\",\"points\":\"all\",\"scalegroup\":\"True\",\"showlegend\":true,\"x\":[29],\"x0\":\" \",\"xaxis\":\"x\",\"y\":[5.7],\"y0\":\" \",\"yaxis\":\"y\",\"type\":\"violin\"},{\"alignmentgroup\":\"True\",\"box\":{\"visible\":true},\"hovertemplate\":\"BodyFat=%{y}<br>Age=%{x}<extra></extra>\",\"legendgroup\":\"11.8\",\"marker\":{\"color\":\"#FECB52\"},\"name\":\"11.8\",\"offsetgroup\":\"11.8\",\"orientation\":\"v\",\"points\":\"all\",\"scalegroup\":\"True\",\"showlegend\":true,\"x\":[27,61],\"x0\":\" \",\"xaxis\":\"x\",\"y\":[11.8,11.8],\"y0\":\" \",\"yaxis\":\"y\",\"type\":\"violin\"},{\"alignmentgroup\":\"True\",\"box\":{\"visible\":true},\"hovertemplate\":\"BodyFat=%{y}<br>Age=%{x}<extra></extra>\",\"legendgroup\":\"21.3\",\"marker\":{\"color\":\"#636efa\"},\"name\":\"21.3\",\"offsetgroup\":\"21.3\",\"orientation\":\"v\",\"points\":\"all\",\"scalegroup\":\"True\",\"showlegend\":true,\"x\":[41,42],\"x0\":\" \",\"xaxis\":\"x\",\"y\":[21.3,21.3],\"y0\":\" \",\"yaxis\":\"y\",\"type\":\"violin\"},{\"alignmentgroup\":\"True\",\"box\":{\"visible\":true},\"hovertemplate\":\"BodyFat=%{y}<br>Age=%{x}<extra></extra>\",\"legendgroup\":\"32.3\",\"marker\":{\"color\":\"#EF553B\"},\"name\":\"32.3\",\"offsetgroup\":\"32.3\",\"orientation\":\"v\",\"points\":\"all\",\"scalegroup\":\"True\",\"showlegend\":true,\"x\":[41,57],\"x0\":\" \",\"xaxis\":\"x\",\"y\":[32.3,32.3],\"y0\":\" \",\"yaxis\":\"y\",\"type\":\"violin\"},{\"alignmentgroup\":\"True\",\"box\":{\"visible\":true},\"hovertemplate\":\"BodyFat=%{y}<br>Age=%{x}<extra></extra>\",\"legendgroup\":\"40.1\",\"marker\":{\"color\":\"#00cc96\"},\"name\":\"40.1\",\"offsetgroup\":\"40.1\",\"orientation\":\"v\",\"points\":\"all\",\"scalegroup\":\"True\",\"showlegend\":true,\"x\":[49],\"x0\":\" \",\"xaxis\":\"x\",\"y\":[40.1],\"y0\":\" \",\"yaxis\":\"y\",\"type\":\"violin\"},{\"alignmentgroup\":\"True\",\"box\":{\"visible\":true},\"hovertemplate\":\"BodyFat=%{y}<br>Age=%{x}<extra></extra>\",\"legendgroup\":\"24.2\",\"marker\":{\"color\":\"#ab63fa\"},\"name\":\"24.2\",\"offsetgroup\":\"24.2\",\"orientation\":\"v\",\"points\":\"all\",\"scalegroup\":\"True\",\"showlegend\":true,\"x\":[40],\"x0\":\" \",\"xaxis\":\"x\",\"y\":[24.2],\"y0\":\" \",\"yaxis\":\"y\",\"type\":\"violin\"},{\"alignmentgroup\":\"True\",\"box\":{\"visible\":true},\"hovertemplate\":\"BodyFat=%{y}<br>Age=%{x}<extra></extra>\",\"legendgroup\":\"28.4\",\"marker\":{\"color\":\"#FFA15A\"},\"name\":\"28.4\",\"offsetgroup\":\"28.4\",\"orientation\":\"v\",\"points\":\"all\",\"scalegroup\":\"True\",\"showlegend\":true,\"x\":[50],\"x0\":\" \",\"xaxis\":\"x\",\"y\":[28.4],\"y0\":\" \",\"yaxis\":\"y\",\"type\":\"violin\"},{\"alignmentgroup\":\"True\",\"box\":{\"visible\":true},\"hovertemplate\":\"BodyFat=%{y}<br>Age=%{x}<extra></extra>\",\"legendgroup\":\"35.2\",\"marker\":{\"color\":\"#19d3f3\"},\"name\":\"35.2\",\"offsetgroup\":\"35.2\",\"orientation\":\"v\",\"points\":\"all\",\"scalegroup\":\"True\",\"showlegend\":true,\"x\":[46],\"x0\":\" \",\"xaxis\":\"x\",\"y\":[35.2],\"y0\":\" \",\"yaxis\":\"y\",\"type\":\"violin\"},{\"alignmentgroup\":\"True\",\"box\":{\"visible\":true},\"hovertemplate\":\"BodyFat=%{y}<br>Age=%{x}<extra></extra>\",\"legendgroup\":\"32.6\",\"marker\":{\"color\":\"#FF6692\"},\"name\":\"32.6\",\"offsetgroup\":\"32.6\",\"orientation\":\"v\",\"points\":\"all\",\"scalegroup\":\"True\",\"showlegend\":true,\"x\":[50,67],\"x0\":\" \",\"xaxis\":\"x\",\"y\":[32.6,32.6],\"y0\":\" \",\"yaxis\":\"y\",\"type\":\"violin\"},{\"alignmentgroup\":\"True\",\"box\":{\"visible\":true},\"hovertemplate\":\"BodyFat=%{y}<br>Age=%{x}<extra></extra>\",\"legendgroup\":\"34.5\",\"marker\":{\"color\":\"#B6E880\"},\"name\":\"34.5\",\"offsetgroup\":\"34.5\",\"orientation\":\"v\",\"points\":\"all\",\"scalegroup\":\"True\",\"showlegend\":true,\"x\":[45],\"x0\":\" \",\"xaxis\":\"x\",\"y\":[34.5],\"y0\":\" \",\"yaxis\":\"y\",\"type\":\"violin\"},{\"alignmentgroup\":\"True\",\"box\":{\"visible\":true},\"hovertemplate\":\"BodyFat=%{y}<br>Age=%{x}<extra></extra>\",\"legendgroup\":\"32.9\",\"marker\":{\"color\":\"#FF97FF\"},\"name\":\"32.9\",\"offsetgroup\":\"32.9\",\"orientation\":\"v\",\"points\":\"all\",\"scalegroup\":\"True\",\"showlegend\":true,\"x\":[44,44],\"x0\":\" \",\"xaxis\":\"x\",\"y\":[32.9,32.9],\"y0\":\" \",\"yaxis\":\"y\",\"type\":\"violin\"},{\"alignmentgroup\":\"True\",\"box\":{\"visible\":true},\"hovertemplate\":\"BodyFat=%{y}<br>Age=%{x}<extra></extra>\",\"legendgroup\":\"31.6\",\"marker\":{\"color\":\"#FECB52\"},\"name\":\"31.6\",\"offsetgroup\":\"31.6\",\"orientation\":\"v\",\"points\":\"all\",\"scalegroup\":\"True\",\"showlegend\":true,\"x\":[48],\"x0\":\" \",\"xaxis\":\"x\",\"y\":[31.6],\"y0\":\" \",\"yaxis\":\"y\",\"type\":\"violin\"},{\"alignmentgroup\":\"True\",\"box\":{\"visible\":true},\"hovertemplate\":\"BodyFat=%{y}<br>Age=%{x}<extra></extra>\",\"legendgroup\":\"32.0\",\"marker\":{\"color\":\"#636efa\"},\"name\":\"32.0\",\"offsetgroup\":\"32.0\",\"orientation\":\"v\",\"points\":\"all\",\"scalegroup\":\"True\",\"showlegend\":true,\"x\":[41],\"x0\":\" \",\"xaxis\":\"x\",\"y\":[32.0],\"y0\":\" \",\"yaxis\":\"y\",\"type\":\"violin\"},{\"alignmentgroup\":\"True\",\"box\":{\"visible\":true},\"hovertemplate\":\"BodyFat=%{y}<br>Age=%{x}<extra></extra>\",\"legendgroup\":\"7.7\",\"marker\":{\"color\":\"#EF553B\"},\"name\":\"7.7\",\"offsetgroup\":\"7.7\",\"orientation\":\"v\",\"points\":\"all\",\"scalegroup\":\"True\",\"showlegend\":true,\"x\":[39],\"x0\":\" \",\"xaxis\":\"x\",\"y\":[7.7],\"y0\":\" \",\"yaxis\":\"y\",\"type\":\"violin\"},{\"alignmentgroup\":\"True\",\"box\":{\"visible\":true},\"hovertemplate\":\"BodyFat=%{y}<br>Age=%{x}<extra></extra>\",\"legendgroup\":\"13.9\",\"marker\":{\"color\":\"#00cc96\"},\"name\":\"13.9\",\"offsetgroup\":\"13.9\",\"orientation\":\"v\",\"points\":\"all\",\"scalegroup\":\"True\",\"showlegend\":true,\"x\":[43,51],\"x0\":\" \",\"xaxis\":\"x\",\"y\":[13.9,13.9],\"y0\":\" \",\"yaxis\":\"y\",\"type\":\"violin\"},{\"alignmentgroup\":\"True\",\"box\":{\"visible\":true},\"hovertemplate\":\"BodyFat=%{y}<br>Age=%{x}<extra></extra>\",\"legendgroup\":\"10.8\",\"marker\":{\"color\":\"#ab63fa\"},\"name\":\"10.8\",\"offsetgroup\":\"10.8\",\"orientation\":\"v\",\"points\":\"all\",\"scalegroup\":\"True\",\"showlegend\":true,\"x\":[40,47],\"x0\":\" \",\"xaxis\":\"x\",\"y\":[10.8,10.8],\"y0\":\" \",\"yaxis\":\"y\",\"type\":\"violin\"},{\"alignmentgroup\":\"True\",\"box\":{\"visible\":true},\"hovertemplate\":\"BodyFat=%{y}<br>Age=%{x}<extra></extra>\",\"legendgroup\":\"5.6\",\"marker\":{\"color\":\"#FFA15A\"},\"name\":\"5.6\",\"offsetgroup\":\"5.6\",\"orientation\":\"v\",\"points\":\"all\",\"scalegroup\":\"True\",\"showlegend\":true,\"x\":[39],\"x0\":\" \",\"xaxis\":\"x\",\"y\":[5.6],\"y0\":\" \",\"yaxis\":\"y\",\"type\":\"violin\"},{\"alignmentgroup\":\"True\",\"box\":{\"visible\":true},\"hovertemplate\":\"BodyFat=%{y}<br>Age=%{x}<extra></extra>\",\"legendgroup\":\"13.6\",\"marker\":{\"color\":\"#19d3f3\"},\"name\":\"13.6\",\"offsetgroup\":\"13.6\",\"orientation\":\"v\",\"points\":\"all\",\"scalegroup\":\"True\",\"showlegend\":true,\"x\":[45,51],\"x0\":\" \",\"xaxis\":\"x\",\"y\":[13.6,13.6],\"y0\":\" \",\"yaxis\":\"y\",\"type\":\"violin\"},{\"alignmentgroup\":\"True\",\"box\":{\"visible\":true},\"hovertemplate\":\"BodyFat=%{y}<br>Age=%{x}<extra></extra>\",\"legendgroup\":\"4.0\",\"marker\":{\"color\":\"#FF6692\"},\"name\":\"4.0\",\"offsetgroup\":\"4.0\",\"orientation\":\"v\",\"points\":\"all\",\"scalegroup\":\"True\",\"showlegend\":true,\"x\":[47],\"x0\":\" \",\"xaxis\":\"x\",\"y\":[4.0],\"y0\":\" \",\"yaxis\":\"y\",\"type\":\"violin\"},{\"alignmentgroup\":\"True\",\"box\":{\"visible\":true},\"hovertemplate\":\"BodyFat=%{y}<br>Age=%{x}<extra></extra>\",\"legendgroup\":\"10.2\",\"marker\":{\"color\":\"#B6E880\"},\"name\":\"10.2\",\"offsetgroup\":\"10.2\",\"orientation\":\"v\",\"points\":\"all\",\"scalegroup\":\"True\",\"showlegend\":true,\"x\":[47],\"x0\":\" \",\"xaxis\":\"x\",\"y\":[10.2],\"y0\":\" \",\"yaxis\":\"y\",\"type\":\"violin\"},{\"alignmentgroup\":\"True\",\"box\":{\"visible\":true},\"hovertemplate\":\"BodyFat=%{y}<br>Age=%{x}<extra></extra>\",\"legendgroup\":\"6.6\",\"marker\":{\"color\":\"#FF97FF\"},\"name\":\"6.6\",\"offsetgroup\":\"6.6\",\"orientation\":\"v\",\"points\":\"all\",\"scalegroup\":\"True\",\"showlegend\":true,\"x\":[40,42],\"x0\":\" \",\"xaxis\":\"x\",\"y\":[6.6,6.6],\"y0\":\" \",\"yaxis\":\"y\",\"type\":\"violin\"},{\"alignmentgroup\":\"True\",\"box\":{\"visible\":true},\"hovertemplate\":\"BodyFat=%{y}<br>Age=%{x}<extra></extra>\",\"legendgroup\":\"8.0\",\"marker\":{\"color\":\"#FECB52\"},\"name\":\"8.0\",\"offsetgroup\":\"8.0\",\"orientation\":\"v\",\"points\":\"all\",\"scalegroup\":\"True\",\"showlegend\":true,\"x\":[51],\"x0\":\" \",\"xaxis\":\"x\",\"y\":[8.0],\"y0\":\" \",\"yaxis\":\"y\",\"type\":\"violin\"},{\"alignmentgroup\":\"True\",\"box\":{\"visible\":true},\"hovertemplate\":\"BodyFat=%{y}<br>Age=%{x}<extra></extra>\",\"legendgroup\":\"6.3\",\"marker\":{\"color\":\"#636efa\"},\"name\":\"6.3\",\"offsetgroup\":\"6.3\",\"orientation\":\"v\",\"points\":\"all\",\"scalegroup\":\"True\",\"showlegend\":true,\"x\":[49,54],\"x0\":\" \",\"xaxis\":\"x\",\"y\":[6.3,6.3],\"y0\":\" \",\"yaxis\":\"y\",\"type\":\"violin\"},{\"alignmentgroup\":\"True\",\"box\":{\"visible\":true},\"hovertemplate\":\"BodyFat=%{y}<br>Age=%{x}<extra></extra>\",\"legendgroup\":\"3.9\",\"marker\":{\"color\":\"#EF553B\"},\"name\":\"3.9\",\"offsetgroup\":\"3.9\",\"orientation\":\"v\",\"points\":\"all\",\"scalegroup\":\"True\",\"showlegend\":true,\"x\":[42],\"x0\":\" \",\"xaxis\":\"x\",\"y\":[3.9],\"y0\":\" \",\"yaxis\":\"y\",\"type\":\"violin\"},{\"alignmentgroup\":\"True\",\"box\":{\"visible\":true},\"hovertemplate\":\"BodyFat=%{y}<br>Age=%{x}<extra></extra>\",\"legendgroup\":\"22.6\",\"marker\":{\"color\":\"#00cc96\"},\"name\":\"22.6\",\"offsetgroup\":\"22.6\",\"orientation\":\"v\",\"points\":\"all\",\"scalegroup\":\"True\",\"showlegend\":true,\"x\":[54],\"x0\":\" \",\"xaxis\":\"x\",\"y\":[22.6],\"y0\":\" \",\"yaxis\":\"y\",\"type\":\"violin\"},{\"alignmentgroup\":\"True\",\"box\":{\"visible\":true},\"hovertemplate\":\"BodyFat=%{y}<br>Age=%{x}<extra></extra>\",\"legendgroup\":\"20.4\",\"marker\":{\"color\":\"#ab63fa\"},\"name\":\"20.4\",\"offsetgroup\":\"20.4\",\"orientation\":\"v\",\"points\":\"all\",\"scalegroup\":\"True\",\"showlegend\":true,\"x\":[58,48,49,41],\"x0\":\" \",\"xaxis\":\"x\",\"y\":[20.4,20.4,20.4,20.4],\"y0\":\" \",\"yaxis\":\"y\",\"type\":\"violin\"},{\"alignmentgroup\":\"True\",\"box\":{\"visible\":true},\"hovertemplate\":\"BodyFat=%{y}<br>Age=%{x}<extra></extra>\",\"legendgroup\":\"28.0\",\"marker\":{\"color\":\"#FFA15A\"},\"name\":\"28.0\",\"offsetgroup\":\"28.0\",\"orientation\":\"v\",\"points\":\"all\",\"scalegroup\":\"True\",\"showlegend\":true,\"x\":[62,43],\"x0\":\" \",\"xaxis\":\"x\",\"y\":[28.0,28.0],\"y0\":\" \",\"yaxis\":\"y\",\"type\":\"violin\"},{\"alignmentgroup\":\"True\",\"box\":{\"visible\":true},\"hovertemplate\":\"BodyFat=%{y}<br>Age=%{x}<extra></extra>\",\"legendgroup\":\"31.5\",\"marker\":{\"color\":\"#19d3f3\"},\"name\":\"31.5\",\"offsetgroup\":\"31.5\",\"orientation\":\"v\",\"points\":\"all\",\"scalegroup\":\"True\",\"showlegend\":true,\"x\":[54],\"x0\":\" \",\"xaxis\":\"x\",\"y\":[31.5],\"y0\":\" \",\"yaxis\":\"y\",\"type\":\"violin\"},{\"alignmentgroup\":\"True\",\"box\":{\"visible\":true},\"hovertemplate\":\"BodyFat=%{y}<br>Age=%{x}<extra></extra>\",\"legendgroup\":\"24.6\",\"marker\":{\"color\":\"#FF6692\"},\"name\":\"24.6\",\"offsetgroup\":\"24.6\",\"orientation\":\"v\",\"points\":\"all\",\"scalegroup\":\"True\",\"showlegend\":true,\"x\":[61],\"x0\":\" \",\"xaxis\":\"x\",\"y\":[24.6],\"y0\":\" \",\"yaxis\":\"y\",\"type\":\"violin\"},{\"alignmentgroup\":\"True\",\"box\":{\"visible\":true},\"hovertemplate\":\"BodyFat=%{y}<br>Age=%{x}<extra></extra>\",\"legendgroup\":\"26.1\",\"marker\":{\"color\":\"#B6E880\"},\"name\":\"26.1\",\"offsetgroup\":\"26.1\",\"orientation\":\"v\",\"points\":\"all\",\"scalegroup\":\"True\",\"showlegend\":true,\"x\":[62,50],\"x0\":\" \",\"xaxis\":\"x\",\"y\":[26.1,26.1],\"y0\":\" \",\"yaxis\":\"y\",\"type\":\"violin\"},{\"alignmentgroup\":\"True\",\"box\":{\"visible\":true},\"hovertemplate\":\"BodyFat=%{y}<br>Age=%{x}<extra></extra>\",\"legendgroup\":\"29.8\",\"marker\":{\"color\":\"#FF97FF\"},\"name\":\"29.8\",\"offsetgroup\":\"29.8\",\"orientation\":\"v\",\"points\":\"all\",\"scalegroup\":\"True\",\"showlegend\":true,\"x\":[56],\"x0\":\" \",\"xaxis\":\"x\",\"y\":[29.8],\"y0\":\" \",\"yaxis\":\"y\",\"type\":\"violin\"},{\"alignmentgroup\":\"True\",\"box\":{\"visible\":true},\"hovertemplate\":\"BodyFat=%{y}<br>Age=%{x}<extra></extra>\",\"legendgroup\":\"30.7\",\"marker\":{\"color\":\"#FECB52\"},\"name\":\"30.7\",\"offsetgroup\":\"30.7\",\"orientation\":\"v\",\"points\":\"all\",\"scalegroup\":\"True\",\"showlegend\":true,\"x\":[54],\"x0\":\" \",\"xaxis\":\"x\",\"y\":[30.7],\"y0\":\" \",\"yaxis\":\"y\",\"type\":\"violin\"},{\"alignmentgroup\":\"True\",\"box\":{\"visible\":true},\"hovertemplate\":\"BodyFat=%{y}<br>Age=%{x}<extra></extra>\",\"legendgroup\":\"25.8\",\"marker\":{\"color\":\"#636efa\"},\"name\":\"25.8\",\"offsetgroup\":\"25.8\",\"orientation\":\"v\",\"points\":\"all\",\"scalegroup\":\"True\",\"showlegend\":true,\"x\":[61,40,60],\"x0\":\" \",\"xaxis\":\"x\",\"y\":[25.8,25.8,25.8],\"y0\":\" \",\"yaxis\":\"y\",\"type\":\"violin\"},{\"alignmentgroup\":\"True\",\"box\":{\"visible\":true},\"hovertemplate\":\"BodyFat=%{y}<br>Age=%{x}<extra></extra>\",\"legendgroup\":\"30.0\",\"marker\":{\"color\":\"#EF553B\"},\"name\":\"30.0\",\"offsetgroup\":\"30.0\",\"orientation\":\"v\",\"points\":\"all\",\"scalegroup\":\"True\",\"showlegend\":true,\"x\":[55],\"x0\":\" \",\"xaxis\":\"x\",\"y\":[30.0],\"y0\":\" \",\"yaxis\":\"y\",\"type\":\"violin\"},{\"alignmentgroup\":\"True\",\"box\":{\"visible\":true},\"hovertemplate\":\"BodyFat=%{y}<br>Age=%{x}<extra></extra>\",\"legendgroup\":\"21.5\",\"marker\":{\"color\":\"#00cc96\"},\"name\":\"21.5\",\"offsetgroup\":\"21.5\",\"orientation\":\"v\",\"points\":\"all\",\"scalegroup\":\"True\",\"showlegend\":true,\"x\":[54,81],\"x0\":\" \",\"xaxis\":\"x\",\"y\":[21.5,21.5],\"y0\":\" \",\"yaxis\":\"y\",\"type\":\"violin\"},{\"alignmentgroup\":\"True\",\"box\":{\"visible\":true},\"hovertemplate\":\"BodyFat=%{y}<br>Age=%{x}<extra></extra>\",\"legendgroup\":\"13.8\",\"marker\":{\"color\":\"#ab63fa\"},\"name\":\"13.8\",\"offsetgroup\":\"13.8\",\"orientation\":\"v\",\"points\":\"all\",\"scalegroup\":\"True\",\"showlegend\":true,\"x\":[55,50],\"x0\":\" \",\"xaxis\":\"x\",\"y\":[13.8,13.8],\"y0\":\" \",\"yaxis\":\"y\",\"type\":\"violin\"},{\"alignmentgroup\":\"True\",\"box\":{\"visible\":true},\"hovertemplate\":\"BodyFat=%{y}<br>Age=%{x}<extra></extra>\",\"legendgroup\":\"12.9\",\"marker\":{\"color\":\"#FFA15A\"},\"name\":\"12.9\",\"offsetgroup\":\"12.9\",\"orientation\":\"v\",\"points\":\"all\",\"scalegroup\":\"True\",\"showlegend\":true,\"x\":[55],\"x0\":\" \",\"xaxis\":\"x\",\"y\":[12.9],\"y0\":\" \",\"yaxis\":\"y\",\"type\":\"violin\"},{\"alignmentgroup\":\"True\",\"box\":{\"visible\":true},\"hovertemplate\":\"BodyFat=%{y}<br>Age=%{x}<extra></extra>\",\"legendgroup\":\"24.3\",\"marker\":{\"color\":\"#19d3f3\"},\"name\":\"24.3\",\"offsetgroup\":\"24.3\",\"orientation\":\"v\",\"points\":\"all\",\"scalegroup\":\"True\",\"showlegend\":true,\"x\":[62],\"x0\":\" \",\"xaxis\":\"x\",\"y\":[24.3],\"y0\":\" \",\"yaxis\":\"y\",\"type\":\"violin\"},{\"alignmentgroup\":\"True\",\"box\":{\"visible\":true},\"hovertemplate\":\"BodyFat=%{y}<br>Age=%{x}<extra></extra>\",\"legendgroup\":\"8.5\",\"marker\":{\"color\":\"#FF6692\"},\"name\":\"8.5\",\"offsetgroup\":\"8.5\",\"orientation\":\"v\",\"points\":\"all\",\"scalegroup\":\"True\",\"showlegend\":true,\"x\":[56,47],\"x0\":\" \",\"xaxis\":\"x\",\"y\":[8.5,8.5],\"y0\":\" \",\"yaxis\":\"y\",\"type\":\"violin\"},{\"alignmentgroup\":\"True\",\"box\":{\"visible\":true},\"hovertemplate\":\"BodyFat=%{y}<br>Age=%{x}<extra></extra>\",\"legendgroup\":\"13.5\",\"marker\":{\"color\":\"#B6E880\"},\"name\":\"13.5\",\"offsetgroup\":\"13.5\",\"orientation\":\"v\",\"points\":\"all\",\"scalegroup\":\"True\",\"showlegend\":true,\"x\":[55],\"x0\":\" \",\"xaxis\":\"x\",\"y\":[13.5],\"y0\":\" \",\"yaxis\":\"y\",\"type\":\"violin\"},{\"alignmentgroup\":\"True\",\"box\":{\"visible\":true},\"hovertemplate\":\"BodyFat=%{y}<br>Age=%{x}<extra></extra>\",\"legendgroup\":\"18.5\",\"marker\":{\"color\":\"#FF97FF\"},\"name\":\"18.5\",\"offsetgroup\":\"18.5\",\"orientation\":\"v\",\"points\":\"all\",\"scalegroup\":\"True\",\"showlegend\":true,\"x\":[61],\"x0\":\" \",\"xaxis\":\"x\",\"y\":[18.5],\"y0\":\" \",\"yaxis\":\"y\",\"type\":\"violin\"},{\"alignmentgroup\":\"True\",\"box\":{\"visible\":true},\"hovertemplate\":\"BodyFat=%{y}<br>Age=%{x}<extra></extra>\",\"legendgroup\":\"22.2\",\"marker\":{\"color\":\"#FECB52\"},\"name\":\"22.2\",\"offsetgroup\":\"22.2\",\"orientation\":\"v\",\"points\":\"all\",\"scalegroup\":\"True\",\"showlegend\":true,\"x\":[69,47],\"x0\":\" \",\"xaxis\":\"x\",\"y\":[22.2,22.2],\"y0\":\" \",\"yaxis\":\"y\",\"type\":\"violin\"},{\"alignmentgroup\":\"True\",\"box\":{\"visible\":true},\"hovertemplate\":\"BodyFat=%{y}<br>Age=%{x}<extra></extra>\",\"legendgroup\":\"18.8\",\"marker\":{\"color\":\"#636efa\"},\"name\":\"18.8\",\"offsetgroup\":\"18.8\",\"orientation\":\"v\",\"points\":\"all\",\"scalegroup\":\"True\",\"showlegend\":true,\"x\":[66],\"x0\":\" \",\"xaxis\":\"x\",\"y\":[18.8],\"y0\":\" \",\"yaxis\":\"y\",\"type\":\"violin\"},{\"alignmentgroup\":\"True\",\"box\":{\"visible\":true},\"hovertemplate\":\"BodyFat=%{y}<br>Age=%{x}<extra></extra>\",\"legendgroup\":\"31.4\",\"marker\":{\"color\":\"#EF553B\"},\"name\":\"31.4\",\"offsetgroup\":\"31.4\",\"orientation\":\"v\",\"points\":\"all\",\"scalegroup\":\"True\",\"showlegend\":true,\"x\":[67],\"x0\":\" \",\"xaxis\":\"x\",\"y\":[31.4],\"y0\":\" \",\"yaxis\":\"y\",\"type\":\"violin\"},{\"alignmentgroup\":\"True\",\"box\":{\"visible\":true},\"hovertemplate\":\"BodyFat=%{y}<br>Age=%{x}<extra></extra>\",\"legendgroup\":\"26.8\",\"marker\":{\"color\":\"#00cc96\"},\"name\":\"26.8\",\"offsetgroup\":\"26.8\",\"orientation\":\"v\",\"points\":\"all\",\"scalegroup\":\"True\",\"showlegend\":true,\"x\":[64],\"x0\":\" \",\"xaxis\":\"x\",\"y\":[26.8],\"y0\":\" \",\"yaxis\":\"y\",\"type\":\"violin\"},{\"alignmentgroup\":\"True\",\"box\":{\"visible\":true},\"hovertemplate\":\"BodyFat=%{y}<br>Age=%{x}<extra></extra>\",\"legendgroup\":\"18.4\",\"marker\":{\"color\":\"#ab63fa\"},\"name\":\"18.4\",\"offsetgroup\":\"18.4\",\"orientation\":\"v\",\"points\":\"all\",\"scalegroup\":\"True\",\"showlegend\":true,\"x\":[64],\"x0\":\" \",\"xaxis\":\"x\",\"y\":[18.4],\"y0\":\" \",\"yaxis\":\"y\",\"type\":\"violin\"},{\"alignmentgroup\":\"True\",\"box\":{\"visible\":true},\"hovertemplate\":\"BodyFat=%{y}<br>Age=%{x}<extra></extra>\",\"legendgroup\":\"27.0\",\"marker\":{\"color\":\"#FFA15A\"},\"name\":\"27.0\",\"offsetgroup\":\"27.0\",\"orientation\":\"v\",\"points\":\"all\",\"scalegroup\":\"True\",\"showlegend\":true,\"x\":[70,72],\"x0\":\" \",\"xaxis\":\"x\",\"y\":[27.0,27.0],\"y0\":\" \",\"yaxis\":\"y\",\"type\":\"violin\"},{\"alignmentgroup\":\"True\",\"box\":{\"visible\":true},\"hovertemplate\":\"BodyFat=%{y}<br>Age=%{x}<extra></extra>\",\"legendgroup\":\"26.6\",\"marker\":{\"color\":\"#19d3f3\"},\"name\":\"26.6\",\"offsetgroup\":\"26.6\",\"orientation\":\"v\",\"points\":\"all\",\"scalegroup\":\"True\",\"showlegend\":true,\"x\":[67,39],\"x0\":\" \",\"xaxis\":\"x\",\"y\":[26.6,26.6],\"y0\":\" \",\"yaxis\":\"y\",\"type\":\"violin\"},{\"alignmentgroup\":\"True\",\"box\":{\"visible\":true},\"hovertemplate\":\"BodyFat=%{y}<br>Age=%{x}<extra></extra>\",\"legendgroup\":\"14.9\",\"marker\":{\"color\":\"#FF6692\"},\"name\":\"14.9\",\"offsetgroup\":\"14.9\",\"orientation\":\"v\",\"points\":\"all\",\"scalegroup\":\"True\",\"showlegend\":true,\"x\":[72,42,56],\"x0\":\" \",\"xaxis\":\"x\",\"y\":[14.9,14.9,14.9],\"y0\":\" \",\"yaxis\":\"y\",\"type\":\"violin\"},{\"alignmentgroup\":\"True\",\"box\":{\"visible\":true},\"hovertemplate\":\"BodyFat=%{y}<br>Age=%{x}<extra></extra>\",\"legendgroup\":\"23.1\",\"marker\":{\"color\":\"#B6E880\"},\"name\":\"23.1\",\"offsetgroup\":\"23.1\",\"orientation\":\"v\",\"points\":\"all\",\"scalegroup\":\"True\",\"showlegend\":true,\"x\":[64],\"x0\":\" \",\"xaxis\":\"x\",\"y\":[23.1],\"y0\":\" \",\"yaxis\":\"y\",\"type\":\"violin\"},{\"alignmentgroup\":\"True\",\"box\":{\"visible\":true},\"hovertemplate\":\"BodyFat=%{y}<br>Age=%{x}<extra></extra>\",\"legendgroup\":\"8.3\",\"marker\":{\"color\":\"#FF97FF\"},\"name\":\"8.3\",\"offsetgroup\":\"8.3\",\"orientation\":\"v\",\"points\":\"all\",\"scalegroup\":\"True\",\"showlegend\":true,\"x\":[46],\"x0\":\" \",\"xaxis\":\"x\",\"y\":[8.3],\"y0\":\" \",\"yaxis\":\"y\",\"type\":\"violin\"},{\"alignmentgroup\":\"True\",\"box\":{\"visible\":true},\"hovertemplate\":\"BodyFat=%{y}<br>Age=%{x}<extra></extra>\",\"legendgroup\":\"14.1\",\"marker\":{\"color\":\"#FECB52\"},\"name\":\"14.1\",\"offsetgroup\":\"14.1\",\"orientation\":\"v\",\"points\":\"all\",\"scalegroup\":\"True\",\"showlegend\":true,\"x\":[48],\"x0\":\" \",\"xaxis\":\"x\",\"y\":[14.1],\"y0\":\" \",\"yaxis\":\"y\",\"type\":\"violin\"},{\"alignmentgroup\":\"True\",\"box\":{\"visible\":true},\"hovertemplate\":\"BodyFat=%{y}<br>Age=%{x}<extra></extra>\",\"legendgroup\":\"20.5\",\"marker\":{\"color\":\"#636efa\"},\"name\":\"20.5\",\"offsetgroup\":\"20.5\",\"orientation\":\"v\",\"points\":\"all\",\"scalegroup\":\"True\",\"showlegend\":true,\"x\":[46,35,41],\"x0\":\" \",\"xaxis\":\"x\",\"y\":[20.5,20.5,20.5],\"y0\":\" \",\"yaxis\":\"y\",\"type\":\"violin\"},{\"alignmentgroup\":\"True\",\"box\":{\"visible\":true},\"hovertemplate\":\"BodyFat=%{y}<br>Age=%{x}<extra></extra>\",\"legendgroup\":\"18.2\",\"marker\":{\"color\":\"#EF553B\"},\"name\":\"18.2\",\"offsetgroup\":\"18.2\",\"orientation\":\"v\",\"points\":\"all\",\"scalegroup\":\"True\",\"showlegend\":true,\"x\":[44],\"x0\":\" \",\"xaxis\":\"x\",\"y\":[18.2],\"y0\":\" \",\"yaxis\":\"y\",\"type\":\"violin\"},{\"alignmentgroup\":\"True\",\"box\":{\"visible\":true},\"hovertemplate\":\"BodyFat=%{y}<br>Age=%{x}<extra></extra>\",\"legendgroup\":\"24.9\",\"marker\":{\"color\":\"#00cc96\"},\"name\":\"24.9\",\"offsetgroup\":\"24.9\",\"orientation\":\"v\",\"points\":\"all\",\"scalegroup\":\"True\",\"showlegend\":true,\"x\":[46,40],\"x0\":\" \",\"xaxis\":\"x\",\"y\":[24.9,24.9],\"y0\":\" \",\"yaxis\":\"y\",\"type\":\"violin\"},{\"alignmentgroup\":\"True\",\"box\":{\"visible\":true},\"hovertemplate\":\"BodyFat=%{y}<br>Age=%{x}<extra></extra>\",\"legendgroup\":\"9.0\",\"marker\":{\"color\":\"#ab63fa\"},\"name\":\"9.0\",\"offsetgroup\":\"9.0\",\"orientation\":\"v\",\"points\":\"all\",\"scalegroup\":\"True\",\"showlegend\":true,\"x\":[47],\"x0\":\" \",\"xaxis\":\"x\",\"y\":[9.0],\"y0\":\" \",\"yaxis\":\"y\",\"type\":\"violin\"},{\"alignmentgroup\":\"True\",\"box\":{\"visible\":true},\"hovertemplate\":\"BodyFat=%{y}<br>Age=%{x}<extra></extra>\",\"legendgroup\":\"17.4\",\"marker\":{\"color\":\"#FFA15A\"},\"name\":\"17.4\",\"offsetgroup\":\"17.4\",\"orientation\":\"v\",\"points\":\"all\",\"scalegroup\":\"True\",\"showlegend\":true,\"x\":[53,43],\"x0\":\" \",\"xaxis\":\"x\",\"y\":[17.4,17.4],\"y0\":\" \",\"yaxis\":\"y\",\"type\":\"violin\"},{\"alignmentgroup\":\"True\",\"box\":{\"visible\":true},\"hovertemplate\":\"BodyFat=%{y}<br>Age=%{x}<extra></extra>\",\"legendgroup\":\"9.6\",\"marker\":{\"color\":\"#19d3f3\"},\"name\":\"9.6\",\"offsetgroup\":\"9.6\",\"orientation\":\"v\",\"points\":\"all\",\"scalegroup\":\"True\",\"showlegend\":true,\"x\":[38,47],\"x0\":\" \",\"xaxis\":\"x\",\"y\":[9.6,9.6],\"y0\":\" \",\"yaxis\":\"y\",\"type\":\"violin\"},{\"alignmentgroup\":\"True\",\"box\":{\"visible\":true},\"hovertemplate\":\"BodyFat=%{y}<br>Age=%{x}<extra></extra>\",\"legendgroup\":\"11.3\",\"marker\":{\"color\":\"#FF6692\"},\"name\":\"11.3\",\"offsetgroup\":\"11.3\",\"orientation\":\"v\",\"points\":\"all\",\"scalegroup\":\"True\",\"showlegend\":true,\"x\":[50],\"x0\":\" \",\"xaxis\":\"x\",\"y\":[11.3],\"y0\":\" \",\"yaxis\":\"y\",\"type\":\"violin\"},{\"alignmentgroup\":\"True\",\"box\":{\"visible\":true},\"hovertemplate\":\"BodyFat=%{y}<br>Age=%{x}<extra></extra>\",\"legendgroup\":\"17.8\",\"marker\":{\"color\":\"#B6E880\"},\"name\":\"17.8\",\"offsetgroup\":\"17.8\",\"orientation\":\"v\",\"points\":\"all\",\"scalegroup\":\"True\",\"showlegend\":true,\"x\":[46],\"x0\":\" \",\"xaxis\":\"x\",\"y\":[17.8],\"y0\":\" \",\"yaxis\":\"y\",\"type\":\"violin\"},{\"alignmentgroup\":\"True\",\"box\":{\"visible\":true},\"hovertemplate\":\"BodyFat=%{y}<br>Age=%{x}<extra></extra>\",\"legendgroup\":\"20.1\",\"marker\":{\"color\":\"#FF97FF\"},\"name\":\"20.1\",\"offsetgroup\":\"20.1\",\"orientation\":\"v\",\"points\":\"all\",\"scalegroup\":\"True\",\"showlegend\":true,\"x\":[41,48],\"x0\":\" \",\"xaxis\":\"x\",\"y\":[20.1,20.1],\"y0\":\" \",\"yaxis\":\"y\",\"type\":\"violin\"},{\"alignmentgroup\":\"True\",\"box\":{\"visible\":true},\"hovertemplate\":\"BodyFat=%{y}<br>Age=%{x}<extra></extra>\",\"legendgroup\":\"22.3\",\"marker\":{\"color\":\"#FECB52\"},\"name\":\"22.3\",\"offsetgroup\":\"22.3\",\"orientation\":\"v\",\"points\":\"all\",\"scalegroup\":\"True\",\"showlegend\":true,\"x\":[49],\"x0\":\" \",\"xaxis\":\"x\",\"y\":[22.3],\"y0\":\" \",\"yaxis\":\"y\",\"type\":\"violin\"},{\"alignmentgroup\":\"True\",\"box\":{\"visible\":true},\"hovertemplate\":\"BodyFat=%{y}<br>Age=%{x}<extra></extra>\",\"legendgroup\":\"25.4\",\"marker\":{\"color\":\"#636efa\"},\"name\":\"25.4\",\"offsetgroup\":\"25.4\",\"orientation\":\"v\",\"points\":\"all\",\"scalegroup\":\"True\",\"showlegend\":true,\"x\":[43],\"x0\":\" \",\"xaxis\":\"x\",\"y\":[25.4],\"y0\":\" \",\"yaxis\":\"y\",\"type\":\"violin\"},{\"alignmentgroup\":\"True\",\"box\":{\"visible\":true},\"hovertemplate\":\"BodyFat=%{y}<br>Age=%{x}<extra></extra>\",\"legendgroup\":\"18.0\",\"marker\":{\"color\":\"#EF553B\"},\"name\":\"18.0\",\"offsetgroup\":\"18.0\",\"orientation\":\"v\",\"points\":\"all\",\"scalegroup\":\"True\",\"showlegend\":true,\"x\":[43],\"x0\":\" \",\"xaxis\":\"x\",\"y\":[18.0],\"y0\":\" \",\"yaxis\":\"y\",\"type\":\"violin\"},{\"alignmentgroup\":\"True\",\"box\":{\"visible\":true},\"hovertemplate\":\"BodyFat=%{y}<br>Age=%{x}<extra></extra>\",\"legendgroup\":\"19.3\",\"marker\":{\"color\":\"#00cc96\"},\"name\":\"19.3\",\"offsetgroup\":\"19.3\",\"orientation\":\"v\",\"points\":\"all\",\"scalegroup\":\"True\",\"showlegend\":true,\"x\":[43],\"x0\":\" \",\"xaxis\":\"x\",\"y\":[19.3],\"y0\":\" \",\"yaxis\":\"y\",\"type\":\"violin\"},{\"alignmentgroup\":\"True\",\"box\":{\"visible\":true},\"hovertemplate\":\"BodyFat=%{y}<br>Age=%{x}<extra></extra>\",\"legendgroup\":\"18.3\",\"marker\":{\"color\":\"#ab63fa\"},\"name\":\"18.3\",\"offsetgroup\":\"18.3\",\"orientation\":\"v\",\"points\":\"all\",\"scalegroup\":\"True\",\"showlegend\":true,\"x\":[52,40],\"x0\":\" \",\"xaxis\":\"x\",\"y\":[18.3,18.3],\"y0\":\" \",\"yaxis\":\"y\",\"type\":\"violin\"},{\"alignmentgroup\":\"True\",\"box\":{\"visible\":true},\"hovertemplate\":\"BodyFat=%{y}<br>Age=%{x}<extra></extra>\",\"legendgroup\":\"17.3\",\"marker\":{\"color\":\"#FFA15A\"},\"name\":\"17.3\",\"offsetgroup\":\"17.3\",\"orientation\":\"v\",\"points\":\"all\",\"scalegroup\":\"True\",\"showlegend\":true,\"x\":[43,28],\"x0\":\" \",\"xaxis\":\"x\",\"y\":[17.3,17.3],\"y0\":\" \",\"yaxis\":\"y\",\"type\":\"violin\"},{\"alignmentgroup\":\"True\",\"box\":{\"visible\":true},\"hovertemplate\":\"BodyFat=%{y}<br>Age=%{x}<extra></extra>\",\"legendgroup\":\"21.4\",\"marker\":{\"color\":\"#19d3f3\"},\"name\":\"21.4\",\"offsetgroup\":\"21.4\",\"orientation\":\"v\",\"points\":\"all\",\"scalegroup\":\"True\",\"showlegend\":true,\"x\":[40],\"x0\":\" \",\"xaxis\":\"x\",\"y\":[21.4],\"y0\":\" \",\"yaxis\":\"y\",\"type\":\"violin\"},{\"alignmentgroup\":\"True\",\"box\":{\"visible\":true},\"hovertemplate\":\"BodyFat=%{y}<br>Age=%{x}<extra></extra>\",\"legendgroup\":\"19.7\",\"marker\":{\"color\":\"#FF6692\"},\"name\":\"19.7\",\"offsetgroup\":\"19.7\",\"orientation\":\"v\",\"points\":\"all\",\"scalegroup\":\"True\",\"showlegend\":true,\"x\":[43],\"x0\":\" \",\"xaxis\":\"x\",\"y\":[19.7],\"y0\":\" \",\"yaxis\":\"y\",\"type\":\"violin\"},{\"alignmentgroup\":\"True\",\"box\":{\"visible\":true},\"hovertemplate\":\"BodyFat=%{y}<br>Age=%{x}<extra></extra>\",\"legendgroup\":\"26.7\",\"marker\":{\"color\":\"#B6E880\"},\"name\":\"26.7\",\"offsetgroup\":\"26.7\",\"orientation\":\"v\",\"points\":\"all\",\"scalegroup\":\"True\",\"showlegend\":true,\"x\":[48,58],\"x0\":\" \",\"xaxis\":\"x\",\"y\":[26.7,26.7],\"y0\":\" \",\"yaxis\":\"y\",\"type\":\"violin\"},{\"alignmentgroup\":\"True\",\"box\":{\"visible\":true},\"hovertemplate\":\"BodyFat=%{y}<br>Age=%{x}<extra></extra>\",\"legendgroup\":\"16.7\",\"marker\":{\"color\":\"#FF97FF\"},\"name\":\"16.7\",\"offsetgroup\":\"16.7\",\"orientation\":\"v\",\"points\":\"all\",\"scalegroup\":\"True\",\"showlegend\":true,\"x\":[40],\"x0\":\" \",\"xaxis\":\"x\",\"y\":[16.7],\"y0\":\" \",\"yaxis\":\"y\",\"type\":\"violin\"},{\"alignmentgroup\":\"True\",\"box\":{\"visible\":true},\"hovertemplate\":\"BodyFat=%{y}<br>Age=%{x}<extra></extra>\",\"legendgroup\":\"18.1\",\"marker\":{\"color\":\"#FECB52\"},\"name\":\"18.1\",\"offsetgroup\":\"18.1\",\"orientation\":\"v\",\"points\":\"all\",\"scalegroup\":\"True\",\"showlegend\":true,\"x\":[44,49],\"x0\":\" \",\"xaxis\":\"x\",\"y\":[18.1,18.1],\"y0\":\" \",\"yaxis\":\"y\",\"type\":\"violin\"},{\"alignmentgroup\":\"True\",\"box\":{\"visible\":true},\"hovertemplate\":\"BodyFat=%{y}<br>Age=%{x}<extra></extra>\",\"legendgroup\":\"27.9\",\"marker\":{\"color\":\"#636efa\"},\"name\":\"27.9\",\"offsetgroup\":\"27.9\",\"orientation\":\"v\",\"points\":\"all\",\"scalegroup\":\"True\",\"showlegend\":true,\"x\":[52],\"x0\":\" \",\"xaxis\":\"x\",\"y\":[27.9],\"y0\":\" \",\"yaxis\":\"y\",\"type\":\"violin\"},{\"alignmentgroup\":\"True\",\"box\":{\"visible\":true},\"hovertemplate\":\"BodyFat=%{y}<br>Age=%{x}<extra></extra>\",\"legendgroup\":\"14.7\",\"marker\":{\"color\":\"#EF553B\"},\"name\":\"14.7\",\"offsetgroup\":\"14.7\",\"orientation\":\"v\",\"points\":\"all\",\"scalegroup\":\"True\",\"showlegend\":true,\"x\":[40],\"x0\":\" \",\"xaxis\":\"x\",\"y\":[14.7],\"y0\":\" \",\"yaxis\":\"y\",\"type\":\"violin\"},{\"alignmentgroup\":\"True\",\"box\":{\"visible\":true},\"hovertemplate\":\"BodyFat=%{y}<br>Age=%{x}<extra></extra>\",\"legendgroup\":\"17.5\",\"marker\":{\"color\":\"#00cc96\"},\"name\":\"17.5\",\"offsetgroup\":\"17.5\",\"orientation\":\"v\",\"points\":\"all\",\"scalegroup\":\"True\",\"showlegend\":true,\"x\":[46,40],\"x0\":\" \",\"xaxis\":\"x\",\"y\":[17.5,17.5],\"y0\":\" \",\"yaxis\":\"y\",\"type\":\"violin\"},{\"alignmentgroup\":\"True\",\"box\":{\"visible\":true},\"hovertemplate\":\"BodyFat=%{y}<br>Age=%{x}<extra></extra>\",\"legendgroup\":\"27.2\",\"marker\":{\"color\":\"#ab63fa\"},\"name\":\"27.2\",\"offsetgroup\":\"27.2\",\"orientation\":\"v\",\"points\":\"all\",\"scalegroup\":\"True\",\"showlegend\":true,\"x\":[42,49],\"x0\":\" \",\"xaxis\":\"x\",\"y\":[27.2,27.2],\"y0\":\" \",\"yaxis\":\"y\",\"type\":\"violin\"},{\"alignmentgroup\":\"True\",\"box\":{\"visible\":true},\"hovertemplate\":\"BodyFat=%{y}<br>Age=%{x}<extra></extra>\",\"legendgroup\":\"22.7\",\"marker\":{\"color\":\"#FFA15A\"},\"name\":\"22.7\",\"offsetgroup\":\"22.7\",\"orientation\":\"v\",\"points\":\"all\",\"scalegroup\":\"True\",\"showlegend\":true,\"x\":[40],\"x0\":\" \",\"xaxis\":\"x\",\"y\":[22.7],\"y0\":\" \",\"yaxis\":\"y\",\"type\":\"violin\"},{\"alignmentgroup\":\"True\",\"box\":{\"visible\":true},\"hovertemplate\":\"BodyFat=%{y}<br>Age=%{x}<extra></extra>\",\"legendgroup\":\"23.6\",\"marker\":{\"color\":\"#19d3f3\"},\"name\":\"23.6\",\"offsetgroup\":\"23.6\",\"orientation\":\"v\",\"points\":\"all\",\"scalegroup\":\"True\",\"showlegend\":true,\"x\":[47,41,43],\"x0\":\" \",\"xaxis\":\"x\",\"y\":[23.6,23.6,23.6],\"y0\":\" \",\"yaxis\":\"y\",\"type\":\"violin\"},{\"alignmentgroup\":\"True\",\"box\":{\"visible\":true},\"hovertemplate\":\"BodyFat=%{y}<br>Age=%{x}<extra></extra>\",\"legendgroup\":\"24.4\",\"marker\":{\"color\":\"#FF6692\"},\"name\":\"24.4\",\"offsetgroup\":\"24.4\",\"orientation\":\"v\",\"points\":\"all\",\"scalegroup\":\"True\",\"showlegend\":true,\"x\":[41,41],\"x0\":\" \",\"xaxis\":\"x\",\"y\":[24.4,24.4],\"y0\":\" \",\"yaxis\":\"y\",\"type\":\"violin\"},{\"alignmentgroup\":\"True\",\"box\":{\"visible\":true},\"hovertemplate\":\"BodyFat=%{y}<br>Age=%{x}<extra></extra>\",\"legendgroup\":\"27.1\",\"marker\":{\"color\":\"#B6E880\"},\"name\":\"27.1\",\"offsetgroup\":\"27.1\",\"orientation\":\"v\",\"points\":\"all\",\"scalegroup\":\"True\",\"showlegend\":true,\"x\":[44],\"x0\":\" \",\"xaxis\":\"x\",\"y\":[27.1],\"y0\":\" \",\"yaxis\":\"y\",\"type\":\"violin\"},{\"alignmentgroup\":\"True\",\"box\":{\"visible\":true},\"hovertemplate\":\"BodyFat=%{y}<br>Age=%{x}<extra></extra>\",\"legendgroup\":\"21.8\",\"marker\":{\"color\":\"#FF97FF\"},\"name\":\"21.8\",\"offsetgroup\":\"21.8\",\"orientation\":\"v\",\"points\":\"all\",\"scalegroup\":\"True\",\"showlegend\":true,\"x\":[39,35],\"x0\":\" \",\"xaxis\":\"x\",\"y\":[21.8,21.8],\"y0\":\" \",\"yaxis\":\"y\",\"type\":\"violin\"},{\"alignmentgroup\":\"True\",\"box\":{\"visible\":true},\"hovertemplate\":\"BodyFat=%{y}<br>Age=%{x}<extra></extra>\",\"legendgroup\":\"29.4\",\"marker\":{\"color\":\"#FECB52\"},\"name\":\"29.4\",\"offsetgroup\":\"29.4\",\"orientation\":\"v\",\"points\":\"all\",\"scalegroup\":\"True\",\"showlegend\":true,\"x\":[43],\"x0\":\" \",\"xaxis\":\"x\",\"y\":[29.4],\"y0\":\" \",\"yaxis\":\"y\",\"type\":\"violin\"},{\"alignmentgroup\":\"True\",\"box\":{\"visible\":true},\"hovertemplate\":\"BodyFat=%{y}<br>Age=%{x}<extra></extra>\",\"legendgroup\":\"22.4\",\"marker\":{\"color\":\"#636efa\"},\"name\":\"22.4\",\"offsetgroup\":\"22.4\",\"orientation\":\"v\",\"points\":\"all\",\"scalegroup\":\"True\",\"showlegend\":true,\"x\":[40],\"x0\":\" \",\"xaxis\":\"x\",\"y\":[22.4],\"y0\":\" \",\"yaxis\":\"y\",\"type\":\"violin\"},{\"alignmentgroup\":\"True\",\"box\":{\"visible\":true},\"hovertemplate\":\"BodyFat=%{y}<br>Age=%{x}<extra></extra>\",\"legendgroup\":\"23.3\",\"marker\":{\"color\":\"#EF553B\"},\"name\":\"23.3\",\"offsetgroup\":\"23.3\",\"orientation\":\"v\",\"points\":\"all\",\"scalegroup\":\"True\",\"showlegend\":true,\"x\":[52],\"x0\":\" \",\"xaxis\":\"x\",\"y\":[23.3],\"y0\":\" \",\"yaxis\":\"y\",\"type\":\"violin\"},{\"alignmentgroup\":\"True\",\"box\":{\"visible\":true},\"hovertemplate\":\"BodyFat=%{y}<br>Age=%{x}<extra></extra>\",\"legendgroup\":\"9.4\",\"marker\":{\"color\":\"#00cc96\"},\"name\":\"9.4\",\"offsetgroup\":\"9.4\",\"orientation\":\"v\",\"points\":\"all\",\"scalegroup\":\"True\",\"showlegend\":true,\"x\":[23,26,31],\"x0\":\" \",\"xaxis\":\"x\",\"y\":[9.4,9.4,9.4],\"y0\":\" \",\"yaxis\":\"y\",\"type\":\"violin\"},{\"alignmentgroup\":\"True\",\"box\":{\"visible\":true},\"hovertemplate\":\"BodyFat=%{y}<br>Age=%{x}<extra></extra>\",\"legendgroup\":\"10.3\",\"marker\":{\"color\":\"#ab63fa\"},\"name\":\"10.3\",\"offsetgroup\":\"10.3\",\"orientation\":\"v\",\"points\":\"all\",\"scalegroup\":\"True\",\"showlegend\":true,\"x\":[23],\"x0\":\" \",\"xaxis\":\"x\",\"y\":[10.3],\"y0\":\" \",\"yaxis\":\"y\",\"type\":\"violin\"},{\"alignmentgroup\":\"True\",\"box\":{\"visible\":true},\"hovertemplate\":\"BodyFat=%{y}<br>Age=%{x}<extra></extra>\",\"legendgroup\":\"14.2\",\"marker\":{\"color\":\"#FFA15A\"},\"name\":\"14.2\",\"offsetgroup\":\"14.2\",\"orientation\":\"v\",\"points\":\"all\",\"scalegroup\":\"True\",\"showlegend\":true,\"x\":[24],\"x0\":\" \",\"xaxis\":\"x\",\"y\":[14.2],\"y0\":\" \",\"yaxis\":\"y\",\"type\":\"violin\"},{\"alignmentgroup\":\"True\",\"box\":{\"visible\":true},\"hovertemplate\":\"BodyFat=%{y}<br>Age=%{x}<extra></extra>\",\"legendgroup\":\"29.6\",\"marker\":{\"color\":\"#19d3f3\"},\"name\":\"29.6\",\"offsetgroup\":\"29.6\",\"orientation\":\"v\",\"points\":\"all\",\"scalegroup\":\"True\",\"showlegend\":true,\"x\":[25],\"x0\":\" \",\"xaxis\":\"x\",\"y\":[29.6],\"y0\":\" \",\"yaxis\":\"y\",\"type\":\"violin\"},{\"alignmentgroup\":\"True\",\"box\":{\"visible\":true},\"hovertemplate\":\"BodyFat=%{y}<br>Age=%{x}<extra></extra>\",\"legendgroup\":\"5.3\",\"marker\":{\"color\":\"#FF6692\"},\"name\":\"5.3\",\"offsetgroup\":\"5.3\",\"orientation\":\"v\",\"points\":\"all\",\"scalegroup\":\"True\",\"showlegend\":true,\"x\":[25],\"x0\":\" \",\"xaxis\":\"x\",\"y\":[5.3],\"y0\":\" \",\"yaxis\":\"y\",\"type\":\"violin\"},{\"alignmentgroup\":\"True\",\"box\":{\"visible\":true},\"hovertemplate\":\"BodyFat=%{y}<br>Age=%{x}<extra></extra>\",\"legendgroup\":\"25.2\",\"marker\":{\"color\":\"#B6E880\"},\"name\":\"25.2\",\"offsetgroup\":\"25.2\",\"orientation\":\"v\",\"points\":\"all\",\"scalegroup\":\"True\",\"showlegend\":true,\"x\":[26,55],\"x0\":\" \",\"xaxis\":\"x\",\"y\":[25.2,25.2],\"y0\":\" \",\"yaxis\":\"y\",\"type\":\"violin\"},{\"alignmentgroup\":\"True\",\"box\":{\"visible\":true},\"hovertemplate\":\"BodyFat=%{y}<br>Age=%{x}<extra></extra>\",\"legendgroup\":\"19.6\",\"marker\":{\"color\":\"#FF97FF\"},\"name\":\"19.6\",\"offsetgroup\":\"19.6\",\"orientation\":\"v\",\"points\":\"all\",\"scalegroup\":\"True\",\"showlegend\":true,\"x\":[26],\"x0\":\" \",\"xaxis\":\"x\",\"y\":[19.6],\"y0\":\" \",\"yaxis\":\"y\",\"type\":\"violin\"},{\"alignmentgroup\":\"True\",\"box\":{\"visible\":true},\"hovertemplate\":\"BodyFat=%{y}<br>Age=%{x}<extra></extra>\",\"legendgroup\":\"10.1\",\"marker\":{\"color\":\"#FECB52\"},\"name\":\"10.1\",\"offsetgroup\":\"10.1\",\"orientation\":\"v\",\"points\":\"all\",\"scalegroup\":\"True\",\"showlegend\":true,\"x\":[27],\"x0\":\" \",\"xaxis\":\"x\",\"y\":[10.1],\"y0\":\" \",\"yaxis\":\"y\",\"type\":\"violin\"},{\"alignmentgroup\":\"True\",\"box\":{\"visible\":true},\"hovertemplate\":\"BodyFat=%{y}<br>Age=%{x}<extra></extra>\",\"legendgroup\":\"21.0\",\"marker\":{\"color\":\"#636efa\"},\"name\":\"21.0\",\"offsetgroup\":\"21.0\",\"orientation\":\"v\",\"points\":\"all\",\"scalegroup\":\"True\",\"showlegend\":true,\"x\":[27],\"x0\":\" \",\"xaxis\":\"x\",\"y\":[21.0],\"y0\":\" \",\"yaxis\":\"y\",\"type\":\"violin\"},{\"alignmentgroup\":\"True\",\"box\":{\"visible\":true},\"hovertemplate\":\"BodyFat=%{y}<br>Age=%{x}<extra></extra>\",\"legendgroup\":\"31.2\",\"marker\":{\"color\":\"#EF553B\"},\"name\":\"31.2\",\"offsetgroup\":\"31.2\",\"orientation\":\"v\",\"points\":\"all\",\"scalegroup\":\"True\",\"showlegend\":true,\"x\":[28],\"x0\":\" \",\"xaxis\":\"x\",\"y\":[31.2],\"y0\":\" \",\"yaxis\":\"y\",\"type\":\"violin\"},{\"alignmentgroup\":\"True\",\"box\":{\"visible\":true},\"hovertemplate\":\"BodyFat=%{y}<br>Age=%{x}<extra></extra>\",\"legendgroup\":\"10.0\",\"marker\":{\"color\":\"#00cc96\"},\"name\":\"10.0\",\"offsetgroup\":\"10.0\",\"orientation\":\"v\",\"points\":\"all\",\"scalegroup\":\"True\",\"showlegend\":true,\"x\":[28],\"x0\":\" \",\"xaxis\":\"x\",\"y\":[10.0],\"y0\":\" \",\"yaxis\":\"y\",\"type\":\"violin\"},{\"alignmentgroup\":\"True\",\"box\":{\"visible\":true},\"hovertemplate\":\"BodyFat=%{y}<br>Age=%{x}<extra></extra>\",\"legendgroup\":\"12.5\",\"marker\":{\"color\":\"#ab63fa\"},\"name\":\"12.5\",\"offsetgroup\":\"12.5\",\"orientation\":\"v\",\"points\":\"all\",\"scalegroup\":\"True\",\"showlegend\":true,\"x\":[30,55],\"x0\":\" \",\"xaxis\":\"x\",\"y\":[12.5,12.5],\"y0\":\" \",\"yaxis\":\"y\",\"type\":\"violin\"},{\"alignmentgroup\":\"True\",\"box\":{\"visible\":true},\"hovertemplate\":\"BodyFat=%{y}<br>Age=%{x}<extra></extra>\",\"legendgroup\":\"22.5\",\"marker\":{\"color\":\"#FFA15A\"},\"name\":\"22.5\",\"offsetgroup\":\"22.5\",\"orientation\":\"v\",\"points\":\"all\",\"scalegroup\":\"True\",\"showlegend\":true,\"x\":[31,38],\"x0\":\" \",\"xaxis\":\"x\",\"y\":[22.5,22.5],\"y0\":\" \",\"yaxis\":\"y\",\"type\":\"violin\"},{\"alignmentgroup\":\"True\",\"box\":{\"visible\":true},\"hovertemplate\":\"BodyFat=%{y}<br>Age=%{x}<extra></extra>\",\"legendgroup\":\"14.6\",\"marker\":{\"color\":\"#19d3f3\"},\"name\":\"14.6\",\"offsetgroup\":\"14.6\",\"orientation\":\"v\",\"points\":\"all\",\"scalegroup\":\"True\",\"showlegend\":true,\"x\":[33],\"x0\":\" \",\"xaxis\":\"x\",\"y\":[14.6],\"y0\":\" \",\"yaxis\":\"y\",\"type\":\"violin\"},{\"alignmentgroup\":\"True\",\"box\":{\"visible\":true},\"hovertemplate\":\"BodyFat=%{y}<br>Age=%{x}<extra></extra>\",\"legendgroup\":\"13.0\",\"marker\":{\"color\":\"#FF6692\"},\"name\":\"13.0\",\"offsetgroup\":\"13.0\",\"orientation\":\"v\",\"points\":\"all\",\"scalegroup\":\"True\",\"showlegend\":true,\"x\":[33],\"x0\":\" \",\"xaxis\":\"x\",\"y\":[13.0],\"y0\":\" \",\"yaxis\":\"y\",\"type\":\"violin\"},{\"alignmentgroup\":\"True\",\"box\":{\"visible\":true},\"hovertemplate\":\"BodyFat=%{y}<br>Age=%{x}<extra></extra>\",\"legendgroup\":\"15.1\",\"marker\":{\"color\":\"#B6E880\"},\"name\":\"15.1\",\"offsetgroup\":\"15.1\",\"orientation\":\"v\",\"points\":\"all\",\"scalegroup\":\"True\",\"showlegend\":true,\"x\":[34],\"x0\":\" \",\"xaxis\":\"x\",\"y\":[15.1],\"y0\":\" \",\"yaxis\":\"y\",\"type\":\"violin\"},{\"alignmentgroup\":\"True\",\"box\":{\"visible\":true},\"hovertemplate\":\"BodyFat=%{y}<br>Age=%{x}<extra></extra>\",\"legendgroup\":\"27.3\",\"marker\":{\"color\":\"#FF97FF\"},\"name\":\"27.3\",\"offsetgroup\":\"27.3\",\"orientation\":\"v\",\"points\":\"all\",\"scalegroup\":\"True\",\"showlegend\":true,\"x\":[34,63],\"x0\":\" \",\"xaxis\":\"x\",\"y\":[27.3,27.3],\"y0\":\" \",\"yaxis\":\"y\",\"type\":\"violin\"},{\"alignmentgroup\":\"True\",\"box\":{\"visible\":true},\"hovertemplate\":\"BodyFat=%{y}<br>Age=%{x}<extra></extra>\",\"legendgroup\":\"20.3\",\"marker\":{\"color\":\"#FECB52\"},\"name\":\"20.3\",\"offsetgroup\":\"20.3\",\"orientation\":\"v\",\"points\":\"all\",\"scalegroup\":\"True\",\"showlegend\":true,\"x\":[35],\"x0\":\" \",\"xaxis\":\"x\",\"y\":[20.3],\"y0\":\" \",\"yaxis\":\"y\",\"type\":\"violin\"},{\"alignmentgroup\":\"True\",\"box\":{\"visible\":true},\"hovertemplate\":\"BodyFat=%{y}<br>Age=%{x}<extra></extra>\",\"legendgroup\":\"34.3\",\"marker\":{\"color\":\"#636efa\"},\"name\":\"34.3\",\"offsetgroup\":\"34.3\",\"orientation\":\"v\",\"points\":\"all\",\"scalegroup\":\"True\",\"showlegend\":true,\"x\":[35],\"x0\":\" \",\"xaxis\":\"x\",\"y\":[34.3],\"y0\":\" \",\"yaxis\":\"y\",\"type\":\"violin\"},{\"alignmentgroup\":\"True\",\"box\":{\"visible\":true},\"hovertemplate\":\"BodyFat=%{y}<br>Age=%{x}<extra></extra>\",\"legendgroup\":\"3.0\",\"marker\":{\"color\":\"#EF553B\"},\"name\":\"3.0\",\"offsetgroup\":\"3.0\",\"orientation\":\"v\",\"points\":\"all\",\"scalegroup\":\"True\",\"showlegend\":true,\"x\":[35],\"x0\":\" \",\"xaxis\":\"x\",\"y\":[3.0],\"y0\":\" \",\"yaxis\":\"y\",\"type\":\"violin\"},{\"alignmentgroup\":\"True\",\"box\":{\"visible\":true},\"hovertemplate\":\"BodyFat=%{y}<br>Age=%{x}<extra></extra>\",\"legendgroup\":\"0.7\",\"marker\":{\"color\":\"#00cc96\"},\"name\":\"0.7\",\"offsetgroup\":\"0.7\",\"orientation\":\"v\",\"points\":\"all\",\"scalegroup\":\"True\",\"showlegend\":true,\"x\":[35],\"x0\":\" \",\"xaxis\":\"x\",\"y\":[0.7],\"y0\":\" \",\"yaxis\":\"y\",\"type\":\"violin\"},{\"alignmentgroup\":\"True\",\"box\":{\"visible\":true},\"hovertemplate\":\"BodyFat=%{y}<br>Age=%{x}<extra></extra>\",\"legendgroup\":\"16.9\",\"marker\":{\"color\":\"#ab63fa\"},\"name\":\"16.9\",\"offsetgroup\":\"16.9\",\"orientation\":\"v\",\"points\":\"all\",\"scalegroup\":\"True\",\"showlegend\":true,\"x\":[36,39],\"x0\":\" \",\"xaxis\":\"x\",\"y\":[16.9,16.9],\"y0\":\" \",\"yaxis\":\"y\",\"type\":\"violin\"},{\"alignmentgroup\":\"True\",\"box\":{\"visible\":true},\"hovertemplate\":\"BodyFat=%{y}<br>Age=%{x}<extra></extra>\",\"legendgroup\":\"9.9\",\"marker\":{\"color\":\"#FFA15A\"},\"name\":\"9.9\",\"offsetgroup\":\"9.9\",\"orientation\":\"v\",\"points\":\"all\",\"scalegroup\":\"True\",\"showlegend\":true,\"x\":[37],\"x0\":\" \",\"xaxis\":\"x\",\"y\":[9.9],\"y0\":\" \",\"yaxis\":\"y\",\"type\":\"violin\"},{\"alignmentgroup\":\"True\",\"box\":{\"visible\":true},\"hovertemplate\":\"BodyFat=%{y}<br>Age=%{x}<extra></extra>\",\"legendgroup\":\"13.1\",\"marker\":{\"color\":\"#19d3f3\"},\"name\":\"13.1\",\"offsetgroup\":\"13.1\",\"orientation\":\"v\",\"points\":\"all\",\"scalegroup\":\"True\",\"showlegend\":true,\"x\":[37],\"x0\":\" \",\"xaxis\":\"x\",\"y\":[13.1],\"y0\":\" \",\"yaxis\":\"y\",\"type\":\"violin\"},{\"alignmentgroup\":\"True\",\"box\":{\"visible\":true},\"hovertemplate\":\"BodyFat=%{y}<br>Age=%{x}<extra></extra>\",\"legendgroup\":\"29.9\",\"marker\":{\"color\":\"#FF6692\"},\"name\":\"29.9\",\"offsetgroup\":\"29.9\",\"orientation\":\"v\",\"points\":\"all\",\"scalegroup\":\"True\",\"showlegend\":true,\"x\":[37,65],\"x0\":\" \",\"xaxis\":\"x\",\"y\":[29.9,29.9],\"y0\":\" \",\"yaxis\":\"y\",\"type\":\"violin\"},{\"alignmentgroup\":\"True\",\"box\":{\"visible\":true},\"hovertemplate\":\"BodyFat=%{y}<br>Age=%{x}<extra></extra>\",\"legendgroup\":\"0.0\",\"marker\":{\"color\":\"#B6E880\"},\"name\":\"0.0\",\"offsetgroup\":\"0.0\",\"orientation\":\"v\",\"points\":\"all\",\"scalegroup\":\"True\",\"showlegend\":true,\"x\":[40],\"x0\":\" \",\"xaxis\":\"x\",\"y\":[0.0],\"y0\":\" \",\"yaxis\":\"y\",\"type\":\"violin\"},{\"alignmentgroup\":\"True\",\"box\":{\"visible\":true},\"hovertemplate\":\"BodyFat=%{y}<br>Age=%{x}<extra></extra>\",\"legendgroup\":\"11.5\",\"marker\":{\"color\":\"#FF97FF\"},\"name\":\"11.5\",\"offsetgroup\":\"11.5\",\"orientation\":\"v\",\"points\":\"all\",\"scalegroup\":\"True\",\"showlegend\":true,\"x\":[40,54],\"x0\":\" \",\"xaxis\":\"x\",\"y\":[11.5,11.5],\"y0\":\" \",\"yaxis\":\"y\",\"type\":\"violin\"},{\"alignmentgroup\":\"True\",\"box\":{\"visible\":true},\"hovertemplate\":\"BodyFat=%{y}<br>Age=%{x}<extra></extra>\",\"legendgroup\":\"12.1\",\"marker\":{\"color\":\"#FECB52\"},\"name\":\"12.1\",\"offsetgroup\":\"12.1\",\"orientation\":\"v\",\"points\":\"all\",\"scalegroup\":\"True\",\"showlegend\":true,\"x\":[40],\"x0\":\" \",\"xaxis\":\"x\",\"y\":[12.1],\"y0\":\" \",\"yaxis\":\"y\",\"type\":\"violin\"},{\"alignmentgroup\":\"True\",\"box\":{\"visible\":true},\"hovertemplate\":\"BodyFat=%{y}<br>Age=%{x}<extra></extra>\",\"legendgroup\":\"8.6\",\"marker\":{\"color\":\"#636efa\"},\"name\":\"8.6\",\"offsetgroup\":\"8.6\",\"orientation\":\"v\",\"points\":\"all\",\"scalegroup\":\"True\",\"showlegend\":true,\"x\":[40],\"x0\":\" \",\"xaxis\":\"x\",\"y\":[8.6],\"y0\":\" \",\"yaxis\":\"y\",\"type\":\"violin\"},{\"alignmentgroup\":\"True\",\"box\":{\"visible\":true},\"hovertemplate\":\"BodyFat=%{y}<br>Age=%{x}<extra></extra>\",\"legendgroup\":\"11.4\",\"marker\":{\"color\":\"#EF553B\"},\"name\":\"11.4\",\"offsetgroup\":\"11.4\",\"orientation\":\"v\",\"points\":\"all\",\"scalegroup\":\"True\",\"showlegend\":true,\"x\":[41],\"x0\":\" \",\"xaxis\":\"x\",\"y\":[11.4],\"y0\":\" \",\"yaxis\":\"y\",\"type\":\"violin\"},{\"alignmentgroup\":\"True\",\"box\":{\"visible\":true},\"hovertemplate\":\"BodyFat=%{y}<br>Age=%{x}<extra></extra>\",\"legendgroup\":\"38.1\",\"marker\":{\"color\":\"#00cc96\"},\"name\":\"38.1\",\"offsetgroup\":\"38.1\",\"orientation\":\"v\",\"points\":\"all\",\"scalegroup\":\"True\",\"showlegend\":true,\"x\":[42],\"x0\":\" \",\"xaxis\":\"x\",\"y\":[38.1],\"y0\":\" \",\"yaxis\":\"y\",\"type\":\"violin\"},{\"alignmentgroup\":\"True\",\"box\":{\"visible\":true},\"hovertemplate\":\"BodyFat=%{y}<br>Age=%{x}<extra></extra>\",\"legendgroup\":\"15.9\",\"marker\":{\"color\":\"#ab63fa\"},\"name\":\"15.9\",\"offsetgroup\":\"15.9\",\"orientation\":\"v\",\"points\":\"all\",\"scalegroup\":\"True\",\"showlegend\":true,\"x\":[42],\"x0\":\" \",\"xaxis\":\"x\",\"y\":[15.9],\"y0\":\" \",\"yaxis\":\"y\",\"type\":\"violin\"},{\"alignmentgroup\":\"True\",\"box\":{\"visible\":true},\"hovertemplate\":\"BodyFat=%{y}<br>Age=%{x}<extra></extra>\",\"legendgroup\":\"24.7\",\"marker\":{\"color\":\"#FFA15A\"},\"name\":\"24.7\",\"offsetgroup\":\"24.7\",\"orientation\":\"v\",\"points\":\"all\",\"scalegroup\":\"True\",\"showlegend\":true,\"x\":[42],\"x0\":\" \",\"xaxis\":\"x\",\"y\":[24.7],\"y0\":\" \",\"yaxis\":\"y\",\"type\":\"violin\"},{\"alignmentgroup\":\"True\",\"box\":{\"visible\":true},\"hovertemplate\":\"BodyFat=%{y}<br>Age=%{x}<extra></extra>\",\"legendgroup\":\"22.8\",\"marker\":{\"color\":\"#19d3f3\"},\"name\":\"22.8\",\"offsetgroup\":\"22.8\",\"orientation\":\"v\",\"points\":\"all\",\"scalegroup\":\"True\",\"showlegend\":true,\"x\":[42],\"x0\":\" \",\"xaxis\":\"x\",\"y\":[22.8],\"y0\":\" \",\"yaxis\":\"y\",\"type\":\"violin\"},{\"alignmentgroup\":\"True\",\"box\":{\"visible\":true},\"hovertemplate\":\"BodyFat=%{y}<br>Age=%{x}<extra></extra>\",\"legendgroup\":\"25.5\",\"marker\":{\"color\":\"#FF6692\"},\"name\":\"25.5\",\"offsetgroup\":\"25.5\",\"orientation\":\"v\",\"points\":\"all\",\"scalegroup\":\"True\",\"showlegend\":true,\"x\":[42],\"x0\":\" \",\"xaxis\":\"x\",\"y\":[25.5],\"y0\":\" \",\"yaxis\":\"y\",\"type\":\"violin\"},{\"alignmentgroup\":\"True\",\"box\":{\"visible\":true},\"hovertemplate\":\"BodyFat=%{y}<br>Age=%{x}<extra></extra>\",\"legendgroup\":\"22.0\",\"marker\":{\"color\":\"#B6E880\"},\"name\":\"22.0\",\"offsetgroup\":\"22.0\",\"orientation\":\"v\",\"points\":\"all\",\"scalegroup\":\"True\",\"showlegend\":true,\"x\":[42],\"x0\":\" \",\"xaxis\":\"x\",\"y\":[22.0],\"y0\":\" \",\"yaxis\":\"y\",\"type\":\"violin\"},{\"alignmentgroup\":\"True\",\"box\":{\"visible\":true},\"hovertemplate\":\"BodyFat=%{y}<br>Age=%{x}<extra></extra>\",\"legendgroup\":\"12.2\",\"marker\":{\"color\":\"#FF97FF\"},\"name\":\"12.2\",\"offsetgroup\":\"12.2\",\"orientation\":\"v\",\"points\":\"all\",\"scalegroup\":\"True\",\"showlegend\":true,\"x\":[43],\"x0\":\" \",\"xaxis\":\"x\",\"y\":[12.2],\"y0\":\" \",\"yaxis\":\"y\",\"type\":\"violin\"},{\"alignmentgroup\":\"True\",\"box\":{\"visible\":true},\"hovertemplate\":\"BodyFat=%{y}<br>Age=%{x}<extra></extra>\",\"legendgroup\":\"6.0\",\"marker\":{\"color\":\"#FECB52\"},\"name\":\"6.0\",\"offsetgroup\":\"6.0\",\"orientation\":\"v\",\"points\":\"all\",\"scalegroup\":\"True\",\"showlegend\":true,\"x\":[44],\"x0\":\" \",\"xaxis\":\"x\",\"y\":[6.0],\"y0\":\" \",\"yaxis\":\"y\",\"type\":\"violin\"},{\"alignmentgroup\":\"True\",\"box\":{\"visible\":true},\"hovertemplate\":\"BodyFat=%{y}<br>Age=%{x}<extra></extra>\",\"legendgroup\":\"34.8\",\"marker\":{\"color\":\"#636efa\"},\"name\":\"34.8\",\"offsetgroup\":\"34.8\",\"orientation\":\"v\",\"points\":\"all\",\"scalegroup\":\"True\",\"showlegend\":true,\"x\":[44],\"x0\":\" \",\"xaxis\":\"x\",\"y\":[34.8],\"y0\":\" \",\"yaxis\":\"y\",\"type\":\"violin\"},{\"alignmentgroup\":\"True\",\"box\":{\"visible\":true},\"hovertemplate\":\"BodyFat=%{y}<br>Age=%{x}<extra></extra>\",\"legendgroup\":\"16.6\",\"marker\":{\"color\":\"#EF553B\"},\"name\":\"16.6\",\"offsetgroup\":\"16.6\",\"orientation\":\"v\",\"points\":\"all\",\"scalegroup\":\"True\",\"showlegend\":true,\"x\":[44],\"x0\":\" \",\"xaxis\":\"x\",\"y\":[16.6],\"y0\":\" \",\"yaxis\":\"y\",\"type\":\"violin\"},{\"alignmentgroup\":\"True\",\"box\":{\"visible\":true},\"hovertemplate\":\"BodyFat=%{y}<br>Age=%{x}<extra></extra>\",\"legendgroup\":\"32.8\",\"marker\":{\"color\":\"#00cc96\"},\"name\":\"32.8\",\"offsetgroup\":\"32.8\",\"orientation\":\"v\",\"points\":\"all\",\"scalegroup\":\"True\",\"showlegend\":true,\"x\":[47],\"x0\":\" \",\"xaxis\":\"x\",\"y\":[32.8],\"y0\":\" \",\"yaxis\":\"y\",\"type\":\"violin\"},{\"alignmentgroup\":\"True\",\"box\":{\"visible\":true},\"hovertemplate\":\"BodyFat=%{y}<br>Age=%{x}<extra></extra>\",\"legendgroup\":\"19.5\",\"marker\":{\"color\":\"#ab63fa\"},\"name\":\"19.5\",\"offsetgroup\":\"19.5\",\"orientation\":\"v\",\"points\":\"all\",\"scalegroup\":\"True\",\"showlegend\":true,\"x\":[49,50],\"x0\":\" \",\"xaxis\":\"x\",\"y\":[19.5,19.5],\"y0\":\" \",\"yaxis\":\"y\",\"type\":\"violin\"},{\"alignmentgroup\":\"True\",\"box\":{\"visible\":true},\"hovertemplate\":\"BodyFat=%{y}<br>Age=%{x}<extra></extra>\",\"legendgroup\":\"18.7\",\"marker\":{\"color\":\"#FFA15A\"},\"name\":\"18.7\",\"offsetgroup\":\"18.7\",\"orientation\":\"v\",\"points\":\"all\",\"scalegroup\":\"True\",\"showlegend\":true,\"x\":[50],\"x0\":\" \",\"xaxis\":\"x\",\"y\":[18.7],\"y0\":\" \",\"yaxis\":\"y\",\"type\":\"violin\"},{\"alignmentgroup\":\"True\",\"box\":{\"visible\":true},\"hovertemplate\":\"BodyFat=%{y}<br>Age=%{x}<extra></extra>\",\"legendgroup\":\"47.5\",\"marker\":{\"color\":\"#19d3f3\"},\"name\":\"47.5\",\"offsetgroup\":\"47.5\",\"orientation\":\"v\",\"points\":\"all\",\"scalegroup\":\"True\",\"showlegend\":true,\"x\":[51],\"x0\":\" \",\"xaxis\":\"x\",\"y\":[47.5],\"y0\":\" \",\"yaxis\":\"y\",\"type\":\"violin\"},{\"alignmentgroup\":\"True\",\"box\":{\"visible\":true},\"hovertemplate\":\"BodyFat=%{y}<br>Age=%{x}<extra></extra>\",\"legendgroup\":\"7.5\",\"marker\":{\"color\":\"#FF6692\"},\"name\":\"7.5\",\"offsetgroup\":\"7.5\",\"orientation\":\"v\",\"points\":\"all\",\"scalegroup\":\"True\",\"showlegend\":true,\"x\":[51],\"x0\":\" \",\"xaxis\":\"x\",\"y\":[7.5],\"y0\":\" \",\"yaxis\":\"y\",\"type\":\"violin\"},{\"alignmentgroup\":\"True\",\"box\":{\"visible\":true},\"hovertemplate\":\"BodyFat=%{y}<br>Age=%{x}<extra></extra>\",\"legendgroup\":\"24.5\",\"marker\":{\"color\":\"#B6E880\"},\"name\":\"24.5\",\"offsetgroup\":\"24.5\",\"orientation\":\"v\",\"points\":\"all\",\"scalegroup\":\"True\",\"showlegend\":true,\"x\":[52],\"x0\":\" \",\"xaxis\":\"x\",\"y\":[24.5],\"y0\":\" \",\"yaxis\":\"y\",\"type\":\"violin\"},{\"alignmentgroup\":\"True\",\"box\":{\"visible\":true},\"hovertemplate\":\"BodyFat=%{y}<br>Age=%{x}<extra></extra>\",\"legendgroup\":\"15.0\",\"marker\":{\"color\":\"#FF97FF\"},\"name\":\"15.0\",\"offsetgroup\":\"15.0\",\"orientation\":\"v\",\"points\":\"all\",\"scalegroup\":\"True\",\"showlegend\":true,\"x\":[53],\"x0\":\" \",\"xaxis\":\"x\",\"y\":[15.0],\"y0\":\" \",\"yaxis\":\"y\",\"type\":\"violin\"},{\"alignmentgroup\":\"True\",\"box\":{\"visible\":true},\"hovertemplate\":\"BodyFat=%{y}<br>Age=%{x}<extra></extra>\",\"legendgroup\":\"26.0\",\"marker\":{\"color\":\"#FECB52\"},\"name\":\"26.0\",\"offsetgroup\":\"26.0\",\"orientation\":\"v\",\"points\":\"all\",\"scalegroup\":\"True\",\"showlegend\":true,\"x\":[54,72],\"x0\":\" \",\"xaxis\":\"x\",\"y\":[26.0,26.0],\"y0\":\" \",\"yaxis\":\"y\",\"type\":\"violin\"},{\"alignmentgroup\":\"True\",\"box\":{\"visible\":true},\"hovertemplate\":\"BodyFat=%{y}<br>Age=%{x}<extra></extra>\",\"legendgroup\":\"5.2\",\"marker\":{\"color\":\"#636efa\"},\"name\":\"5.2\",\"offsetgroup\":\"5.2\",\"orientation\":\"v\",\"points\":\"all\",\"scalegroup\":\"True\",\"showlegend\":true,\"x\":[55],\"x0\":\" \",\"xaxis\":\"x\",\"y\":[5.2],\"y0\":\" \",\"yaxis\":\"y\",\"type\":\"violin\"},{\"alignmentgroup\":\"True\",\"box\":{\"visible\":true},\"hovertemplate\":\"BodyFat=%{y}<br>Age=%{x}<extra></extra>\",\"legendgroup\":\"10.9\",\"marker\":{\"color\":\"#EF553B\"},\"name\":\"10.9\",\"offsetgroup\":\"10.9\",\"orientation\":\"v\",\"points\":\"all\",\"scalegroup\":\"True\",\"showlegend\":true,\"x\":[55],\"x0\":\" \",\"xaxis\":\"x\",\"y\":[10.9],\"y0\":\" \",\"yaxis\":\"y\",\"type\":\"violin\"},{\"alignmentgroup\":\"True\",\"box\":{\"visible\":true},\"hovertemplate\":\"BodyFat=%{y}<br>Age=%{x}<extra></extra>\",\"legendgroup\":\"14.8\",\"marker\":{\"color\":\"#00cc96\"},\"name\":\"14.8\",\"offsetgroup\":\"14.8\",\"orientation\":\"v\",\"points\":\"all\",\"scalegroup\":\"True\",\"showlegend\":true,\"x\":[55],\"x0\":\" \",\"xaxis\":\"x\",\"y\":[14.8],\"y0\":\" \",\"yaxis\":\"y\",\"type\":\"violin\"},{\"alignmentgroup\":\"True\",\"box\":{\"visible\":true},\"hovertemplate\":\"BodyFat=%{y}<br>Age=%{x}<extra></extra>\",\"legendgroup\":\"17.0\",\"marker\":{\"color\":\"#ab63fa\"},\"name\":\"17.0\",\"offsetgroup\":\"17.0\",\"orientation\":\"v\",\"points\":\"all\",\"scalegroup\":\"True\",\"showlegend\":true,\"x\":[56,65],\"x0\":\" \",\"xaxis\":\"x\",\"y\":[17.0,17.0],\"y0\":\" \",\"yaxis\":\"y\",\"type\":\"violin\"},{\"alignmentgroup\":\"True\",\"box\":{\"visible\":true},\"hovertemplate\":\"BodyFat=%{y}<br>Age=%{x}<extra></extra>\",\"legendgroup\":\"10.6\",\"marker\":{\"color\":\"#FFA15A\"},\"name\":\"10.6\",\"offsetgroup\":\"10.6\",\"orientation\":\"v\",\"points\":\"all\",\"scalegroup\":\"True\",\"showlegend\":true,\"x\":[57],\"x0\":\" \",\"xaxis\":\"x\",\"y\":[10.6],\"y0\":\" \",\"yaxis\":\"y\",\"type\":\"violin\"},{\"alignmentgroup\":\"True\",\"box\":{\"visible\":true},\"hovertemplate\":\"BodyFat=%{y}<br>Age=%{x}<extra></extra>\",\"legendgroup\":\"16.1\",\"marker\":{\"color\":\"#19d3f3\"},\"name\":\"16.1\",\"offsetgroup\":\"16.1\",\"orientation\":\"v\",\"points\":\"all\",\"scalegroup\":\"True\",\"showlegend\":true,\"x\":[57],\"x0\":\" \",\"xaxis\":\"x\",\"y\":[16.1],\"y0\":\" \",\"yaxis\":\"y\",\"type\":\"violin\"},{\"alignmentgroup\":\"True\",\"box\":{\"visible\":true},\"hovertemplate\":\"BodyFat=%{y}<br>Age=%{x}<extra></extra>\",\"legendgroup\":\"15.4\",\"marker\":{\"color\":\"#FF6692\"},\"name\":\"15.4\",\"offsetgroup\":\"15.4\",\"orientation\":\"v\",\"points\":\"all\",\"scalegroup\":\"True\",\"showlegend\":true,\"x\":[58],\"x0\":\" \",\"xaxis\":\"x\",\"y\":[15.4],\"y0\":\" \",\"yaxis\":\"y\",\"type\":\"violin\"},{\"alignmentgroup\":\"True\",\"box\":{\"visible\":true},\"hovertemplate\":\"BodyFat=%{y}<br>Age=%{x}<extra></extra>\",\"legendgroup\":\"18.6\",\"marker\":{\"color\":\"#B6E880\"},\"name\":\"18.6\",\"offsetgroup\":\"18.6\",\"orientation\":\"v\",\"points\":\"all\",\"scalegroup\":\"True\",\"showlegend\":true,\"x\":[62],\"x0\":\" \",\"xaxis\":\"x\",\"y\":[18.6],\"y0\":\" \",\"yaxis\":\"y\",\"type\":\"violin\"},{\"alignmentgroup\":\"True\",\"box\":{\"visible\":true},\"hovertemplate\":\"BodyFat=%{y}<br>Age=%{x}<extra></extra>\",\"legendgroup\":\"24.8\",\"marker\":{\"color\":\"#FF97FF\"},\"name\":\"24.8\",\"offsetgroup\":\"24.8\",\"orientation\":\"v\",\"points\":\"all\",\"scalegroup\":\"True\",\"showlegend\":true,\"x\":[62],\"x0\":\" \",\"xaxis\":\"x\",\"y\":[24.8],\"y0\":\" \",\"yaxis\":\"y\",\"type\":\"violin\"},{\"alignmentgroup\":\"True\",\"box\":{\"visible\":true},\"hovertemplate\":\"BodyFat=%{y}<br>Age=%{x}<extra></extra>\",\"legendgroup\":\"35.0\",\"marker\":{\"color\":\"#FECB52\"},\"name\":\"35.0\",\"offsetgroup\":\"35.0\",\"orientation\":\"v\",\"points\":\"all\",\"scalegroup\":\"True\",\"showlegend\":true,\"x\":[65],\"x0\":\" \",\"xaxis\":\"x\",\"y\":[35.0],\"y0\":\" \",\"yaxis\":\"y\",\"type\":\"violin\"},{\"alignmentgroup\":\"True\",\"box\":{\"visible\":true},\"hovertemplate\":\"BodyFat=%{y}<br>Age=%{x}<extra></extra>\",\"legendgroup\":\"30.4\",\"marker\":{\"color\":\"#636efa\"},\"name\":\"30.4\",\"offsetgroup\":\"30.4\",\"orientation\":\"v\",\"points\":\"all\",\"scalegroup\":\"True\",\"showlegend\":true,\"x\":[66],\"x0\":\" \",\"xaxis\":\"x\",\"y\":[30.4],\"y0\":\" \",\"yaxis\":\"y\",\"type\":\"violin\"},{\"alignmentgroup\":\"True\",\"box\":{\"visible\":true},\"hovertemplate\":\"BodyFat=%{y}<br>Age=%{x}<extra></extra>\",\"legendgroup\":\"30.2\",\"marker\":{\"color\":\"#EF553B\"},\"name\":\"30.2\",\"offsetgroup\":\"30.2\",\"orientation\":\"v\",\"points\":\"all\",\"scalegroup\":\"True\",\"showlegend\":true,\"x\":[69],\"x0\":\" \",\"xaxis\":\"x\",\"y\":[30.2],\"y0\":\" \",\"yaxis\":\"y\",\"type\":\"violin\"},{\"alignmentgroup\":\"True\",\"box\":{\"visible\":true},\"hovertemplate\":\"BodyFat=%{y}<br>Age=%{x}<extra></extra>\",\"legendgroup\":\"11.0\",\"marker\":{\"color\":\"#00cc96\"},\"name\":\"11.0\",\"offsetgroup\":\"11.0\",\"orientation\":\"v\",\"points\":\"all\",\"scalegroup\":\"True\",\"showlegend\":true,\"x\":[70],\"x0\":\" \",\"xaxis\":\"x\",\"y\":[11.0],\"y0\":\" \",\"yaxis\":\"y\",\"type\":\"violin\"},{\"alignmentgroup\":\"True\",\"box\":{\"visible\":true},\"hovertemplate\":\"BodyFat=%{y}<br>Age=%{x}<extra></extra>\",\"legendgroup\":\"33.6\",\"marker\":{\"color\":\"#ab63fa\"},\"name\":\"33.6\",\"offsetgroup\":\"33.6\",\"orientation\":\"v\",\"points\":\"all\",\"scalegroup\":\"True\",\"showlegend\":true,\"x\":[72],\"x0\":\" \",\"xaxis\":\"x\",\"y\":[33.6],\"y0\":\" \",\"yaxis\":\"y\",\"type\":\"violin\"},{\"alignmentgroup\":\"True\",\"box\":{\"visible\":true},\"hovertemplate\":\"BodyFat=%{y}<br>Age=%{x}<extra></extra>\",\"legendgroup\":\"29.3\",\"marker\":{\"color\":\"#FFA15A\"},\"name\":\"29.3\",\"offsetgroup\":\"29.3\",\"orientation\":\"v\",\"points\":\"all\",\"scalegroup\":\"True\",\"showlegend\":true,\"x\":[72],\"x0\":\" \",\"xaxis\":\"x\",\"y\":[29.3],\"y0\":\" \",\"yaxis\":\"y\",\"type\":\"violin\"},{\"alignmentgroup\":\"True\",\"box\":{\"visible\":true},\"hovertemplate\":\"BodyFat=%{y}<br>Age=%{x}<extra></extra>\",\"legendgroup\":\"31.9\",\"marker\":{\"color\":\"#19d3f3\"},\"name\":\"31.9\",\"offsetgroup\":\"31.9\",\"orientation\":\"v\",\"points\":\"all\",\"scalegroup\":\"True\",\"showlegend\":true,\"x\":[74],\"x0\":\" \",\"xaxis\":\"x\",\"y\":[31.9],\"y0\":\" \",\"yaxis\":\"y\",\"type\":\"violin\"}],                        {\"template\":{\"data\":{\"histogram2dcontour\":[{\"type\":\"histogram2dcontour\",\"colorbar\":{\"outlinewidth\":0,\"ticks\":\"\"},\"colorscale\":[[0.0,\"#0d0887\"],[0.1111111111111111,\"#46039f\"],[0.2222222222222222,\"#7201a8\"],[0.3333333333333333,\"#9c179e\"],[0.4444444444444444,\"#bd3786\"],[0.5555555555555556,\"#d8576b\"],[0.6666666666666666,\"#ed7953\"],[0.7777777777777778,\"#fb9f3a\"],[0.8888888888888888,\"#fdca26\"],[1.0,\"#f0f921\"]]}],\"choropleth\":[{\"type\":\"choropleth\",\"colorbar\":{\"outlinewidth\":0,\"ticks\":\"\"}}],\"histogram2d\":[{\"type\":\"histogram2d\",\"colorbar\":{\"outlinewidth\":0,\"ticks\":\"\"},\"colorscale\":[[0.0,\"#0d0887\"],[0.1111111111111111,\"#46039f\"],[0.2222222222222222,\"#7201a8\"],[0.3333333333333333,\"#9c179e\"],[0.4444444444444444,\"#bd3786\"],[0.5555555555555556,\"#d8576b\"],[0.6666666666666666,\"#ed7953\"],[0.7777777777777778,\"#fb9f3a\"],[0.8888888888888888,\"#fdca26\"],[1.0,\"#f0f921\"]]}],\"heatmap\":[{\"type\":\"heatmap\",\"colorbar\":{\"outlinewidth\":0,\"ticks\":\"\"},\"colorscale\":[[0.0,\"#0d0887\"],[0.1111111111111111,\"#46039f\"],[0.2222222222222222,\"#7201a8\"],[0.3333333333333333,\"#9c179e\"],[0.4444444444444444,\"#bd3786\"],[0.5555555555555556,\"#d8576b\"],[0.6666666666666666,\"#ed7953\"],[0.7777777777777778,\"#fb9f3a\"],[0.8888888888888888,\"#fdca26\"],[1.0,\"#f0f921\"]]}],\"heatmapgl\":[{\"type\":\"heatmapgl\",\"colorbar\":{\"outlinewidth\":0,\"ticks\":\"\"},\"colorscale\":[[0.0,\"#0d0887\"],[0.1111111111111111,\"#46039f\"],[0.2222222222222222,\"#7201a8\"],[0.3333333333333333,\"#9c179e\"],[0.4444444444444444,\"#bd3786\"],[0.5555555555555556,\"#d8576b\"],[0.6666666666666666,\"#ed7953\"],[0.7777777777777778,\"#fb9f3a\"],[0.8888888888888888,\"#fdca26\"],[1.0,\"#f0f921\"]]}],\"contourcarpet\":[{\"type\":\"contourcarpet\",\"colorbar\":{\"outlinewidth\":0,\"ticks\":\"\"}}],\"contour\":[{\"type\":\"contour\",\"colorbar\":{\"outlinewidth\":0,\"ticks\":\"\"},\"colorscale\":[[0.0,\"#0d0887\"],[0.1111111111111111,\"#46039f\"],[0.2222222222222222,\"#7201a8\"],[0.3333333333333333,\"#9c179e\"],[0.4444444444444444,\"#bd3786\"],[0.5555555555555556,\"#d8576b\"],[0.6666666666666666,\"#ed7953\"],[0.7777777777777778,\"#fb9f3a\"],[0.8888888888888888,\"#fdca26\"],[1.0,\"#f0f921\"]]}],\"surface\":[{\"type\":\"surface\",\"colorbar\":{\"outlinewidth\":0,\"ticks\":\"\"},\"colorscale\":[[0.0,\"#0d0887\"],[0.1111111111111111,\"#46039f\"],[0.2222222222222222,\"#7201a8\"],[0.3333333333333333,\"#9c179e\"],[0.4444444444444444,\"#bd3786\"],[0.5555555555555556,\"#d8576b\"],[0.6666666666666666,\"#ed7953\"],[0.7777777777777778,\"#fb9f3a\"],[0.8888888888888888,\"#fdca26\"],[1.0,\"#f0f921\"]]}],\"mesh3d\":[{\"type\":\"mesh3d\",\"colorbar\":{\"outlinewidth\":0,\"ticks\":\"\"}}],\"scatter\":[{\"fillpattern\":{\"fillmode\":\"overlay\",\"size\":10,\"solidity\":0.2},\"type\":\"scatter\"}],\"parcoords\":[{\"type\":\"parcoords\",\"line\":{\"colorbar\":{\"outlinewidth\":0,\"ticks\":\"\"}}}],\"scatterpolargl\":[{\"type\":\"scatterpolargl\",\"marker\":{\"colorbar\":{\"outlinewidth\":0,\"ticks\":\"\"}}}],\"bar\":[{\"error_x\":{\"color\":\"#2a3f5f\"},\"error_y\":{\"color\":\"#2a3f5f\"},\"marker\":{\"line\":{\"color\":\"#E5ECF6\",\"width\":0.5},\"pattern\":{\"fillmode\":\"overlay\",\"size\":10,\"solidity\":0.2}},\"type\":\"bar\"}],\"scattergeo\":[{\"type\":\"scattergeo\",\"marker\":{\"colorbar\":{\"outlinewidth\":0,\"ticks\":\"\"}}}],\"scatterpolar\":[{\"type\":\"scatterpolar\",\"marker\":{\"colorbar\":{\"outlinewidth\":0,\"ticks\":\"\"}}}],\"histogram\":[{\"marker\":{\"pattern\":{\"fillmode\":\"overlay\",\"size\":10,\"solidity\":0.2}},\"type\":\"histogram\"}],\"scattergl\":[{\"type\":\"scattergl\",\"marker\":{\"colorbar\":{\"outlinewidth\":0,\"ticks\":\"\"}}}],\"scatter3d\":[{\"type\":\"scatter3d\",\"line\":{\"colorbar\":{\"outlinewidth\":0,\"ticks\":\"\"}},\"marker\":{\"colorbar\":{\"outlinewidth\":0,\"ticks\":\"\"}}}],\"scattermapbox\":[{\"type\":\"scattermapbox\",\"marker\":{\"colorbar\":{\"outlinewidth\":0,\"ticks\":\"\"}}}],\"scatterternary\":[{\"type\":\"scatterternary\",\"marker\":{\"colorbar\":{\"outlinewidth\":0,\"ticks\":\"\"}}}],\"scattercarpet\":[{\"type\":\"scattercarpet\",\"marker\":{\"colorbar\":{\"outlinewidth\":0,\"ticks\":\"\"}}}],\"carpet\":[{\"aaxis\":{\"endlinecolor\":\"#2a3f5f\",\"gridcolor\":\"white\",\"linecolor\":\"white\",\"minorgridcolor\":\"white\",\"startlinecolor\":\"#2a3f5f\"},\"baxis\":{\"endlinecolor\":\"#2a3f5f\",\"gridcolor\":\"white\",\"linecolor\":\"white\",\"minorgridcolor\":\"white\",\"startlinecolor\":\"#2a3f5f\"},\"type\":\"carpet\"}],\"table\":[{\"cells\":{\"fill\":{\"color\":\"#EBF0F8\"},\"line\":{\"color\":\"white\"}},\"header\":{\"fill\":{\"color\":\"#C8D4E3\"},\"line\":{\"color\":\"white\"}},\"type\":\"table\"}],\"barpolar\":[{\"marker\":{\"line\":{\"color\":\"#E5ECF6\",\"width\":0.5},\"pattern\":{\"fillmode\":\"overlay\",\"size\":10,\"solidity\":0.2}},\"type\":\"barpolar\"}],\"pie\":[{\"automargin\":true,\"type\":\"pie\"}]},\"layout\":{\"autotypenumbers\":\"strict\",\"colorway\":[\"#636efa\",\"#EF553B\",\"#00cc96\",\"#ab63fa\",\"#FFA15A\",\"#19d3f3\",\"#FF6692\",\"#B6E880\",\"#FF97FF\",\"#FECB52\"],\"font\":{\"color\":\"#2a3f5f\"},\"hovermode\":\"closest\",\"hoverlabel\":{\"align\":\"left\"},\"paper_bgcolor\":\"white\",\"plot_bgcolor\":\"#E5ECF6\",\"polar\":{\"bgcolor\":\"#E5ECF6\",\"angularaxis\":{\"gridcolor\":\"white\",\"linecolor\":\"white\",\"ticks\":\"\"},\"radialaxis\":{\"gridcolor\":\"white\",\"linecolor\":\"white\",\"ticks\":\"\"}},\"ternary\":{\"bgcolor\":\"#E5ECF6\",\"aaxis\":{\"gridcolor\":\"white\",\"linecolor\":\"white\",\"ticks\":\"\"},\"baxis\":{\"gridcolor\":\"white\",\"linecolor\":\"white\",\"ticks\":\"\"},\"caxis\":{\"gridcolor\":\"white\",\"linecolor\":\"white\",\"ticks\":\"\"}},\"coloraxis\":{\"colorbar\":{\"outlinewidth\":0,\"ticks\":\"\"}},\"colorscale\":{\"sequential\":[[0.0,\"#0d0887\"],[0.1111111111111111,\"#46039f\"],[0.2222222222222222,\"#7201a8\"],[0.3333333333333333,\"#9c179e\"],[0.4444444444444444,\"#bd3786\"],[0.5555555555555556,\"#d8576b\"],[0.6666666666666666,\"#ed7953\"],[0.7777777777777778,\"#fb9f3a\"],[0.8888888888888888,\"#fdca26\"],[1.0,\"#f0f921\"]],\"sequentialminus\":[[0.0,\"#0d0887\"],[0.1111111111111111,\"#46039f\"],[0.2222222222222222,\"#7201a8\"],[0.3333333333333333,\"#9c179e\"],[0.4444444444444444,\"#bd3786\"],[0.5555555555555556,\"#d8576b\"],[0.6666666666666666,\"#ed7953\"],[0.7777777777777778,\"#fb9f3a\"],[0.8888888888888888,\"#fdca26\"],[1.0,\"#f0f921\"]],\"diverging\":[[0,\"#8e0152\"],[0.1,\"#c51b7d\"],[0.2,\"#de77ae\"],[0.3,\"#f1b6da\"],[0.4,\"#fde0ef\"],[0.5,\"#f7f7f7\"],[0.6,\"#e6f5d0\"],[0.7,\"#b8e186\"],[0.8,\"#7fbc41\"],[0.9,\"#4d9221\"],[1,\"#276419\"]]},\"xaxis\":{\"gridcolor\":\"white\",\"linecolor\":\"white\",\"ticks\":\"\",\"title\":{\"standoff\":15},\"zerolinecolor\":\"white\",\"automargin\":true,\"zerolinewidth\":2},\"yaxis\":{\"gridcolor\":\"white\",\"linecolor\":\"white\",\"ticks\":\"\",\"title\":{\"standoff\":15},\"zerolinecolor\":\"white\",\"automargin\":true,\"zerolinewidth\":2},\"scene\":{\"xaxis\":{\"backgroundcolor\":\"#E5ECF6\",\"gridcolor\":\"white\",\"linecolor\":\"white\",\"showbackground\":true,\"ticks\":\"\",\"zerolinecolor\":\"white\",\"gridwidth\":2},\"yaxis\":{\"backgroundcolor\":\"#E5ECF6\",\"gridcolor\":\"white\",\"linecolor\":\"white\",\"showbackground\":true,\"ticks\":\"\",\"zerolinecolor\":\"white\",\"gridwidth\":2},\"zaxis\":{\"backgroundcolor\":\"#E5ECF6\",\"gridcolor\":\"white\",\"linecolor\":\"white\",\"showbackground\":true,\"ticks\":\"\",\"zerolinecolor\":\"white\",\"gridwidth\":2}},\"shapedefaults\":{\"line\":{\"color\":\"#2a3f5f\"}},\"annotationdefaults\":{\"arrowcolor\":\"#2a3f5f\",\"arrowhead\":0,\"arrowwidth\":1},\"geo\":{\"bgcolor\":\"white\",\"landcolor\":\"#E5ECF6\",\"subunitcolor\":\"white\",\"showland\":true,\"showlakes\":true,\"lakecolor\":\"white\"},\"title\":{\"x\":0.05},\"mapbox\":{\"style\":\"light\"}}},\"xaxis\":{\"anchor\":\"y\",\"domain\":[0.0,1.0],\"title\":{\"text\":\"Age\"}},\"yaxis\":{\"anchor\":\"x\",\"domain\":[0.0,1.0],\"title\":{\"text\":\"BodyFat\"},\"categoryorder\":\"array\",\"categoryarray\":[31.9,29.3,33.6,11.0,30.2,30.4,35.0,24.8,18.6,15.4,16.1,10.6,17.0,14.8,10.9,5.2,26.0,15.0,24.5,7.5,47.5,18.7,19.5,32.8,16.6,34.8,6.0,12.2,22.0,25.5,22.8,24.7,15.9,38.1,11.4,8.6,12.1,11.5,0.0,29.9,13.1,9.9,16.9,0.7,3.0,34.3,20.3,27.3,15.1,13.0,14.6,22.5,12.5,10.0,31.2,21.0,10.1,19.6,25.2,5.3,29.6,14.2,10.3,9.4,23.3,22.4,29.4,21.8,27.1,24.4,23.6,22.7,27.2,17.5,14.7,27.9,18.1,16.7,26.7,19.7,21.4,17.3,18.3,19.3,18.0,25.4,22.3,20.1,17.8,11.3,9.6,17.4,9.0,24.9,18.2,20.5,14.1,8.3,23.1,14.9,26.6,27.0,18.4,26.8,31.4,18.8,22.2,18.5,13.5,8.5,24.3,12.9,13.8,21.5,30.0,25.8,30.7,29.8,26.1,24.6,31.5,28.0,20.4,22.6,3.9,6.3,8.0,6.6,10.2,4.0,13.6,5.6,10.8,13.9,7.7,32.0,31.6,32.9,34.5,32.6,35.2,28.4,24.2,40.1,32.3,21.3,11.8,5.7,11.9,8.8,7.9,3.7,14.0,17.7,15.6,15.2,19.1,16.5,16.0,22.9,29.0,22.1,21.2,20.8,7.8,7.1,11.7,4.1,12.4,19.2,20.9,28.7,10.4,25.3,6.1,12.3]},\"legend\":{\"title\":{\"text\":\"BodyFat\"},\"tracegroupgap\":0},\"margin\":{\"t\":60},\"violinmode\":\"group\"},                        {\"responsive\": true}                    ).then(function(){\n",
       "                            \n",
       "var gd = document.getElementById('2704f541-9d5b-4172-9da1-7aa0401fdeeb');\n",
       "var x = new MutationObserver(function (mutations, observer) {{\n",
       "        var display = window.getComputedStyle(gd).display;\n",
       "        if (!display || display === 'none') {{\n",
       "            console.log([gd, 'removed!']);\n",
       "            Plotly.purge(gd);\n",
       "            observer.disconnect();\n",
       "        }}\n",
       "}});\n",
       "\n",
       "// Listen for the removal of the full notebook cells\n",
       "var notebookContainer = gd.closest('#notebook-container');\n",
       "if (notebookContainer) {{\n",
       "    x.observe(notebookContainer, {childList: true});\n",
       "}}\n",
       "\n",
       "// Listen for the clearing of the current output cell\n",
       "var outputEl = gd.closest('.output');\n",
       "if (outputEl) {{\n",
       "    x.observe(outputEl, {childList: true});\n",
       "}}\n",
       "\n",
       "                        })                };                });            </script>        </div>"
      ]
     },
     "metadata": {},
     "output_type": "display_data"
    }
   ],
   "source": [
    "BodyFat_Age = data[['Age', 'BodyFat']]\n",
    "\n",
    "import plotly.express as px\n",
    "\n",
    "fig = px.violin(BodyFat_Age, y=\"BodyFat\", x=\"Age\", color=\"BodyFat\", box=True, points=\"all\",\n",
    "          hover_data=BodyFat_Age.columns)\n",
    "fig.show()"
   ]
  },
  {
   "cell_type": "code",
   "execution_count": null,
   "id": "4832e64d",
   "metadata": {},
   "outputs": [],
   "source": []
  }
 ],
 "metadata": {
  "kernelspec": {
   "display_name": "Python 3 (ipykernel)",
   "language": "python",
   "name": "python3"
  },
  "language_info": {
   "codemirror_mode": {
    "name": "ipython",
    "version": 3
   },
   "file_extension": ".py",
   "mimetype": "text/x-python",
   "name": "python",
   "nbconvert_exporter": "python",
   "pygments_lexer": "ipython3",
   "version": "3.9.13"
  }
 },
 "nbformat": 4,
 "nbformat_minor": 5
}
