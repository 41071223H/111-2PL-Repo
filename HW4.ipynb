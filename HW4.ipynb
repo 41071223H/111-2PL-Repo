{
 "cells": [
  {
   "cell_type": "code",
   "execution_count": 1,
   "id": "b59bb3ae",
   "metadata": {},
   "outputs": [
    {
     "name": "stdout",
     "output_type": "stream",
     "text": [
      "Requirement already satisfied: jieba in c:\\users\\user\\anaconda3\\lib\\site-packages (0.42.1)\n"
     ]
    }
   ],
   "source": [
    "!pip install jieba"
   ]
  },
  {
   "cell_type": "code",
   "execution_count": 2,
   "id": "749995b8",
   "metadata": {
    "scrolled": true
   },
   "outputs": [],
   "source": [
    "import urllib.request as req\n",
    "import requests\n",
    "import csv\n",
    "import json\n",
    "import pandas as pd\n",
    "import numpy as np\n",
    "import time\n",
    "from time import sleep \n",
    "from bs4 import BeautifulSoup\n",
    "import jieba\n",
    "import jieba.analyse\n",
    "\n",
    "#抓取的網站https://www.ptt.cc/bbs/car/M.1647286984.A.DD2.html\n",
    "url = 'https://www.ptt.cc/bbs/car/M.1647286984.A.DD2.html'"
   ]
  },
  {
   "cell_type": "code",
   "execution_count": 3,
   "id": "f6fa83c3",
   "metadata": {},
   "outputs": [
    {
     "name": "stdout",
     "output_type": "stream",
     "text": [
      "請求成功：200\n"
     ]
    }
   ],
   "source": [
    "headers = {\n",
    "    \"User-Agent\": \"Mozilla/5.0 (Windows NT 10.0; Win64; x64) AppleWebKit/537.36 (KHTML, like Gecko) Chrome/58.0.3029.110 Safari/537.3\"\n",
    "}\n",
    "response = requests.get(url, headers=headers)\n",
    "soup = BeautifulSoup(response.text, \"html.parser\")\n",
    "\n",
    "if response.status_code == 200:\n",
    "    print(f'請求成功：{response.status_code}')\n",
    "else:\n",
    "    print(f'請求失敗：{response.status_code}')"
   ]
  },
  {
   "cell_type": "code",
   "execution_count": 4,
   "id": "9444f0eb",
   "metadata": {},
   "outputs": [
    {
     "name": "stdout",
     "output_type": "stream",
     "text": [
      "Requirement already satisfied: requests in c:\\users\\user\\anaconda3\\lib\\site-packages (2.28.1)\n",
      "Requirement already satisfied: beautifulsoup4 in c:\\users\\user\\anaconda3\\lib\\site-packages (4.11.1)\n",
      "Requirement already satisfied: certifi>=2017.4.17 in c:\\users\\user\\anaconda3\\lib\\site-packages (from requests) (2022.9.14)\n",
      "Requirement already satisfied: charset-normalizer<3,>=2 in c:\\users\\user\\anaconda3\\lib\\site-packages (from requests) (2.0.4)\n",
      "Requirement already satisfied: idna<4,>=2.5 in c:\\users\\user\\anaconda3\\lib\\site-packages (from requests) (3.3)\n",
      "Requirement already satisfied: urllib3<1.27,>=1.21.1 in c:\\users\\user\\anaconda3\\lib\\site-packages (from requests) (1.26.11)\n",
      "Requirement already satisfied: soupsieve>1.2 in c:\\users\\user\\anaconda3\\lib\\site-packages (from beautifulsoup4) (2.3.1)\n",
      "Note: you may need to restart the kernel to use updated packages.\n"
     ]
    }
   ],
   "source": [
    "pip install requests beautifulsoup4"
   ]
  },
  {
   "cell_type": "code",
   "execution_count": 5,
   "id": "424ecf2d",
   "metadata": {},
   "outputs": [
    {
     "name": "stdout",
     "output_type": "stream",
     "text": [
      "標題: 無法找到標題\n",
      "內容: 無法找到內容\n"
     ]
    }
   ],
   "source": [
    "# 解析文章標題\n",
    "title_element = soup.select_one(\"div.title\")\n",
    "title = title_element.text.strip() if title_element else \"無法找到標題\"\n",
    "\n",
    "# 解析文章內容\n",
    "content_element = soup.select_one(\"div#main-content\")\n",
    "content = content_element.text.strip() if content_element else \"無法找到內容\"\n",
    "\n",
    "# 列印文章標題和內容\n",
    "print(\"標題:\", title)\n",
    "print(\"內容:\", content)"
   ]
  },
  {
   "cell_type": "code",
   "execution_count": 6,
   "id": "9586b057",
   "metadata": {},
   "outputs": [],
   "source": [
    "import csv\n",
    "# 標題和內容\n",
    "title = \"文章標題\"\n",
    "content = \"文章內容\"\n",
    "\n",
    "# 寫入 CSV 檔案\n",
    "with open(\"article.csv\", \"w\", newline=\"\", encoding=\"utf-8\") as file:\n",
    "    writer = csv.writer(file)\n",
    "    writer.writerow([\"標題\", \"內容\"])  # 寫入標題欄位\n",
    "    writer.writerow([title, content])  # 寫入資料行"
   ]
  },
  {
   "cell_type": "code",
   "execution_count": 7,
   "id": "fc8ba447",
   "metadata": {},
   "outputs": [],
   "source": [
    "#com = soup.find_all(class_='f3 push-content')\n",
    "#print(com)"
   ]
  },
  {
   "cell_type": "code",
   "execution_count": 8,
   "id": "ec784cbd",
   "metadata": {},
   "outputs": [],
   "source": [
    "# 提取留言\n",
    "text = [span.text for span in soup.find_all('span', class_='f3 push-content')]\n",
    "\n",
    "for item in text:\n",
    "      print(item)    \n",
    "\n",
    "#寫入csv檔        \n",
    "with open(\"comment.csv\", \"w\",encoding=\"utf-8\") as file:\n",
    "    writer = csv.writer(file)\n",
    "    for item in text:\n",
    "        writer.writerow([item])# 寫入資料行"
   ]
  },
  {
   "cell_type": "code",
   "execution_count": 9,
   "id": "6619a522",
   "metadata": {},
   "outputs": [
    {
     "ename": "StopIteration",
     "evalue": "",
     "output_type": "error",
     "traceback": [
      "\u001b[1;31m---------------------------------------------------------------------------\u001b[0m",
      "\u001b[1;31mStopIteration\u001b[0m                             Traceback (most recent call last)",
      "\u001b[1;32m~\\AppData\\Local\\Temp\\ipykernel_32604\\2309823472.py\u001b[0m in \u001b[0;36m<module>\u001b[1;34m\u001b[0m\n\u001b[0;32m      6\u001b[0m \u001b[1;32mwith\u001b[0m \u001b[0mopen\u001b[0m\u001b[1;33m(\u001b[0m\u001b[1;34m\"comment.csv\"\u001b[0m\u001b[1;33m,\u001b[0m \u001b[1;34m\"r\"\u001b[0m\u001b[1;33m,\u001b[0m \u001b[0mnewline\u001b[0m\u001b[1;33m=\u001b[0m\u001b[1;34m\"\"\u001b[0m\u001b[1;33m,\u001b[0m \u001b[0mencoding\u001b[0m\u001b[1;33m=\u001b[0m\u001b[1;34m\"utf-8\"\u001b[0m\u001b[1;33m)\u001b[0m \u001b[1;32mas\u001b[0m \u001b[0mfile\u001b[0m\u001b[1;33m:\u001b[0m\u001b[1;33m\u001b[0m\u001b[1;33m\u001b[0m\u001b[0m\n\u001b[0;32m      7\u001b[0m     \u001b[0mreader\u001b[0m \u001b[1;33m=\u001b[0m \u001b[0mcsv\u001b[0m\u001b[1;33m.\u001b[0m\u001b[0mreader\u001b[0m\u001b[1;33m(\u001b[0m\u001b[0mfile\u001b[0m\u001b[1;33m)\u001b[0m\u001b[1;33m\u001b[0m\u001b[1;33m\u001b[0m\u001b[0m\n\u001b[1;32m----> 8\u001b[1;33m     \u001b[0mnext\u001b[0m\u001b[1;33m(\u001b[0m\u001b[0mreader\u001b[0m\u001b[1;33m)\u001b[0m  \u001b[1;31m# 跳過標題欄位\u001b[0m\u001b[1;33m\u001b[0m\u001b[1;33m\u001b[0m\u001b[0m\n\u001b[0m\u001b[0;32m      9\u001b[0m     \u001b[1;32mfor\u001b[0m \u001b[0mrow\u001b[0m \u001b[1;32min\u001b[0m \u001b[0mreader\u001b[0m\u001b[1;33m:\u001b[0m\u001b[1;33m\u001b[0m\u001b[1;33m\u001b[0m\u001b[0m\n\u001b[0;32m     10\u001b[0m         \u001b[1;32mif\u001b[0m \u001b[0mrow\u001b[0m\u001b[1;33m:\u001b[0m\u001b[1;33m\u001b[0m\u001b[1;33m\u001b[0m\u001b[0m\n",
      "\u001b[1;31mStopIteration\u001b[0m: "
     ]
    }
   ],
   "source": [
    "import csv\n",
    "import random\n",
    "\n",
    "# 讀取留言檔案\n",
    "com = list()\n",
    "with open(\"comment.csv\", \"r\", newline=\"\", encoding=\"utf-8\") as file:\n",
    "    reader = csv.reader(file)\n",
    "    next(reader)  # 跳過標題欄位\n",
    "    for row in reader:\n",
    "        if row:\n",
    "            com.append(row[0])  # 假設留言內容在第一個欄位\n",
    "    \n",
    "random.shuffle(com)\n",
    "\n",
    "# 顯示隨機抓取的留言列表\n",
    "for comment in com:\n",
    "    print(comment)"
   ]
  },
  {
   "cell_type": "code",
   "execution_count": null,
   "id": "9a653349",
   "metadata": {},
   "outputs": [],
   "source": [
    "data =com\n",
    "segments = []\n",
    "for comment in data:\n",
    "    seg_list = jieba.lcut(comment)\n",
    "    segments.append(seg_list)\n",
    "\n",
    "# 把 list 轉成 DataFrame\n",
    "df_segments = pd.DataFrame({'seg': segments})\n",
    "\n",
    "# 顯示斷詞結果\n",
    "print(df_segments.head(500))"
   ]
  },
  {
   "cell_type": "code",
   "execution_count": null,
   "id": "575d6bf9",
   "metadata": {},
   "outputs": [],
   "source": [
    "#合成list\n",
    "LIST = df_segments['seg'].to_list()\n",
    "print(LIST)"
   ]
  },
  {
   "cell_type": "code",
   "execution_count": null,
   "id": "e47369a4",
   "metadata": {},
   "outputs": [],
   "source": [
    "#將list內部的元素拆分\n",
    "List = []\n",
    "for key in range(len(LIST)):\n",
    "    for value in LIST[key]:\n",
    "        List.append(value)\n",
    "print(List)"
   ]
  },
  {
   "cell_type": "code",
   "execution_count": null,
   "id": "273f0a3c",
   "metadata": {},
   "outputs": [],
   "source": [
    "results = pd.value_counts(List)\n",
    "results.head(20)"
   ]
  },
  {
   "cell_type": "code",
   "execution_count": null,
   "id": "d3def07f",
   "metadata": {
    "scrolled": false
   },
   "outputs": [],
   "source": [
    "pip install wordcloud"
   ]
  },
  {
   "cell_type": "code",
   "execution_count": null,
   "id": "ef633b33",
   "metadata": {},
   "outputs": [],
   "source": [
    "# 設定停用詞\n",
    "stop_words = open('stop.txt', 'r', encoding='utf-8').read()\n",
    "\n",
    "# 斷詞\n",
    "seg_list = jieba.lcut(' '.join(results.index), cut_all=False)\n",
    "\n",
    "# 篩選停用詞\n",
    "seg_list = [word for word in List if word not in stop_words]\n",
    "#seg_list"
   ]
  },
  {
   "cell_type": "code",
   "execution_count": null,
   "id": "af77840d",
   "metadata": {
    "scrolled": true
   },
   "outputs": [],
   "source": [
    "results2 = pd.value_counts(seg_list)\n",
    "results2.head(10)"
   ]
  },
  {
   "cell_type": "code",
   "execution_count": null,
   "id": "c4427c91",
   "metadata": {},
   "outputs": [],
   "source": [
    "from PIL import Image # PIL：影像處理套件\n",
    "import matplotlib.pyplot as plt\n",
    "from wordcloud import WordCloud,STOPWORDS"
   ]
  },
  {
   "cell_type": "code",
   "execution_count": null,
   "id": "d9cb369b",
   "metadata": {},
   "outputs": [],
   "source": [
    "wc = WordCloud(font_path= \"C:\\Windows\\Fonts\\msjh.ttc\", \n",
    "               background_color=\"white\", \n",
    "               max_words=200)\n",
    "\n",
    "wc.generate_from_frequencies(results2)\n",
    " \n",
    "# 視覺化呈現\n",
    "plt.imshow(wc)\n",
    "plt.axis(\"off\")\n",
    "plt.figure(figsize=(20,30), dpi =20)\n",
    "plt.show()"
   ]
  },
  {
   "cell_type": "code",
   "execution_count": null,
   "id": "e2e32833",
   "metadata": {},
   "outputs": [],
   "source": []
  }
 ],
 "metadata": {
  "kernelspec": {
   "display_name": "Python 3 (ipykernel)",
   "language": "python",
   "name": "python3"
  },
  "language_info": {
   "codemirror_mode": {
    "name": "ipython",
    "version": 3
   },
   "file_extension": ".py",
   "mimetype": "text/x-python",
   "name": "python",
   "nbconvert_exporter": "python",
   "pygments_lexer": "ipython3",
   "version": "3.9.13"
  }
 },
 "nbformat": 4,
 "nbformat_minor": 5
}
