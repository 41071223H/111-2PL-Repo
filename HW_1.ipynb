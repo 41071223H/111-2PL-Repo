{
 "cells": [
  {
   "cell_type": "code",
   "execution_count": 8,
   "id": "c1b6712e",
   "metadata": {
    "scrolled": false
   },
   "outputs": [
    {
     "ename": "FileNotFoundError",
     "evalue": "[Errno 2] No such file or directory: 'bodyfat.csv'",
     "output_type": "error",
     "traceback": [
      "\u001b[1;31m---------------------------------------------------------------------------\u001b[0m",
      "\u001b[1;31mFileNotFoundError\u001b[0m                         Traceback (most recent call last)",
      "\u001b[1;32m~\\AppData\\Local\\Temp\\ipykernel_9792\\1225123760.py\u001b[0m in \u001b[0;36m<module>\u001b[1;34m\u001b[0m\n\u001b[0;32m      1\u001b[0m \u001b[1;32mimport\u001b[0m \u001b[0mpandas\u001b[0m \u001b[1;32mas\u001b[0m \u001b[0mpd\u001b[0m\u001b[1;33m\u001b[0m\u001b[1;33m\u001b[0m\u001b[0m\n\u001b[1;32m----> 2\u001b[1;33m \u001b[0mdf\u001b[0m \u001b[1;33m=\u001b[0m \u001b[0mpd\u001b[0m\u001b[1;33m.\u001b[0m\u001b[0mread_csv\u001b[0m\u001b[1;33m(\u001b[0m\u001b[1;34m'bodyfat.csv'\u001b[0m\u001b[1;33m)\u001b[0m\u001b[1;33m\u001b[0m\u001b[1;33m\u001b[0m\u001b[0m\n\u001b[0m\u001b[0;32m      3\u001b[0m \u001b[0mdf\u001b[0m\u001b[1;33m.\u001b[0m\u001b[0mhead\u001b[0m\u001b[1;33m(\u001b[0m\u001b[1;33m)\u001b[0m\u001b[1;33m\u001b[0m\u001b[1;33m\u001b[0m\u001b[0m\n",
      "\u001b[1;32m~\\anaconda3\\lib\\site-packages\\pandas\\util\\_decorators.py\u001b[0m in \u001b[0;36mwrapper\u001b[1;34m(*args, **kwargs)\u001b[0m\n\u001b[0;32m    309\u001b[0m                     \u001b[0mstacklevel\u001b[0m\u001b[1;33m=\u001b[0m\u001b[0mstacklevel\u001b[0m\u001b[1;33m,\u001b[0m\u001b[1;33m\u001b[0m\u001b[1;33m\u001b[0m\u001b[0m\n\u001b[0;32m    310\u001b[0m                 )\n\u001b[1;32m--> 311\u001b[1;33m             \u001b[1;32mreturn\u001b[0m \u001b[0mfunc\u001b[0m\u001b[1;33m(\u001b[0m\u001b[1;33m*\u001b[0m\u001b[0margs\u001b[0m\u001b[1;33m,\u001b[0m \u001b[1;33m**\u001b[0m\u001b[0mkwargs\u001b[0m\u001b[1;33m)\u001b[0m\u001b[1;33m\u001b[0m\u001b[1;33m\u001b[0m\u001b[0m\n\u001b[0m\u001b[0;32m    312\u001b[0m \u001b[1;33m\u001b[0m\u001b[0m\n\u001b[0;32m    313\u001b[0m         \u001b[1;32mreturn\u001b[0m \u001b[0mwrapper\u001b[0m\u001b[1;33m\u001b[0m\u001b[1;33m\u001b[0m\u001b[0m\n",
      "\u001b[1;32m~\\anaconda3\\lib\\site-packages\\pandas\\io\\parsers\\readers.py\u001b[0m in \u001b[0;36mread_csv\u001b[1;34m(filepath_or_buffer, sep, delimiter, header, names, index_col, usecols, squeeze, prefix, mangle_dupe_cols, dtype, engine, converters, true_values, false_values, skipinitialspace, skiprows, skipfooter, nrows, na_values, keep_default_na, na_filter, verbose, skip_blank_lines, parse_dates, infer_datetime_format, keep_date_col, date_parser, dayfirst, cache_dates, iterator, chunksize, compression, thousands, decimal, lineterminator, quotechar, quoting, doublequote, escapechar, comment, encoding, encoding_errors, dialect, error_bad_lines, warn_bad_lines, on_bad_lines, delim_whitespace, low_memory, memory_map, float_precision, storage_options)\u001b[0m\n\u001b[0;32m    676\u001b[0m     \u001b[0mkwds\u001b[0m\u001b[1;33m.\u001b[0m\u001b[0mupdate\u001b[0m\u001b[1;33m(\u001b[0m\u001b[0mkwds_defaults\u001b[0m\u001b[1;33m)\u001b[0m\u001b[1;33m\u001b[0m\u001b[1;33m\u001b[0m\u001b[0m\n\u001b[0;32m    677\u001b[0m \u001b[1;33m\u001b[0m\u001b[0m\n\u001b[1;32m--> 678\u001b[1;33m     \u001b[1;32mreturn\u001b[0m \u001b[0m_read\u001b[0m\u001b[1;33m(\u001b[0m\u001b[0mfilepath_or_buffer\u001b[0m\u001b[1;33m,\u001b[0m \u001b[0mkwds\u001b[0m\u001b[1;33m)\u001b[0m\u001b[1;33m\u001b[0m\u001b[1;33m\u001b[0m\u001b[0m\n\u001b[0m\u001b[0;32m    679\u001b[0m \u001b[1;33m\u001b[0m\u001b[0m\n\u001b[0;32m    680\u001b[0m \u001b[1;33m\u001b[0m\u001b[0m\n",
      "\u001b[1;32m~\\anaconda3\\lib\\site-packages\\pandas\\io\\parsers\\readers.py\u001b[0m in \u001b[0;36m_read\u001b[1;34m(filepath_or_buffer, kwds)\u001b[0m\n\u001b[0;32m    573\u001b[0m \u001b[1;33m\u001b[0m\u001b[0m\n\u001b[0;32m    574\u001b[0m     \u001b[1;31m# Create the parser.\u001b[0m\u001b[1;33m\u001b[0m\u001b[1;33m\u001b[0m\u001b[0m\n\u001b[1;32m--> 575\u001b[1;33m     \u001b[0mparser\u001b[0m \u001b[1;33m=\u001b[0m \u001b[0mTextFileReader\u001b[0m\u001b[1;33m(\u001b[0m\u001b[0mfilepath_or_buffer\u001b[0m\u001b[1;33m,\u001b[0m \u001b[1;33m**\u001b[0m\u001b[0mkwds\u001b[0m\u001b[1;33m)\u001b[0m\u001b[1;33m\u001b[0m\u001b[1;33m\u001b[0m\u001b[0m\n\u001b[0m\u001b[0;32m    576\u001b[0m \u001b[1;33m\u001b[0m\u001b[0m\n\u001b[0;32m    577\u001b[0m     \u001b[1;32mif\u001b[0m \u001b[0mchunksize\u001b[0m \u001b[1;32mor\u001b[0m \u001b[0miterator\u001b[0m\u001b[1;33m:\u001b[0m\u001b[1;33m\u001b[0m\u001b[1;33m\u001b[0m\u001b[0m\n",
      "\u001b[1;32m~\\anaconda3\\lib\\site-packages\\pandas\\io\\parsers\\readers.py\u001b[0m in \u001b[0;36m__init__\u001b[1;34m(self, f, engine, **kwds)\u001b[0m\n\u001b[0;32m    930\u001b[0m \u001b[1;33m\u001b[0m\u001b[0m\n\u001b[0;32m    931\u001b[0m         \u001b[0mself\u001b[0m\u001b[1;33m.\u001b[0m\u001b[0mhandles\u001b[0m\u001b[1;33m:\u001b[0m \u001b[0mIOHandles\u001b[0m \u001b[1;33m|\u001b[0m \u001b[1;32mNone\u001b[0m \u001b[1;33m=\u001b[0m \u001b[1;32mNone\u001b[0m\u001b[1;33m\u001b[0m\u001b[1;33m\u001b[0m\u001b[0m\n\u001b[1;32m--> 932\u001b[1;33m         \u001b[0mself\u001b[0m\u001b[1;33m.\u001b[0m\u001b[0m_engine\u001b[0m \u001b[1;33m=\u001b[0m \u001b[0mself\u001b[0m\u001b[1;33m.\u001b[0m\u001b[0m_make_engine\u001b[0m\u001b[1;33m(\u001b[0m\u001b[0mf\u001b[0m\u001b[1;33m,\u001b[0m \u001b[0mself\u001b[0m\u001b[1;33m.\u001b[0m\u001b[0mengine\u001b[0m\u001b[1;33m)\u001b[0m\u001b[1;33m\u001b[0m\u001b[1;33m\u001b[0m\u001b[0m\n\u001b[0m\u001b[0;32m    933\u001b[0m \u001b[1;33m\u001b[0m\u001b[0m\n\u001b[0;32m    934\u001b[0m     \u001b[1;32mdef\u001b[0m \u001b[0mclose\u001b[0m\u001b[1;33m(\u001b[0m\u001b[0mself\u001b[0m\u001b[1;33m)\u001b[0m\u001b[1;33m:\u001b[0m\u001b[1;33m\u001b[0m\u001b[1;33m\u001b[0m\u001b[0m\n",
      "\u001b[1;32m~\\anaconda3\\lib\\site-packages\\pandas\\io\\parsers\\readers.py\u001b[0m in \u001b[0;36m_make_engine\u001b[1;34m(self, f, engine)\u001b[0m\n\u001b[0;32m   1214\u001b[0m             \u001b[1;31m# \"Union[str, PathLike[str], ReadCsvBuffer[bytes], ReadCsvBuffer[str]]\"\u001b[0m\u001b[1;33m\u001b[0m\u001b[1;33m\u001b[0m\u001b[0m\n\u001b[0;32m   1215\u001b[0m             \u001b[1;31m# , \"str\", \"bool\", \"Any\", \"Any\", \"Any\", \"Any\", \"Any\"\u001b[0m\u001b[1;33m\u001b[0m\u001b[1;33m\u001b[0m\u001b[0m\n\u001b[1;32m-> 1216\u001b[1;33m             self.handles = get_handle(  # type: ignore[call-overload]\n\u001b[0m\u001b[0;32m   1217\u001b[0m                 \u001b[0mf\u001b[0m\u001b[1;33m,\u001b[0m\u001b[1;33m\u001b[0m\u001b[1;33m\u001b[0m\u001b[0m\n\u001b[0;32m   1218\u001b[0m                 \u001b[0mmode\u001b[0m\u001b[1;33m,\u001b[0m\u001b[1;33m\u001b[0m\u001b[1;33m\u001b[0m\u001b[0m\n",
      "\u001b[1;32m~\\anaconda3\\lib\\site-packages\\pandas\\io\\common.py\u001b[0m in \u001b[0;36mget_handle\u001b[1;34m(path_or_buf, mode, encoding, compression, memory_map, is_text, errors, storage_options)\u001b[0m\n\u001b[0;32m    784\u001b[0m         \u001b[1;32mif\u001b[0m \u001b[0mioargs\u001b[0m\u001b[1;33m.\u001b[0m\u001b[0mencoding\u001b[0m \u001b[1;32mand\u001b[0m \u001b[1;34m\"b\"\u001b[0m \u001b[1;32mnot\u001b[0m \u001b[1;32min\u001b[0m \u001b[0mioargs\u001b[0m\u001b[1;33m.\u001b[0m\u001b[0mmode\u001b[0m\u001b[1;33m:\u001b[0m\u001b[1;33m\u001b[0m\u001b[1;33m\u001b[0m\u001b[0m\n\u001b[0;32m    785\u001b[0m             \u001b[1;31m# Encoding\u001b[0m\u001b[1;33m\u001b[0m\u001b[1;33m\u001b[0m\u001b[0m\n\u001b[1;32m--> 786\u001b[1;33m             handle = open(\n\u001b[0m\u001b[0;32m    787\u001b[0m                 \u001b[0mhandle\u001b[0m\u001b[1;33m,\u001b[0m\u001b[1;33m\u001b[0m\u001b[1;33m\u001b[0m\u001b[0m\n\u001b[0;32m    788\u001b[0m                 \u001b[0mioargs\u001b[0m\u001b[1;33m.\u001b[0m\u001b[0mmode\u001b[0m\u001b[1;33m,\u001b[0m\u001b[1;33m\u001b[0m\u001b[1;33m\u001b[0m\u001b[0m\n",
      "\u001b[1;31mFileNotFoundError\u001b[0m: [Errno 2] No such file or directory: 'bodyfat.csv'"
     ]
    }
   ],
   "source": [
    "import pandas as pd\n",
    "df = pd.read_csv('bodyfat.csv')\n",
    "df.head()"
   ]
  },
  {
   "cell_type": "code",
   "execution_count": 9,
   "id": "7c5e6915",
   "metadata": {
    "scrolled": true
   },
   "outputs": [
    {
     "ename": "NameError",
     "evalue": "name 'df' is not defined",
     "output_type": "error",
     "traceback": [
      "\u001b[1;31m---------------------------------------------------------------------------\u001b[0m",
      "\u001b[1;31mNameError\u001b[0m                                 Traceback (most recent call last)",
      "\u001b[1;32m~\\AppData\\Local\\Temp\\ipykernel_9792\\1134967878.py\u001b[0m in \u001b[0;36m<module>\u001b[1;34m\u001b[0m\n\u001b[1;32m----> 1\u001b[1;33m \u001b[0mcount\u001b[0m \u001b[1;33m=\u001b[0m \u001b[0mlen\u001b[0m\u001b[1;33m(\u001b[0m\u001b[0mdf\u001b[0m\u001b[1;33m[\u001b[0m\u001b[0mdf\u001b[0m\u001b[1;33m[\u001b[0m\u001b[1;34m'BodyFat'\u001b[0m\u001b[1;33m]\u001b[0m \u001b[1;33m>\u001b[0m \u001b[1;36m16\u001b[0m\u001b[1;33m]\u001b[0m\u001b[1;33m)\u001b[0m\u001b[1;33m\u001b[0m\u001b[1;33m\u001b[0m\u001b[0m\n\u001b[0m\u001b[0;32m      2\u001b[0m \u001b[1;33m\u001b[0m\u001b[0m\n\u001b[0;32m      3\u001b[0m \u001b[0mprint\u001b[0m\u001b[1;33m(\u001b[0m\u001b[1;34m'體脂肪率高於16%的人數:'\u001b[0m\u001b[1;33m,\u001b[0m \u001b[0mcount\u001b[0m\u001b[1;33m)\u001b[0m\u001b[1;33m\u001b[0m\u001b[1;33m\u001b[0m\u001b[0m\n",
      "\u001b[1;31mNameError\u001b[0m: name 'df' is not defined"
     ]
    }
   ],
   "source": [
    "count = len(df[df['BodyFat'] > 16])\n",
    "\n",
    "print('體脂肪率高於16%的人數:', count)"
   ]
  },
  {
   "cell_type": "code",
   "execution_count": 3,
   "id": "7bd94e4a",
   "metadata": {},
   "outputs": [
    {
     "name": "stdout",
     "output_type": "stream",
     "text": [
      "體重高於100KG的人數: 19\n"
     ]
    }
   ],
   "source": [
    "count = len(df[df['Weight'] >220 ])\n",
    "\n",
    "print('體重高於100KG的人數:', count)"
   ]
  },
  {
   "cell_type": "code",
   "execution_count": 4,
   "id": "229758ac",
   "metadata": {
    "scrolled": true
   },
   "outputs": [
    {
     "ename": "NameError",
     "evalue": "name 'df' is not defined",
     "output_type": "error",
     "traceback": [
      "\u001b[1;31m---------------------------------------------------------------------------\u001b[0m",
      "\u001b[1;31mNameError\u001b[0m                                 Traceback (most recent call last)",
      "\u001b[1;32m~\\AppData\\Local\\Temp\\ipykernel_9792\\1743998919.py\u001b[0m in \u001b[0;36m<module>\u001b[1;34m\u001b[0m\n\u001b[0;32m      1\u001b[0m \u001b[1;31m# 按照 Age 排列\u001b[0m\u001b[1;33m\u001b[0m\u001b[1;33m\u001b[0m\u001b[0m\n\u001b[1;32m----> 2\u001b[1;33m \u001b[0mdf\u001b[0m \u001b[1;33m=\u001b[0m \u001b[0mdf\u001b[0m\u001b[1;33m.\u001b[0m\u001b[0msort_values\u001b[0m\u001b[1;33m(\u001b[0m\u001b[1;34m'Age'\u001b[0m\u001b[1;33m,\u001b[0m \u001b[0mascending\u001b[0m\u001b[1;33m=\u001b[0m\u001b[1;32mTrue\u001b[0m\u001b[1;33m)\u001b[0m\u001b[1;33m\u001b[0m\u001b[1;33m\u001b[0m\u001b[0m\n\u001b[0m\u001b[0;32m      3\u001b[0m \u001b[1;33m\u001b[0m\u001b[0m\n\u001b[0;32m      4\u001b[0m \u001b[0mprint\u001b[0m\u001b[1;33m(\u001b[0m\u001b[0mdf\u001b[0m\u001b[1;33m)\u001b[0m\u001b[1;33m\u001b[0m\u001b[1;33m\u001b[0m\u001b[0m\n",
      "\u001b[1;31mNameError\u001b[0m: name 'df' is not defined"
     ]
    }
   ],
   "source": [
    "# 按照 Age 排列\n",
    "df = df.sort_values('Age', ascending=True)\n",
    "\n",
    "print(df)"
   ]
  },
  {
   "cell_type": "code",
   "execution_count": 6,
   "id": "02161708",
   "metadata": {},
   "outputs": [
    {
     "name": "stdout",
     "output_type": "stream",
     "text": [
      "     Density  BodyFat  Age     Weight  Height  Neck  Chest  Abdomen    Hip  \\\n",
      "0     1.0708     12.3   23  69.966623   67.75  36.2   93.1     85.2   94.5   \n",
      "1     1.0853      6.1   22  78.584878   72.25  38.5   93.6     83.0   98.7   \n",
      "2     1.0414     25.3   22  69.853225   66.25  34.0   95.8     87.9   99.2   \n",
      "3     1.0751     10.4   26  83.801190   72.25  37.4  101.8     86.4  101.2   \n",
      "4     1.0340     28.7   24  83.574394   71.25  34.4   97.3    100.0  101.9   \n",
      "..       ...      ...  ...        ...     ...   ...    ...      ...    ...   \n",
      "247   1.0736     11.0   70  60.894776   67.00  34.9   89.2     83.6   88.8   \n",
      "248   1.0236     33.6   72  91.172066   69.75  40.9  108.5    105.0  104.5   \n",
      "249   1.0328     29.3   72  84.708375   66.00  38.9  111.1    111.5  101.7   \n",
      "250   1.0399     26.0   72  86.522745   70.50  38.9  108.3    101.3   97.8   \n",
      "251   1.0271     31.9   74  94.120417   70.00  40.8  112.4    108.5  107.1   \n",
      "\n",
      "     Thigh  Knee  Ankle  Biceps  Forearm  Wrist   WeightKg  \n",
      "0     59.0  37.3   21.9    32.0     27.4   17.1  69.966623  \n",
      "1     58.7  37.3   23.4    30.5     28.9   18.2  78.584878  \n",
      "2     59.6  38.9   24.0    28.8     25.2   16.6  69.853225  \n",
      "3     60.1  37.3   22.8    32.4     29.4   18.2  83.801190  \n",
      "4     63.2  42.2   24.0    32.2     27.7   17.7  83.574394  \n",
      "..     ...   ...    ...     ...      ...    ...        ...  \n",
      "247   49.6  34.8   21.5    25.6     25.7   18.5  60.894776  \n",
      "248   59.6  40.8   23.2    35.2     28.6   20.1  91.172066  \n",
      "249   60.3  37.3   21.5    31.3     27.2   18.0  84.708375  \n",
      "250   56.0  41.6   22.7    30.5     29.4   19.8  86.522745  \n",
      "251   59.3  42.2   24.6    33.7     30.0   20.9  94.120417  \n",
      "\n",
      "[252 rows x 16 columns]\n"
     ]
    }
   ],
   "source": [
    "#將Weight轉換成公斤\n",
    "df['Weight'] = df['Weight'] * 0.45359237\n",
    "\n",
    "print(df)"
   ]
  },
  {
   "cell_type": "code",
   "execution_count": 8,
   "id": "fdb666ff",
   "metadata": {
    "scrolled": true
   },
   "outputs": [
    {
     "name": "stdout",
     "output_type": "stream",
     "text": [
      "     Density  BodyFat  Age     Weight   Height  Neck  Chest  Abdomen    Hip  \\\n",
      "0     1.0708     12.3   23  69.966623  172.085  36.2   93.1     85.2   94.5   \n",
      "1     1.0853      6.1   22  78.584878  183.515  38.5   93.6     83.0   98.7   \n",
      "2     1.0414     25.3   22  69.853225  168.275  34.0   95.8     87.9   99.2   \n",
      "3     1.0751     10.4   26  83.801190  183.515  37.4  101.8     86.4  101.2   \n",
      "4     1.0340     28.7   24  83.574394  180.975  34.4   97.3    100.0  101.9   \n",
      "..       ...      ...  ...        ...      ...   ...    ...      ...    ...   \n",
      "247   1.0736     11.0   70  60.894776  170.180  34.9   89.2     83.6   88.8   \n",
      "248   1.0236     33.6   72  91.172066  177.165  40.9  108.5    105.0  104.5   \n",
      "249   1.0328     29.3   72  84.708375  167.640  38.9  111.1    111.5  101.7   \n",
      "250   1.0399     26.0   72  86.522745  179.070  38.9  108.3    101.3   97.8   \n",
      "251   1.0271     31.9   74  94.120417  177.800  40.8  112.4    108.5  107.1   \n",
      "\n",
      "     Thigh  Knee  Ankle  Biceps  Forearm  Wrist   WeightKg  \n",
      "0     59.0  37.3   21.9    32.0     27.4   17.1  69.966623  \n",
      "1     58.7  37.3   23.4    30.5     28.9   18.2  78.584878  \n",
      "2     59.6  38.9   24.0    28.8     25.2   16.6  69.853225  \n",
      "3     60.1  37.3   22.8    32.4     29.4   18.2  83.801190  \n",
      "4     63.2  42.2   24.0    32.2     27.7   17.7  83.574394  \n",
      "..     ...   ...    ...     ...      ...    ...        ...  \n",
      "247   49.6  34.8   21.5    25.6     25.7   18.5  60.894776  \n",
      "248   59.6  40.8   23.2    35.2     28.6   20.1  91.172066  \n",
      "249   60.3  37.3   21.5    31.3     27.2   18.0  84.708375  \n",
      "250   56.0  41.6   22.7    30.5     29.4   19.8  86.522745  \n",
      "251   59.3  42.2   24.6    33.7     30.0   20.9  94.120417  \n",
      "\n",
      "[252 rows x 16 columns]\n"
     ]
    }
   ],
   "source": [
    "#將Height轉換成公分\n",
    "df['Height'] = df['Height'] * 2.54\n",
    "\n",
    "print(df)"
   ]
  },
  {
   "cell_type": "code",
   "execution_count": 9,
   "id": "a6f931e8",
   "metadata": {},
   "outputs": [
    {
     "name": "stdout",
     "output_type": "stream",
     "text": [
      "     Density  BodyFat  Age     Weight   Height  Neck  Chest  Abdomen    Hip  \\\n",
      "0     1.0708     12.3   23  69.966623  172.085  36.2   93.1     85.2   94.5   \n",
      "1     1.0853      6.1   22  78.584878  183.515  38.5   93.6     83.0   98.7   \n",
      "2     1.0414     25.3   22  69.853225  168.275  34.0   95.8     87.9   99.2   \n",
      "3     1.0751     10.4   26  83.801190  183.515  37.4  101.8     86.4  101.2   \n",
      "4     1.0340     28.7   24  83.574394  180.975  34.4   97.3    100.0  101.9   \n",
      "..       ...      ...  ...        ...      ...   ...    ...      ...    ...   \n",
      "247   1.0736     11.0   70  60.894776  170.180  34.9   89.2     83.6   88.8   \n",
      "248   1.0236     33.6   72  91.172066  177.165  40.9  108.5    105.0  104.5   \n",
      "249   1.0328     29.3   72  84.708375  167.640  38.9  111.1    111.5  101.7   \n",
      "250   1.0399     26.0   72  86.522745  179.070  38.9  108.3    101.3   97.8   \n",
      "251   1.0271     31.9   74  94.120417  177.800  40.8  112.4    108.5  107.1   \n",
      "\n",
      "     Thigh  Knee  Ankle  Biceps  Forearm  Wrist   WeightKg        BMI  \n",
      "0     59.0  37.3   21.9    32.0     27.4   17.1  69.966623  23.626799  \n",
      "1     58.7  37.3   23.4    30.5     28.9   18.2  78.584878  23.334358  \n",
      "2     59.6  38.9   24.0    28.8     25.2   16.6  69.853225  24.668757  \n",
      "3     60.1  37.3   22.8    32.4     29.4   18.2  83.801190  24.883247  \n",
      "4     63.2  42.2   24.0    32.2     27.7   17.7  83.574394  25.517379  \n",
      "..     ...   ...    ...     ...      ...    ...        ...        ...  \n",
      "247   49.6  34.8   21.5    25.6     25.7   18.5  60.894776  21.026307  \n",
      "248   59.6  40.8   23.2    35.2     28.6   20.1  91.172066  29.047311  \n",
      "249   60.3  37.3   21.5    31.3     27.2   18.0  84.708375  30.141929  \n",
      "250   56.0  41.6   22.7    30.5     29.4   19.8  86.522745  26.982651  \n",
      "251   59.3  42.2   24.6    33.7     30.0   20.9  94.120417  29.772844  \n",
      "\n",
      "[252 rows x 17 columns]\n"
     ]
    }
   ],
   "source": [
    "#計算BMI\n",
    "df['BMI'] = df['Weight'] / (df['Height'] / 100) ** 2\n",
    "\n",
    "print(df)"
   ]
  },
  {
   "cell_type": "code",
   "execution_count": 15,
   "id": "cbb8116b",
   "metadata": {},
   "outputs": [
    {
     "name": "stdout",
     "output_type": "stream",
     "text": [
      "過輕的人數: 1\n"
     ]
    }
   ],
   "source": [
    "count = len(df[df['BMI'] <18.5 ])\n",
    "\n",
    "print('過輕的人數:', count)"
   ]
  },
  {
   "cell_type": "code",
   "execution_count": 16,
   "id": "2ff2e41e",
   "metadata": {
    "scrolled": true
   },
   "outputs": [
    {
     "name": "stdout",
     "output_type": "stream",
     "text": [
      "健康的人數: 98\n"
     ]
    }
   ],
   "source": [
    "count = len(df[(df['BMI'] >=18.5) & (df['BMI'] <24)])\n",
    "\n",
    "print('健康的人數:', count)"
   ]
  },
  {
   "cell_type": "code",
   "execution_count": 17,
   "id": "b1051487",
   "metadata": {},
   "outputs": [
    {
     "name": "stdout",
     "output_type": "stream",
     "text": [
      "過重的人數: 153\n"
     ]
    }
   ],
   "source": [
    "count = len(df[df['BMI'] >=24 ])\n",
    "\n",
    "print('過重的人數:', count)"
   ]
  },
  {
   "cell_type": "code",
   "execution_count": 18,
   "id": "6e43dca3",
   "metadata": {},
   "outputs": [
    {
     "name": "stdout",
     "output_type": "stream",
     "text": [
      "     Density  BodyFat  Age      Weight   Height  Neck  Chest  Abdomen    Hip  \\\n",
      "181   1.1089      0.0   40   53.750696  172.720  33.8   79.3     69.4   85.0   \n",
      "44    1.0814      7.7   39   56.812444  172.720  31.5   85.1     76.0   88.2   \n",
      "148   1.0873      5.3   25   65.203903  184.150  35.2   92.3     76.5   92.1   \n",
      "152   1.0758     10.1   27   66.224486  183.515  34.1   88.5     72.8   91.1   \n",
      "163   1.0644     15.1   34   63.502932  179.070  36.0   89.2     83.4   89.6   \n",
      "..       ...      ...  ...         ...      ...   ...    ...      ...    ...   \n",
      "241   1.0207     35.0   65  101.831487  173.355  38.8  119.6    118.0  114.3   \n",
      "215   0.9950     47.5   51   99.336729  162.560  41.2  119.8    122.1  112.8   \n",
      "40    1.0217     34.5   45  119.181395  174.625  43.2  128.3    126.2  125.6   \n",
      "38    1.0202     35.2   46  164.722069  183.515  51.2  136.2    148.1  147.7   \n",
      "41    1.0250     32.9   44   92.986436   74.930  36.6  106.0    104.3  115.5   \n",
      "\n",
      "     Thigh  Knee  Ankle  Biceps  Forearm  Wrist    WeightKg         BMI  \\\n",
      "181   47.2  33.5   20.2    27.7     24.6   16.5   53.750696   18.017678   \n",
      "44    50.0  34.7   21.0    26.1     23.1   16.1   56.812444   19.044002   \n",
      "148   51.9  35.7   22.0    25.8     25.2   16.9   65.203903   19.227824   \n",
      "152   53.6  36.8   23.8    27.8     26.3   17.4   66.224486   19.664163   \n",
      "163   52.4  35.6   20.4    28.3     26.2   16.5   63.502932   19.803781   \n",
      "..     ...   ...    ...     ...      ...    ...         ...         ...   \n",
      "241   61.3  42.1   23.4    34.9     30.1   19.4  101.831487   33.885144   \n",
      "215   62.5  36.9   23.6    34.7     29.1   18.4   99.336729   37.590878   \n",
      "40    72.5  39.6   26.6    36.4     32.7   21.4  119.181395   39.083696   \n",
      "38    87.3  49.1   29.6    45.0     29.0   21.4  164.722069   48.911238   \n",
      "41    70.6  42.5   23.7    33.6     28.7   17.4   92.986436  165.618229   \n",
      "\n",
      "     underweight  \n",
      "181            1  \n",
      "44             1  \n",
      "148            1  \n",
      "152            1  \n",
      "163            1  \n",
      "..           ...  \n",
      "241            1  \n",
      "215            1  \n",
      "40             1  \n",
      "38             1  \n",
      "41             1  \n",
      "\n",
      "[252 rows x 18 columns]\n"
     ]
    }
   ],
   "source": [
    "# 按照 BMI 排列\n",
    "df_sorted = df.sort_values('BMI', ascending=True)\n",
    "\n",
    "print(df_sorted)"
   ]
  }
 ],
 "metadata": {
  "kernelspec": {
   "display_name": "Python 3 (ipykernel)",
   "language": "python",
   "name": "python3"
  },
  "language_info": {
   "codemirror_mode": {
    "name": "ipython",
    "version": 3
   },
   "file_extension": ".py",
   "mimetype": "text/x-python",
   "name": "python",
   "nbconvert_exporter": "python",
   "pygments_lexer": "ipython3",
   "version": "3.9.13"
  }
 },
 "nbformat": 4,
 "nbformat_minor": 5
}
